{
  "nbformat": 4,
  "nbformat_minor": 0,
  "metadata": {
    "colab": {
      "name": "BodyModel-Creation.ipynb",
      "provenance": [],
      "include_colab_link": true
    },
    "kernelspec": {
      "display_name": "Python 3 (ipykernel)",
      "language": "python",
      "name": "python3"
    },
    "language_info": {
      "codemirror_mode": {
        "name": "ipython",
        "version": 3
      },
      "file_extension": ".py",
      "mimetype": "text/x-python",
      "name": "python",
      "nbconvert_exporter": "python",
      "pygments_lexer": "ipython3",
      "version": "3.7.9"
    }
  },
  "cells": [
    {
      "cell_type": "markdown",
      "metadata": {
        "id": "view-in-github",
        "colab_type": "text"
      },
      "source": [
        "<a href=\"https://colab.research.google.com/github/ArthurFDLR/pose-classification-kit/blob/master/examples/body_pose_classification.ipynb\" target=\"_parent\"><img src=\"https://colab.research.google.com/assets/colab-badge.svg\" alt=\"Open In Colab\"/></a>"
      ]
    },
    {
      "cell_type": "markdown",
      "metadata": {
        "id": "Gt3BWL5uRUfB"
      },
      "source": [
        "# 🕺 Pose Classification Kit: Body pose classification model creation\n",
        "\n",
        "This Notebook can be used to create Neural Network classifiers running in the [Pose Classification Kit](https://github.com/ArthurFDLR/pose-classification-kit).\n",
        "\n",
        "First, we have to import several libraries to create and train a new model."
      ]
    },
    {
      "cell_type": "code",
      "metadata": {
        "id": "qzConJTSOWl_",
        "outputId": "4b145347-7625-445f-9a41-2b5cd2231977",
        "colab": {
          "base_uri": "https://localhost:8080/"
        }
      },
      "source": [
        "import numpy as np\n",
        "import matplotlib.pyplot as plt\n",
        "import matplotlib.patches as mpatches\n",
        "from matplotlib.lines import Line2D\n",
        "import os\n",
        "\n",
        "try:\n",
        "    import google.colab\n",
        "    IN_COLAB = True\n",
        "except:\n",
        "    IN_COLAB = False\n",
        "\n",
        "if IN_COLAB:\n",
        "    %tensorflow_version 2.x\n",
        "    !pip install pose-classification-kit\n",
        "    \n",
        "import tensorflow\n",
        "from tensorflow import keras\n",
        "from pose_classification_kit.datasets import BODY18, bodyDataset, dataAugmentation\n",
        "\n",
        "print('Available GPU:')\n",
        "!nvidia-smi -L\n",
        "print('\\nTensorFlow use GPU at: {}'.format(tensorflow.test.gpu_device_name()))"
      ],
      "execution_count": 1,
      "outputs": [
        {
          "output_type": "stream",
          "text": [
            "Collecting pose-classification-kit\n",
            "  Downloading pose_classification_kit-1.1.5-py3-none-any.whl (24.2 MB)\n",
            "\u001b[K     |████████████████████████████████| 24.2 MB 23 kB/s \n",
            "\u001b[?25hRequirement already satisfied: pandas<2.0.0,>=1.1.5 in /usr/local/lib/python3.7/dist-packages (from pose-classification-kit) (1.1.5)\n",
            "Requirement already satisfied: numpy<1.20.0,>=1.19.2 in /usr/local/lib/python3.7/dist-packages (from pose-classification-kit) (1.19.5)\n",
            "Requirement already satisfied: tensorflow in /usr/local/lib/python3.7/dist-packages (from pose-classification-kit) (2.5.0)\n",
            "Requirement already satisfied: pytz>=2017.2 in /usr/local/lib/python3.7/dist-packages (from pandas<2.0.0,>=1.1.5->pose-classification-kit) (2018.9)\n",
            "Requirement already satisfied: python-dateutil>=2.7.3 in /usr/local/lib/python3.7/dist-packages (from pandas<2.0.0,>=1.1.5->pose-classification-kit) (2.8.1)\n",
            "Requirement already satisfied: six>=1.5 in /usr/local/lib/python3.7/dist-packages (from python-dateutil>=2.7.3->pandas<2.0.0,>=1.1.5->pose-classification-kit) (1.15.0)\n",
            "Requirement already satisfied: absl-py~=0.10 in /usr/local/lib/python3.7/dist-packages (from tensorflow->pose-classification-kit) (0.12.0)\n",
            "Requirement already satisfied: tensorboard~=2.5 in /usr/local/lib/python3.7/dist-packages (from tensorflow->pose-classification-kit) (2.5.0)\n",
            "Requirement already satisfied: flatbuffers~=1.12.0 in /usr/local/lib/python3.7/dist-packages (from tensorflow->pose-classification-kit) (1.12)\n",
            "Requirement already satisfied: google-pasta~=0.2 in /usr/local/lib/python3.7/dist-packages (from tensorflow->pose-classification-kit) (0.2.0)\n",
            "Requirement already satisfied: typing-extensions~=3.7.4 in /usr/local/lib/python3.7/dist-packages (from tensorflow->pose-classification-kit) (3.7.4.3)\n",
            "Requirement already satisfied: wheel~=0.35 in /usr/local/lib/python3.7/dist-packages (from tensorflow->pose-classification-kit) (0.36.2)\n",
            "Requirement already satisfied: keras-nightly~=2.5.0.dev in /usr/local/lib/python3.7/dist-packages (from tensorflow->pose-classification-kit) (2.5.0.dev2021032900)\n",
            "Requirement already satisfied: wrapt~=1.12.1 in /usr/local/lib/python3.7/dist-packages (from tensorflow->pose-classification-kit) (1.12.1)\n",
            "Requirement already satisfied: grpcio~=1.34.0 in /usr/local/lib/python3.7/dist-packages (from tensorflow->pose-classification-kit) (1.34.1)\n",
            "Requirement already satisfied: tensorflow-estimator<2.6.0,>=2.5.0rc0 in /usr/local/lib/python3.7/dist-packages (from tensorflow->pose-classification-kit) (2.5.0)\n",
            "Requirement already satisfied: opt-einsum~=3.3.0 in /usr/local/lib/python3.7/dist-packages (from tensorflow->pose-classification-kit) (3.3.0)\n",
            "Requirement already satisfied: gast==0.4.0 in /usr/local/lib/python3.7/dist-packages (from tensorflow->pose-classification-kit) (0.4.0)\n",
            "Requirement already satisfied: protobuf>=3.9.2 in /usr/local/lib/python3.7/dist-packages (from tensorflow->pose-classification-kit) (3.17.3)\n",
            "Requirement already satisfied: keras-preprocessing~=1.1.2 in /usr/local/lib/python3.7/dist-packages (from tensorflow->pose-classification-kit) (1.1.2)\n",
            "Requirement already satisfied: termcolor~=1.1.0 in /usr/local/lib/python3.7/dist-packages (from tensorflow->pose-classification-kit) (1.1.0)\n",
            "Requirement already satisfied: h5py~=3.1.0 in /usr/local/lib/python3.7/dist-packages (from tensorflow->pose-classification-kit) (3.1.0)\n",
            "Requirement already satisfied: astunparse~=1.6.3 in /usr/local/lib/python3.7/dist-packages (from tensorflow->pose-classification-kit) (1.6.3)\n",
            "Requirement already satisfied: cached-property in /usr/local/lib/python3.7/dist-packages (from h5py~=3.1.0->tensorflow->pose-classification-kit) (1.5.2)\n",
            "Requirement already satisfied: tensorboard-data-server<0.7.0,>=0.6.0 in /usr/local/lib/python3.7/dist-packages (from tensorboard~=2.5->tensorflow->pose-classification-kit) (0.6.1)\n",
            "Requirement already satisfied: setuptools>=41.0.0 in /usr/local/lib/python3.7/dist-packages (from tensorboard~=2.5->tensorflow->pose-classification-kit) (57.2.0)\n",
            "Requirement already satisfied: requests<3,>=2.21.0 in /usr/local/lib/python3.7/dist-packages (from tensorboard~=2.5->tensorflow->pose-classification-kit) (2.23.0)\n",
            "Requirement already satisfied: tensorboard-plugin-wit>=1.6.0 in /usr/local/lib/python3.7/dist-packages (from tensorboard~=2.5->tensorflow->pose-classification-kit) (1.8.0)\n",
            "Requirement already satisfied: google-auth<2,>=1.6.3 in /usr/local/lib/python3.7/dist-packages (from tensorboard~=2.5->tensorflow->pose-classification-kit) (1.32.1)\n",
            "Requirement already satisfied: werkzeug>=0.11.15 in /usr/local/lib/python3.7/dist-packages (from tensorboard~=2.5->tensorflow->pose-classification-kit) (1.0.1)\n",
            "Requirement already satisfied: markdown>=2.6.8 in /usr/local/lib/python3.7/dist-packages (from tensorboard~=2.5->tensorflow->pose-classification-kit) (3.3.4)\n",
            "Requirement already satisfied: google-auth-oauthlib<0.5,>=0.4.1 in /usr/local/lib/python3.7/dist-packages (from tensorboard~=2.5->tensorflow->pose-classification-kit) (0.4.4)\n",
            "Requirement already satisfied: pyasn1-modules>=0.2.1 in /usr/local/lib/python3.7/dist-packages (from google-auth<2,>=1.6.3->tensorboard~=2.5->tensorflow->pose-classification-kit) (0.2.8)\n",
            "Requirement already satisfied: rsa<5,>=3.1.4 in /usr/local/lib/python3.7/dist-packages (from google-auth<2,>=1.6.3->tensorboard~=2.5->tensorflow->pose-classification-kit) (4.7.2)\n",
            "Requirement already satisfied: cachetools<5.0,>=2.0.0 in /usr/local/lib/python3.7/dist-packages (from google-auth<2,>=1.6.3->tensorboard~=2.5->tensorflow->pose-classification-kit) (4.2.2)\n",
            "Requirement already satisfied: requests-oauthlib>=0.7.0 in /usr/local/lib/python3.7/dist-packages (from google-auth-oauthlib<0.5,>=0.4.1->tensorboard~=2.5->tensorflow->pose-classification-kit) (1.3.0)\n",
            "Requirement already satisfied: importlib-metadata in /usr/local/lib/python3.7/dist-packages (from markdown>=2.6.8->tensorboard~=2.5->tensorflow->pose-classification-kit) (4.6.1)\n",
            "Requirement already satisfied: pyasn1<0.5.0,>=0.4.6 in /usr/local/lib/python3.7/dist-packages (from pyasn1-modules>=0.2.1->google-auth<2,>=1.6.3->tensorboard~=2.5->tensorflow->pose-classification-kit) (0.4.8)\n",
            "Requirement already satisfied: idna<3,>=2.5 in /usr/local/lib/python3.7/dist-packages (from requests<3,>=2.21.0->tensorboard~=2.5->tensorflow->pose-classification-kit) (2.10)\n",
            "Requirement already satisfied: chardet<4,>=3.0.2 in /usr/local/lib/python3.7/dist-packages (from requests<3,>=2.21.0->tensorboard~=2.5->tensorflow->pose-classification-kit) (3.0.4)\n",
            "Requirement already satisfied: urllib3!=1.25.0,!=1.25.1,<1.26,>=1.21.1 in /usr/local/lib/python3.7/dist-packages (from requests<3,>=2.21.0->tensorboard~=2.5->tensorflow->pose-classification-kit) (1.24.3)\n",
            "Requirement already satisfied: certifi>=2017.4.17 in /usr/local/lib/python3.7/dist-packages (from requests<3,>=2.21.0->tensorboard~=2.5->tensorflow->pose-classification-kit) (2021.5.30)\n",
            "Requirement already satisfied: oauthlib>=3.0.0 in /usr/local/lib/python3.7/dist-packages (from requests-oauthlib>=0.7.0->google-auth-oauthlib<0.5,>=0.4.1->tensorboard~=2.5->tensorflow->pose-classification-kit) (3.1.1)\n",
            "Requirement already satisfied: zipp>=0.5 in /usr/local/lib/python3.7/dist-packages (from importlib-metadata->markdown>=2.6.8->tensorboard~=2.5->tensorflow->pose-classification-kit) (3.5.0)\n",
            "Installing collected packages: pose-classification-kit\n",
            "Successfully installed pose-classification-kit-1.1.5\n",
            "Available GPU:\n",
            "NVIDIA-SMI has failed because it couldn't communicate with the NVIDIA driver. Make sure that the latest NVIDIA driver is installed and running.\n",
            "\n",
            "\n",
            "TensorFlow use GPU at: \n"
          ],
          "name": "stdout"
        }
      ]
    },
    {
      "cell_type": "markdown",
      "metadata": {
        "id": "uHIyJdyqRkcl"
      },
      "source": [
        "## Import dataset"
      ]
    },
    {
      "cell_type": "code",
      "metadata": {
        "colab": {
          "base_uri": "https://localhost:8080/"
        },
        "id": "0SK3FpRtPnwV",
        "outputId": "49fc635c-13c6-45e7-f103-d8fd3d128cb2"
      },
      "source": [
        "dataset = bodyDataset(testSplit=.2, shuffle=True, bodyModel=BODY18)\n",
        "x_train = dataset['x_train']\n",
        "y_train = dataset['y_train_onehot']\n",
        "\n",
        "x_train.shape, y_train.shape"
      ],
      "execution_count": 2,
      "outputs": [
        {
          "output_type": "execute_result",
          "data": {
            "text/plain": [
              "((8040, 18, 2), (8040, 20))"
            ]
          },
          "metadata": {
            "tags": []
          },
          "execution_count": 2
        }
      ]
    },
    {
      "cell_type": "markdown",
      "metadata": {
        "id": "ujWOy4Z8Ru4Q"
      },
      "source": [
        "## Data augmentation"
      ]
    },
    {
      "cell_type": "code",
      "metadata": {
        "colab": {
          "base_uri": "https://localhost:8080/"
        },
        "id": "HlNjhLolQWmd",
        "outputId": "19938da8-c990-40b8-82c1-71dafe1337ae"
      },
      "source": [
        "x, y = [x_train], [y_train]\n",
        "\n",
        "# Scaling augmentation\n",
        "x[len(x):],y[len(y):] = tuple(zip(dataAugmentation(\n",
        "    x_train, y_train,\n",
        "    augmentation_ratio=.15,\n",
        "    scaling_factor_standard_deviation=.08,\n",
        "    random_noise_standard_deviation=.03,\n",
        ")))\n",
        "\n",
        "# Rotation augmentation\n",
        "x[len(x):],y[len(y):] = tuple(zip(dataAugmentation(\n",
        "    x_train, y_train,\n",
        "    augmentation_ratio=.15,\n",
        "    rotation_angle_standard_deviation=10,\n",
        "    random_noise_standard_deviation=.03\n",
        ")))\n",
        "\n",
        "# Upper-body augmentation\n",
        "lowerBody_keypoints = np.where(np.isin(BODY18.mapping,[\n",
        "    \"left_hip\", \"right_hip\", \"left_knee\", \"right_knee\", \"left_ankle\", \"right_ankle\"\n",
        "]))[0]\n",
        "x[len(x):],y[len(y):] = tuple(zip(dataAugmentation(\n",
        "    x_train, y_train,\n",
        "    augmentation_ratio=.4,\n",
        "    remove_specific_keypoints=lowerBody_keypoints,\n",
        "    random_noise_standard_deviation=.03\n",
        ")))\n",
        "                        \n",
        "# Random partial input augmentation\n",
        "x[len(x):],y[len(y):] = tuple(zip(dataAugmentation(\n",
        "    x_train, y_train,\n",
        "    augmentation_ratio=.2,\n",
        "    remove_rand_keypoints_nbr=4,\n",
        "    random_noise_standard_deviation=.03\n",
        ")))\n",
        "\n",
        "x_train_augmented = np.concatenate(x, axis=0)\n",
        "y_train_augmented = np.concatenate(y, axis=0)\n",
        "\n",
        "x_train_augmented.shape, y_train_augmented.shape"
      ],
      "execution_count": 3,
      "outputs": [
        {
          "output_type": "execute_result",
          "data": {
            "text/plain": [
              "((15276, 18, 2), (15276, 20))"
            ]
          },
          "metadata": {
            "tags": []
          },
          "execution_count": 3
        }
      ]
    },
    {
      "cell_type": "markdown",
      "metadata": {
        "id": "vlWaRyQQSOfO"
      },
      "source": [
        "## Models exploration\n",
        "\n",
        "This section is optional. The following blocks can be used to compare different architecture and training processes."
      ]
    },
    {
      "cell_type": "code",
      "metadata": {
        "id": "5WWSNnJ1SRgK"
      },
      "source": [
        "model_train_history = {}\n",
        "input_dim = x_train.shape[1:]\n",
        "output_dim = len(dataset['labels'])\n",
        "validation_split = 0.20\n",
        "epochs = 15"
      ],
      "execution_count": 4,
      "outputs": []
    },
    {
      "cell_type": "code",
      "metadata": {
        "colab": {
          "base_uri": "https://localhost:8080/"
        },
        "id": "tvclG-0cSgZv",
        "outputId": "d8e9c3ea-158b-48d9-c2ba-9649277f9bca"
      },
      "source": [
        "model = keras.models.Sequential(\n",
        "    name = 'CNN',\n",
        "    layers =\n",
        "    [\n",
        "        keras.layers.InputLayer(input_shape=input_dim),\n",
        "        keras.layers.Conv1D(16, 3, activation='relu'),\n",
        "        keras.layers.Dropout(0.25),\n",
        "        keras.layers.Conv1D(32, 3, activation='relu'),\n",
        "        keras.layers.Dropout(0.25),\n",
        "        keras.layers.Conv1D(32, 3, activation='relu'),\n",
        "        keras.layers.Dropout(0.3),\n",
        "        keras.layers.Flatten(),\n",
        "        keras.layers.Dense(128, activation=keras.activations.relu),\n",
        "        keras.layers.Dense(64, activation=keras.activations.relu),\n",
        "        keras.layers.Dense(32, activation=keras.activations.relu),\n",
        "        keras.layers.Dense(output_dim, activation=keras.activations.softmax),\n",
        "    ]\n",
        ")\n",
        "\n",
        "model.summary()\n",
        "model.compile(\n",
        "    optimizer=keras.optimizers.Adam(),\n",
        "    loss='categorical_crossentropy',\n",
        "    metrics=['accuracy'],\n",
        ")\n",
        "\n",
        "model_train_history[model] = model.fit(\n",
        "    x=x_train_augmented,\n",
        "    y=y_train_augmented,\n",
        "    epochs=epochs,\n",
        "    batch_size=32,\n",
        "    validation_split=validation_split,\n",
        "    shuffle=True,\n",
        "    verbose=1,\n",
        ")"
      ],
      "execution_count": 5,
      "outputs": [
        {
          "output_type": "stream",
          "text": [
            "Model: \"CNN\"\n",
            "_________________________________________________________________\n",
            "Layer (type)                 Output Shape              Param #   \n",
            "=================================================================\n",
            "conv1d (Conv1D)              (None, 16, 16)            112       \n",
            "_________________________________________________________________\n",
            "dropout (Dropout)            (None, 16, 16)            0         \n",
            "_________________________________________________________________\n",
            "conv1d_1 (Conv1D)            (None, 14, 32)            1568      \n",
            "_________________________________________________________________\n",
            "dropout_1 (Dropout)          (None, 14, 32)            0         \n",
            "_________________________________________________________________\n",
            "conv1d_2 (Conv1D)            (None, 12, 32)            3104      \n",
            "_________________________________________________________________\n",
            "dropout_2 (Dropout)          (None, 12, 32)            0         \n",
            "_________________________________________________________________\n",
            "flatten (Flatten)            (None, 384)               0         \n",
            "_________________________________________________________________\n",
            "dense (Dense)                (None, 128)               49280     \n",
            "_________________________________________________________________\n",
            "dense_1 (Dense)              (None, 64)                8256      \n",
            "_________________________________________________________________\n",
            "dense_2 (Dense)              (None, 32)                2080      \n",
            "_________________________________________________________________\n",
            "dense_3 (Dense)              (None, 20)                660       \n",
            "=================================================================\n",
            "Total params: 65,060\n",
            "Trainable params: 65,060\n",
            "Non-trainable params: 0\n",
            "_________________________________________________________________\n",
            "Epoch 1/15\n",
            "382/382 [==============================] - 4s 6ms/step - loss: 1.6745 - accuracy: 0.4159 - val_loss: 1.3354 - val_accuracy: 0.6122\n",
            "Epoch 2/15\n",
            "382/382 [==============================] - 2s 6ms/step - loss: 0.7028 - accuracy: 0.7275 - val_loss: 0.9769 - val_accuracy: 0.7143\n",
            "Epoch 3/15\n",
            "382/382 [==============================] - 2s 6ms/step - loss: 0.4673 - accuracy: 0.8343 - val_loss: 0.9450 - val_accuracy: 0.7821\n",
            "Epoch 4/15\n",
            "382/382 [==============================] - 2s 6ms/step - loss: 0.3769 - accuracy: 0.8654 - val_loss: 0.8201 - val_accuracy: 0.7844\n",
            "Epoch 5/15\n",
            "382/382 [==============================] - 2s 6ms/step - loss: 0.3210 - accuracy: 0.8876 - val_loss: 0.8482 - val_accuracy: 0.7896\n",
            "Epoch 6/15\n",
            "382/382 [==============================] - 2s 6ms/step - loss: 0.2859 - accuracy: 0.9029 - val_loss: 0.8671 - val_accuracy: 0.7988\n",
            "Epoch 7/15\n",
            "382/382 [==============================] - 2s 6ms/step - loss: 0.2681 - accuracy: 0.9092 - val_loss: 0.8466 - val_accuracy: 0.8001\n",
            "Epoch 8/15\n",
            "382/382 [==============================] - 2s 6ms/step - loss: 0.2467 - accuracy: 0.9137 - val_loss: 0.7993 - val_accuracy: 0.8125\n",
            "Epoch 9/15\n",
            "382/382 [==============================] - 2s 6ms/step - loss: 0.2278 - accuracy: 0.9216 - val_loss: 0.8758 - val_accuracy: 0.7929\n",
            "Epoch 10/15\n",
            "382/382 [==============================] - 2s 6ms/step - loss: 0.2216 - accuracy: 0.9255 - val_loss: 0.7856 - val_accuracy: 0.8112\n",
            "Epoch 11/15\n",
            "382/382 [==============================] - 2s 6ms/step - loss: 0.2066 - accuracy: 0.9295 - val_loss: 0.8027 - val_accuracy: 0.8027\n",
            "Epoch 12/15\n",
            "382/382 [==============================] - 2s 6ms/step - loss: 0.1997 - accuracy: 0.9313 - val_loss: 0.7455 - val_accuracy: 0.8187\n",
            "Epoch 13/15\n",
            "382/382 [==============================] - 2s 6ms/step - loss: 0.1952 - accuracy: 0.9343 - val_loss: 0.8325 - val_accuracy: 0.7988\n",
            "Epoch 14/15\n",
            "382/382 [==============================] - 2s 6ms/step - loss: 0.1922 - accuracy: 0.9358 - val_loss: 0.7581 - val_accuracy: 0.8158\n",
            "Epoch 15/15\n",
            "382/382 [==============================] - 2s 6ms/step - loss: 0.1748 - accuracy: 0.9398 - val_loss: 0.7344 - val_accuracy: 0.8236\n"
          ],
          "name": "stdout"
        }
      ]
    },
    {
      "cell_type": "code",
      "metadata": {
        "id": "7uEtaKr5fmYM",
        "outputId": "e9404422-65a4-4761-b67e-64dc37a3da60",
        "colab": {
          "base_uri": "https://localhost:8080/"
        }
      },
      "source": [
        "model = keras.models.Sequential(\n",
        "    name = 'ANN',\n",
        "    layers =\n",
        "    [\n",
        "        keras.layers.InputLayer(input_shape=input_dim),\n",
        "        keras.layers.Flatten(),\n",
        "        keras.layers.Dense(64, activation=keras.activations.relu),\n",
        "        keras.layers.Dropout(0.3),\n",
        "        keras.layers.Dense(128, activation=keras.activations.relu),\n",
        "        keras.layers.Dropout(0.3),\n",
        "        keras.layers.Dense(256, activation=keras.activations.relu),\n",
        "        keras.layers.Dropout(0.3),\n",
        "        keras.layers.Dense(128, activation=keras.activations.relu),\n",
        "        keras.layers.Dropout(0.3),\n",
        "        keras.layers.Dense(64, activation=keras.activations.relu),\n",
        "        keras.layers.Dropout(0.3),\n",
        "        keras.layers.Dense(output_dim, activation=keras.activations.softmax),\n",
        "    ]\n",
        ")\n",
        "\n",
        "model.summary()\n",
        "model.compile(\n",
        "    optimizer=keras.optimizers.Adam(),\n",
        "    loss='categorical_crossentropy',\n",
        "    metrics=['accuracy'],\n",
        ")\n",
        "\n",
        "model_train_history[model] = model.fit(\n",
        "    x=x_train_augmented,\n",
        "    y=y_train_augmented,\n",
        "    epochs=epochs,\n",
        "    batch_size=32,\n",
        "    validation_split=validation_split,\n",
        "    shuffle=True,\n",
        "    verbose=1,\n",
        ")"
      ],
      "execution_count": 6,
      "outputs": [
        {
          "output_type": "stream",
          "text": [
            "Model: \"ANN\"\n",
            "_________________________________________________________________\n",
            "Layer (type)                 Output Shape              Param #   \n",
            "=================================================================\n",
            "flatten_1 (Flatten)          (None, 36)                0         \n",
            "_________________________________________________________________\n",
            "dense_4 (Dense)              (None, 64)                2368      \n",
            "_________________________________________________________________\n",
            "dropout_3 (Dropout)          (None, 64)                0         \n",
            "_________________________________________________________________\n",
            "dense_5 (Dense)              (None, 128)               8320      \n",
            "_________________________________________________________________\n",
            "dropout_4 (Dropout)          (None, 128)               0         \n",
            "_________________________________________________________________\n",
            "dense_6 (Dense)              (None, 256)               33024     \n",
            "_________________________________________________________________\n",
            "dropout_5 (Dropout)          (None, 256)               0         \n",
            "_________________________________________________________________\n",
            "dense_7 (Dense)              (None, 128)               32896     \n",
            "_________________________________________________________________\n",
            "dropout_6 (Dropout)          (None, 128)               0         \n",
            "_________________________________________________________________\n",
            "dense_8 (Dense)              (None, 64)                8256      \n",
            "_________________________________________________________________\n",
            "dropout_7 (Dropout)          (None, 64)                0         \n",
            "_________________________________________________________________\n",
            "dense_9 (Dense)              (None, 20)                1300      \n",
            "=================================================================\n",
            "Total params: 86,164\n",
            "Trainable params: 86,164\n",
            "Non-trainable params: 0\n",
            "_________________________________________________________________\n",
            "Epoch 1/15\n",
            "382/382 [==============================] - 2s 4ms/step - loss: 1.9825 - accuracy: 0.3199 - val_loss: 1.3546 - val_accuracy: 0.5753\n",
            "Epoch 2/15\n",
            "382/382 [==============================] - 1s 4ms/step - loss: 0.9639 - accuracy: 0.6222 - val_loss: 1.2728 - val_accuracy: 0.6446\n",
            "Epoch 3/15\n",
            "382/382 [==============================] - 1s 4ms/step - loss: 0.7024 - accuracy: 0.7289 - val_loss: 1.2347 - val_accuracy: 0.6744\n",
            "Epoch 4/15\n",
            "382/382 [==============================] - 2s 4ms/step - loss: 0.5858 - accuracy: 0.7806 - val_loss: 1.3042 - val_accuracy: 0.7114\n",
            "Epoch 5/15\n",
            "382/382 [==============================] - 1s 4ms/step - loss: 0.5100 - accuracy: 0.8122 - val_loss: 1.2680 - val_accuracy: 0.7271\n",
            "Epoch 6/15\n",
            "382/382 [==============================] - 2s 4ms/step - loss: 0.4551 - accuracy: 0.8388 - val_loss: 1.3628 - val_accuracy: 0.7274\n",
            "Epoch 7/15\n",
            "382/382 [==============================] - 1s 4ms/step - loss: 0.4039 - accuracy: 0.8615 - val_loss: 1.2761 - val_accuracy: 0.7363\n",
            "Epoch 8/15\n",
            "382/382 [==============================] - 1s 4ms/step - loss: 0.3659 - accuracy: 0.8816 - val_loss: 1.3970 - val_accuracy: 0.7372\n",
            "Epoch 9/15\n",
            "382/382 [==============================] - 1s 4ms/step - loss: 0.3335 - accuracy: 0.8918 - val_loss: 1.3386 - val_accuracy: 0.7520\n",
            "Epoch 10/15\n",
            "382/382 [==============================] - 1s 4ms/step - loss: 0.3225 - accuracy: 0.8993 - val_loss: 1.3350 - val_accuracy: 0.7598\n",
            "Epoch 11/15\n",
            "382/382 [==============================] - 1s 4ms/step - loss: 0.3066 - accuracy: 0.9062 - val_loss: 1.2313 - val_accuracy: 0.7618\n",
            "Epoch 12/15\n",
            "382/382 [==============================] - 1s 4ms/step - loss: 0.3006 - accuracy: 0.9095 - val_loss: 1.3151 - val_accuracy: 0.7399\n",
            "Epoch 13/15\n",
            "382/382 [==============================] - 1s 4ms/step - loss: 0.2680 - accuracy: 0.9184 - val_loss: 1.3305 - val_accuracy: 0.7549\n",
            "Epoch 14/15\n",
            "382/382 [==============================] - 1s 4ms/step - loss: 0.2674 - accuracy: 0.9177 - val_loss: 1.4322 - val_accuracy: 0.7438\n",
            "Epoch 15/15\n",
            "382/382 [==============================] - 1s 4ms/step - loss: 0.2589 - accuracy: 0.9223 - val_loss: 1.4260 - val_accuracy: 0.7526\n"
          ],
          "name": "stdout"
        }
      ]
    },
    {
      "cell_type": "code",
      "metadata": {
        "colab": {
          "base_uri": "https://localhost:8080/",
          "height": 352
        },
        "id": "8rdErix4SjlX",
        "outputId": "0ace22fd-a52e-436c-956c-c3893760be89"
      },
      "source": [
        "fig, axs = plt.subplots(1, 2, figsize=(14,5))\n",
        "colors_graph = [\"#d69e2d\",\n",
        "                \"#927ced\",\n",
        "                \"#73bd4d\",\n",
        "                \"#e462c0\",\n",
        "                \"#eb5e52\"]\n",
        "handles = []\n",
        "\n",
        "for (model, history), color in zip(model_train_history.items(), colors_graph):\n",
        "    label = '{} ({})'.format(model.name, model.count_params())\n",
        "    axs[0].plot(history.history['loss'], c=color, ls='-.', alpha=.7)\n",
        "    axs[1].plot(history.history['accuracy'], c=color, ls='-.', alpha=.7)\n",
        "    axs[0].plot(history.history['val_loss'], c=color)\n",
        "    axs[1].plot(history.history['val_accuracy'], c=color)\n",
        "    handles.append(mpatches.Patch(color=color, label=label))\n",
        "\n",
        "for ax in axs:\n",
        "    ax.set_xlabel('Epoch')\n",
        "axs[0].set_ylabel('loss')\n",
        "axs[0].set_yscale('log')\n",
        "axs[1].set_ylabel('accuracy')\n",
        "axs[1].set_ylim(0.5,1.01)\n",
        "\n",
        "handles.append(Line2D([0], [0], color='grey', lw=1, ls='-', label='validation'))\n",
        "handles.append(Line2D([0], [0], color='grey', lw=1, ls='-.', label='training'))\n",
        "\n",
        "fig.subplots_adjust(right=0.85)\n",
        "fig.legend(handles=handles,\n",
        "           loc=\"center right\",\n",
        "           borderaxespad=1)"
      ],
      "execution_count": 7,
      "outputs": [
        {
          "output_type": "execute_result",
          "data": {
            "text/plain": [
              "<matplotlib.legend.Legend at 0x7f8c6848a7d0>"
            ]
          },
          "metadata": {
            "tags": []
          },
          "execution_count": 7
        },
        {
          "output_type": "display_data",
          "data": {
            "image/png": "[encoded data removed]",
            "text/plain": [
              "<Figure size 1008x360 with 2 Axes>"
            ]
          },
          "metadata": {
            "tags": [],
            "needs_background": "light"
          }
        }
      ]
    },
    {
      "cell_type": "markdown",
      "metadata": {
        "id": "ZhAVJHCifmYO"
      },
      "source": [
        "## Model export\n",
        "\n",
        "Once you have a good model, you can save it on your Google Drive or local files. A model information JSON file is also added to store labels."
      ]
    },
    {
      "cell_type": "code",
      "metadata": {
        "id": "8szkWLFDfmYP",
        "outputId": "957c10b7-fee7-4318-8fa1-d930d4dfb23a",
        "colab": {
          "base_uri": "https://localhost:8080/"
        }
      },
      "source": [
        "from pathlib import Path\n",
        "import json\n",
        "\n",
        "model_name = 'CNN_BODY18_1'\n",
        "\n",
        "if IN_COLAB:\n",
        "    content_path = Path('/').absolute() / 'content'\n",
        "    drive_path = content_path / 'drive'\n",
        "    google.colab.drive.mount(str(drive_path))\n",
        "    save_path = drive_path / 'My Drive'\n",
        "    \n",
        "    for subfolder in ['Pose Classification Kit', 'Models', model_name]:\n",
        "        save_path /= subfolder\n",
        "        if not (save_path).is_dir():\n",
        "            %mkdir \"{save_path}\"\n",
        "else:\n",
        "    save_path = Path('.').absolute() / model_name\n",
        "    %mkdir \"{save_path}\"\n",
        "\n",
        "model_path = save_path / '{name}.h5'.format(name = model_name)"
      ],
      "execution_count": 8,
      "outputs": [
        {
          "output_type": "stream",
          "text": [
            "Mounted at /content/drive\n"
          ],
          "name": "stdout"
        }
      ]
    },
    {
      "cell_type": "code",
      "metadata": {
        "id": "1tJr3fbYfmYP",
        "outputId": "3a3d8061-10e9-4581-a5d7-9c22fdc575d1",
        "colab": {
          "base_uri": "https://localhost:8080/"
        }
      },
      "source": [
        "model = keras.models.Sequential(\n",
        "    name = model_name,\n",
        "    layers =\n",
        "    [\n",
        "        keras.layers.InputLayer(input_shape=input_dim),\n",
        "        keras.layers.Conv1D(16, 3, activation='relu'),\n",
        "        keras.layers.Dropout(0.2),\n",
        "        keras.layers.Conv1D(32, 3, activation='relu'),\n",
        "        keras.layers.Dropout(0.2),\n",
        "        keras.layers.Conv1D(32, 3, activation='relu'),\n",
        "        keras.layers.Dropout(0.2),\n",
        "        keras.layers.Flatten(),\n",
        "        keras.layers.Dense(128, activation=keras.activations.relu),\n",
        "        keras.layers.Dense(64, activation=keras.activations.relu),\n",
        "        keras.layers.Dense(32, activation=keras.activations.relu),\n",
        "        keras.layers.Dense(output_dim, activation=keras.activations.softmax),\n",
        "    ]\n",
        ")\n",
        "\n",
        "model.summary()\n",
        "model.compile(\n",
        "    optimizer=keras.optimizers.Adam(),\n",
        "    loss='categorical_crossentropy',\n",
        "    metrics=['accuracy'],\n",
        ")\n",
        "\n",
        "model.fit(\n",
        "    x=x_train_augmented,\n",
        "    y=y_train_augmented,\n",
        "    epochs=15,\n",
        "    batch_size=4,\n",
        "    validation_split=0.15,\n",
        "    shuffle=True,\n",
        "    callbacks=[keras.callbacks.ModelCheckpoint(filepath=model_path, verbose=2, save_best_only=True)],\n",
        "    verbose = 2,\n",
        ")\n",
        "\n",
        "with open(save_path / 'class.json', 'w') as f:\n",
        "    json.dump({'labels':dataset['labels']}, f)"
      ],
      "execution_count": 9,
      "outputs": [
        {
          "output_type": "stream",
          "text": [
            "Model: \"CNN_BODY18_1\"\n",
            "_________________________________________________________________\n",
            "Layer (type)                 Output Shape              Param #   \n",
            "=================================================================\n",
            "conv1d_3 (Conv1D)            (None, 16, 16)            112       \n",
            "_________________________________________________________________\n",
            "dropout_8 (Dropout)          (None, 16, 16)            0         \n",
            "_________________________________________________________________\n",
            "conv1d_4 (Conv1D)            (None, 14, 32)            1568      \n",
            "_________________________________________________________________\n",
            "dropout_9 (Dropout)          (None, 14, 32)            0         \n",
            "_________________________________________________________________\n",
            "conv1d_5 (Conv1D)            (None, 12, 32)            3104      \n",
            "_________________________________________________________________\n",
            "dropout_10 (Dropout)         (None, 12, 32)            0         \n",
            "_________________________________________________________________\n",
            "flatten_2 (Flatten)          (None, 384)               0         \n",
            "_________________________________________________________________\n",
            "dense_10 (Dense)             (None, 128)               49280     \n",
            "_________________________________________________________________\n",
            "dense_11 (Dense)             (None, 64)                8256      \n",
            "_________________________________________________________________\n",
            "dense_12 (Dense)             (None, 32)                2080      \n",
            "_________________________________________________________________\n",
            "dense_13 (Dense)             (None, 20)                660       \n",
            "=================================================================\n",
            "Total params: 65,060\n",
            "Trainable params: 65,060\n",
            "Non-trainable params: 0\n",
            "_________________________________________________________________\n",
            "Epoch 1/15\n",
            "3246/3246 - 8s - loss: 0.9448 - accuracy: 0.6445 - val_loss: 1.3530 - val_accuracy: 0.6291\n",
            "\n",
            "Epoch 00001: val_loss improved from inf to 1.35304, saving model to /content/drive/My Drive/Pose Classification Kit/Models/CNN_BODY18_1/CNN_BODY18_1.h5\n",
            "Epoch 2/15\n",
            "3246/3246 - 8s - loss: 0.4070 - accuracy: 0.8502 - val_loss: 1.4787 - val_accuracy: 0.6784\n",
            "\n",
            "Epoch 00002: val_loss did not improve from 1.35304\n",
            "Epoch 3/15\n",
            "3246/3246 - 8s - loss: 0.3095 - accuracy: 0.8935 - val_loss: 1.3577 - val_accuracy: 0.6898\n",
            "\n",
            "Epoch 00003: val_loss did not improve from 1.35304\n",
            "Epoch 4/15\n",
            "3246/3246 - 7s - loss: 0.2638 - accuracy: 0.9081 - val_loss: 1.2853 - val_accuracy: 0.7086\n",
            "\n",
            "Epoch 00004: val_loss improved from 1.35304 to 1.28525, saving model to /content/drive/My Drive/Pose Classification Kit/Models/CNN_BODY18_1/CNN_BODY18_1.h5\n",
            "Epoch 5/15\n",
            "3246/3246 - 7s - loss: 0.2303 - accuracy: 0.9207 - val_loss: 1.3281 - val_accuracy: 0.7147\n",
            "\n",
            "Epoch 00005: val_loss did not improve from 1.28525\n",
            "Epoch 6/15\n",
            "3246/3246 - 7s - loss: 0.2201 - accuracy: 0.9281 - val_loss: 1.1285 - val_accuracy: 0.7583\n",
            "\n",
            "Epoch 00006: val_loss improved from 1.28525 to 1.12854, saving model to /content/drive/My Drive/Pose Classification Kit/Models/CNN_BODY18_1/CNN_BODY18_1.h5\n",
            "Epoch 7/15\n",
            "3246/3246 - 7s - loss: 0.2026 - accuracy: 0.9323 - val_loss: 1.5419 - val_accuracy: 0.7068\n",
            "\n",
            "Epoch 00007: val_loss did not improve from 1.12854\n",
            "Epoch 8/15\n",
            "3246/3246 - 7s - loss: 0.1966 - accuracy: 0.9334 - val_loss: 1.1639 - val_accuracy: 0.7548\n",
            "\n",
            "Epoch 00008: val_loss did not improve from 1.12854\n",
            "Epoch 9/15\n",
            "3246/3246 - 7s - loss: 0.1791 - accuracy: 0.9413 - val_loss: 1.5215 - val_accuracy: 0.7072\n",
            "\n",
            "Epoch 00009: val_loss did not improve from 1.12854\n",
            "Epoch 10/15\n",
            "3246/3246 - 7s - loss: 0.1719 - accuracy: 0.9432 - val_loss: 1.1654 - val_accuracy: 0.7609\n",
            "\n",
            "Epoch 00010: val_loss did not improve from 1.12854\n",
            "Epoch 11/15\n",
            "3246/3246 - 7s - loss: 0.1717 - accuracy: 0.9425 - val_loss: 1.3838 - val_accuracy: 0.7273\n",
            "\n",
            "Epoch 00011: val_loss did not improve from 1.12854\n",
            "Epoch 12/15\n",
            "3246/3246 - 7s - loss: 0.1685 - accuracy: 0.9438 - val_loss: 1.2765 - val_accuracy: 0.7474\n",
            "\n",
            "Epoch 00012: val_loss did not improve from 1.12854\n",
            "Epoch 13/15\n",
            "3246/3246 - 7s - loss: 0.1570 - accuracy: 0.9476 - val_loss: 1.1446 - val_accuracy: 0.7727\n",
            "\n",
            "Epoch 00013: val_loss did not improve from 1.12854\n",
            "Epoch 14/15\n",
            "3246/3246 - 7s - loss: 0.1566 - accuracy: 0.9472 - val_loss: 1.3461 - val_accuracy: 0.7561\n",
            "\n",
            "Epoch 00014: val_loss did not improve from 1.12854\n",
            "Epoch 15/15\n",
            "3246/3246 - 8s - loss: 0.1486 - accuracy: 0.9532 - val_loss: 1.2364 - val_accuracy: 0.7740\n",
            "\n",
            "Epoch 00015: val_loss did not improve from 1.12854\n"
          ],
          "name": "stdout"
        }
      ]
    },
    {
      "cell_type": "code",
      "metadata": {
        "id": "gw8wue6VfmYQ",
        "outputId": "e5013d0c-e980-48c6-fb5e-57f2226e89ea",
        "colab": {
          "base_uri": "https://localhost:8080/"
        }
      },
      "source": [
        "model = keras.models.load_model(model_path)\n",
        "model.evaluate(x=dataset['x_test'], y=dataset['y_test_onehot'])"
      ],
      "execution_count": 10,
      "outputs": [
        {
          "output_type": "stream",
          "text": [
            "63/63 [==============================] - 0s 2ms/step - loss: 0.0542 - accuracy: 0.9880\n"
          ],
          "name": "stdout"
        },
        {
          "output_type": "execute_result",
          "data": {
            "text/plain": [
              "[0.054189156740903854, 0.9879999756813049]"
            ]
          },
          "metadata": {
            "tags": []
          },
          "execution_count": 10
        }
      ]
    },
    {
      "cell_type": "code",
      "metadata": {
        "id": "J2pwltytfmYQ"
      },
      "source": [
        ""
      ],
      "execution_count": null,
      "outputs": []
    }
  ]
}