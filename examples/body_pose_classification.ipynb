{
 "cells": [
  {
   "cell_type": "markdown",
   "metadata": {
    "id": "Gt3BWL5uRUfB"
   },
   "source": [
    "# 🕺 Pose Classification Kit: Body pose classification model creation\n",
    "\n",
    "This Notebook can be used to create Neural Network classifiers running in the [Pose Classification Kit](https://github.com/ArthurFDLR/pose-classification-kit).\n",
    "\n",
    "First, we have to import several libraries to create and train a new model."
   ]
  },
  {
   "cell_type": "code",
   "execution_count": 1,
   "metadata": {
    "id": "qzConJTSOWl_"
   },
   "outputs": [
    {
     "name": "stdout",
     "output_type": "stream",
     "text": [
      "1 Physical GPUs, 1 Logical GPUs\n",
      "Available GPU:\n",
      "GPU 0: GeForce RTX 2060 with Max-Q Design (UUID: GPU-63f90f3a-1a62-5290-ce48-ec73cce8a7ae)\n",
      "\n",
      "TensorFlow use GPU at: /device:GPU:0\n"
     ]
    }
   ],
   "source": [
    "import numpy as np\n",
    "import matplotlib.pyplot as plt\n",
    "import matplotlib.patches as mpatches\n",
    "from matplotlib.lines import Line2D\n",
    "import os\n",
    "\n",
    "try:\n",
    "    import google.colab\n",
    "    IN_COLAB = True\n",
    "except:\n",
    "    IN_COLAB = False\n",
    "\n",
    "if IN_COLAB:\n",
    "    %tensorflow_version 2.x\n",
    "    !pip install pose-classification-kit\n",
    "    \n",
    "import tensorflow\n",
    "from tensorflow import keras\n",
    "from pose_classification_kit.datasets import BODY18, bodyDataset, dataAugmentation\n",
    "\n",
    "print('Available GPU:')\n",
    "!nvidia-smi -L\n",
    "print('\\nTensorFlow use GPU at: {}'.format(tensorflow.test.gpu_device_name()))"
   ]
  },
  {
   "cell_type": "markdown",
   "metadata": {
    "id": "uHIyJdyqRkcl"
   },
   "source": [
    "## Import dataset"
   ]
  },
  {
   "cell_type": "code",
   "execution_count": 2,
   "metadata": {
    "colab": {
     "base_uri": "https://localhost:8080/"
    },
    "id": "0SK3FpRtPnwV",
    "outputId": "8a51fdd3-5612-4e3f-811b-10ad4e83b32d"
   },
   "outputs": [
    {
     "name": "stdout",
     "output_type": "stream",
     "text": [
      "Dataset loaded from https://raw.githubusercontent.com/ArthurFDLR/pose-classification-kit/master/pose_classification_kit/datasets/BodyPose_Dataset.csv\n"
     ]
    },
    {
     "data": {
      "text/plain": [
       "((8040, 18, 2), (8040, 20))"
      ]
     },
     "execution_count": 2,
     "metadata": {},
     "output_type": "execute_result"
    }
   ],
   "source": [
    "dataset = bodyDataset(testSplit=.2, shuffle=True, bodyModel=BODY18)\n",
    "x_train = dataset['x_train']\n",
    "y_train = dataset['y_train_onehot']\n",
    "\n",
    "x_train.shape, y_train.shape"
   ]
  },
  {
   "cell_type": "markdown",
   "metadata": {
    "id": "ujWOy4Z8Ru4Q"
   },
   "source": [
    "## Data augmentation"
   ]
  },
  {
   "cell_type": "code",
   "execution_count": 3,
   "metadata": {
    "colab": {
     "base_uri": "https://localhost:8080/"
    },
    "id": "HlNjhLolQWmd",
    "outputId": "25733b7b-00fa-4a56-b7ab-0e2c9114a8e8"
   },
   "outputs": [
    {
     "data": {
      "text/plain": [
       "((15276, 18, 2), (15276, 20))"
      ]
     },
     "execution_count": 3,
     "metadata": {},
     "output_type": "execute_result"
    }
   ],
   "source": [
    "x, y = [x_train], [y_train]\n",
    "\n",
    "# Scaling augmentation\n",
    "x[len(x):],y[len(y):] = tuple(zip(dataAugmentation(\n",
    "    x_train, y_train,\n",
    "    augmentation_ratio=.15,\n",
    "    scaling_factor_standard_deviation=.08,\n",
    "    random_noise_standard_deviation=.03,\n",
    ")))\n",
    "\n",
    "# Rotation augmentation\n",
    "x[len(x):],y[len(y):] = tuple(zip(dataAugmentation(\n",
    "    x_train, y_train,\n",
    "    augmentation_ratio=.15,\n",
    "    rotation_angle_standard_deviation=10,\n",
    "    random_noise_standard_deviation=.03\n",
    ")))\n",
    "\n",
    "# Upper-body augmentation\n",
    "lowerBody_keypoints = np.where(np.isin(BODY18.mapping,[\n",
    "    \"left_hip\", \"right_hip\", \"left_knee\", \"right_knee\", \"left_ankle\", \"right_ankle\"\n",
    "]))[0]\n",
    "x[len(x):],y[len(y):] = tuple(zip(dataAugmentation(\n",
    "    x_train, y_train,\n",
    "    augmentation_ratio=.4,\n",
    "    remove_specific_keypoints=lowerBody_keypoints,\n",
    "    random_noise_standard_deviation=.03\n",
    ")))\n",
    "                        \n",
    "# Random partial input augmentation\n",
    "x[len(x):],y[len(y):] = tuple(zip(dataAugmentation(\n",
    "    x_train, y_train,\n",
    "    augmentation_ratio=.2,\n",
    "    remove_rand_keypoints_nbr=4,\n",
    "    random_noise_standard_deviation=.03\n",
    ")))\n",
    "\n",
    "x_train_augmented = np.concatenate(x, axis=0)\n",
    "y_train_augmented = np.concatenate(y, axis=0)\n",
    "\n",
    "x_train_augmented.shape, y_train_augmented.shape"
   ]
  },
  {
   "cell_type": "markdown",
   "metadata": {
    "id": "vlWaRyQQSOfO"
   },
   "source": [
    "## Models exploration\n",
    "\n",
    "This section is optional. The following blocks can be used to compare different architecture and training processes."
   ]
  },
  {
   "cell_type": "code",
   "execution_count": 4,
   "metadata": {
    "id": "5WWSNnJ1SRgK"
   },
   "outputs": [],
   "source": [
    "model_train_history = {}\n",
    "input_dim = x_train.shape[1:]\n",
    "output_dim = len(dataset['labels'])\n",
    "validation_split = 0.20\n",
    "epochs = 15"
   ]
  },
  {
   "cell_type": "code",
   "execution_count": 5,
   "metadata": {
    "colab": {
     "base_uri": "https://localhost:8080/"
    },
    "id": "tvclG-0cSgZv",
    "outputId": "f5f50bcd-ca8a-4974-8602-9c86a658afae"
   },
   "outputs": [
    {
     "name": "stdout",
     "output_type": "stream",
     "text": [
      "Model: \"CNN\"\n",
      "_________________________________________________________________\n",
      "Layer (type)                 Output Shape              Param #   \n",
      "=================================================================\n",
      "conv1d (Conv1D)              (None, 16, 16)            112       \n",
      "_________________________________________________________________\n",
      "dropout (Dropout)            (None, 16, 16)            0         \n",
      "_________________________________________________________________\n",
      "conv1d_1 (Conv1D)            (None, 14, 32)            1568      \n",
      "_________________________________________________________________\n",
      "dropout_1 (Dropout)          (None, 14, 32)            0         \n",
      "_________________________________________________________________\n",
      "conv1d_2 (Conv1D)            (None, 12, 32)            3104      \n",
      "_________________________________________________________________\n",
      "dropout_2 (Dropout)          (None, 12, 32)            0         \n",
      "_________________________________________________________________\n",
      "flatten (Flatten)            (None, 384)               0         \n",
      "_________________________________________________________________\n",
      "dense (Dense)                (None, 128)               49280     \n",
      "_________________________________________________________________\n",
      "dense_1 (Dense)              (None, 64)                8256      \n",
      "_________________________________________________________________\n",
      "dense_2 (Dense)              (None, 32)                2080      \n",
      "_________________________________________________________________\n",
      "dense_3 (Dense)              (None, 20)                660       \n",
      "=================================================================\n",
      "Total params: 65,060\n",
      "Trainable params: 65,060\n",
      "Non-trainable params: 0\n",
      "_________________________________________________________________\n",
      "Epoch 1/15\n",
      "382/382 [==============================] - 2s 4ms/step - loss: 1.5991 - accuracy: 0.4432 - val_loss: 1.3534 - val_accuracy: 0.6518\n",
      "Epoch 2/15\n",
      "382/382 [==============================] - 1s 3ms/step - loss: 0.5897 - accuracy: 0.7802 - val_loss: 1.3180 - val_accuracy: 0.7048\n",
      "Epoch 3/15\n",
      "382/382 [==============================] - 1s 3ms/step - loss: 0.4280 - accuracy: 0.8471 - val_loss: 1.2486 - val_accuracy: 0.7032\n",
      "Epoch 4/15\n",
      "382/382 [==============================] - 1s 3ms/step - loss: 0.3577 - accuracy: 0.8774 - val_loss: 1.2513 - val_accuracy: 0.7415\n",
      "Epoch 5/15\n",
      "382/382 [==============================] - 1s 4ms/step - loss: 0.3019 - accuracy: 0.8936 - val_loss: 1.2069 - val_accuracy: 0.7579\n",
      "Epoch 6/15\n",
      "382/382 [==============================] - 1s 3ms/step - loss: 0.2801 - accuracy: 0.9035 - val_loss: 1.2153 - val_accuracy: 0.7562\n",
      "Epoch 7/15\n",
      "382/382 [==============================] - 1s 3ms/step - loss: 0.2615 - accuracy: 0.9119 - val_loss: 1.2451 - val_accuracy: 0.7637\n",
      "Epoch 8/15\n",
      "382/382 [==============================] - 1s 4ms/step - loss: 0.2312 - accuracy: 0.9228 - val_loss: 1.2483 - val_accuracy: 0.7657\n",
      "Epoch 9/15\n",
      "382/382 [==============================] - 1s 3ms/step - loss: 0.2241 - accuracy: 0.9229 - val_loss: 1.4770 - val_accuracy: 0.7140\n",
      "Epoch 10/15\n",
      "382/382 [==============================] - 1s 3ms/step - loss: 0.2088 - accuracy: 0.9290 - val_loss: 1.3605 - val_accuracy: 0.7543\n",
      "Epoch 11/15\n",
      "382/382 [==============================] - 1s 3ms/step - loss: 0.1988 - accuracy: 0.9332 - val_loss: 1.2073 - val_accuracy: 0.7696\n",
      "Epoch 12/15\n",
      "382/382 [==============================] - 1s 3ms/step - loss: 0.1914 - accuracy: 0.9360 - val_loss: 1.2125 - val_accuracy: 0.7745\n",
      "Epoch 13/15\n",
      "382/382 [==============================] - 1s 3ms/step - loss: 0.1827 - accuracy: 0.9358 - val_loss: 1.3243 - val_accuracy: 0.7631\n",
      "Epoch 14/15\n",
      "382/382 [==============================] - 1s 3ms/step - loss: 0.1802 - accuracy: 0.9372 - val_loss: 1.3676 - val_accuracy: 0.7510\n",
      "Epoch 15/15\n",
      "382/382 [==============================] - 1s 3ms/step - loss: 0.1723 - accuracy: 0.9416 - val_loss: 1.1842 - val_accuracy: 0.7785\n"
     ]
    }
   ],
   "source": [
    "model = keras.models.Sequential(\n",
    "    name = 'CNN',\n",
    "    layers =\n",
    "    [\n",
    "        keras.layers.InputLayer(input_shape=input_dim),\n",
    "        keras.layers.Conv1D(16, 3, activation='relu'),\n",
    "        keras.layers.Dropout(0.25),\n",
    "        keras.layers.Conv1D(32, 3, activation='relu'),\n",
    "        keras.layers.Dropout(0.25),\n",
    "        keras.layers.Conv1D(32, 3, activation='relu'),\n",
    "        keras.layers.Dropout(0.3),\n",
    "        keras.layers.Flatten(),\n",
    "        keras.layers.Dense(128, activation=keras.activations.relu),\n",
    "        keras.layers.Dense(64, activation=keras.activations.relu),\n",
    "        keras.layers.Dense(32, activation=keras.activations.relu),\n",
    "        keras.layers.Dense(output_dim, activation=keras.activations.softmax),\n",
    "    ]\n",
    ")\n",
    "\n",
    "model.summary()\n",
    "model.compile(\n",
    "    optimizer=keras.optimizers.Adam(),\n",
    "    loss='categorical_crossentropy',\n",
    "    metrics=['accuracy'],\n",
    ")\n",
    "\n",
    "model_train_history[model] = model.fit(\n",
    "    x=x_train_augmented,\n",
    "    y=y_train_augmented,\n",
    "    epochs=epochs,\n",
    "    batch_size=32,\n",
    "    validation_split=validation_split,\n",
    "    shuffle=True,\n",
    "    verbose=1,\n",
    ")"
   ]
  },
  {
   "cell_type": "code",
   "execution_count": 6,
   "metadata": {},
   "outputs": [
    {
     "name": "stdout",
     "output_type": "stream",
     "text": [
      "Model: \"ANN\"\n",
      "_________________________________________________________________\n",
      "Layer (type)                 Output Shape              Param #   \n",
      "=================================================================\n",
      "flatten_1 (Flatten)          (None, 36)                0         \n",
      "_________________________________________________________________\n",
      "dense_4 (Dense)              (None, 64)                2368      \n",
      "_________________________________________________________________\n",
      "dropout_3 (Dropout)          (None, 64)                0         \n",
      "_________________________________________________________________\n",
      "dense_5 (Dense)              (None, 128)               8320      \n",
      "_________________________________________________________________\n",
      "dropout_4 (Dropout)          (None, 128)               0         \n",
      "_________________________________________________________________\n",
      "dense_6 (Dense)              (None, 256)               33024     \n",
      "_________________________________________________________________\n",
      "dropout_5 (Dropout)          (None, 256)               0         \n",
      "_________________________________________________________________\n",
      "dense_7 (Dense)              (None, 128)               32896     \n",
      "_________________________________________________________________\n",
      "dropout_6 (Dropout)          (None, 128)               0         \n",
      "_________________________________________________________________\n",
      "dense_8 (Dense)              (None, 64)                8256      \n",
      "_________________________________________________________________\n",
      "dropout_7 (Dropout)          (None, 64)                0         \n",
      "_________________________________________________________________\n",
      "dense_9 (Dense)              (None, 20)                1300      \n",
      "=================================================================\n",
      "Total params: 86,164\n",
      "Trainable params: 86,164\n",
      "Non-trainable params: 0\n",
      "_________________________________________________________________\n",
      "Epoch 1/15\n",
      "382/382 [==============================] - 1s 3ms/step - loss: 1.9639 - accuracy: 0.3133 - val_loss: 1.4482 - val_accuracy: 0.5733\n",
      "Epoch 2/15\n",
      "382/382 [==============================] - 1s 3ms/step - loss: 0.9807 - accuracy: 0.6133 - val_loss: 1.3224 - val_accuracy: 0.6770\n",
      "Epoch 3/15\n",
      "382/382 [==============================] - 1s 3ms/step - loss: 0.7267 - accuracy: 0.7236 - val_loss: 1.3021 - val_accuracy: 0.6878\n",
      "Epoch 4/15\n",
      "382/382 [==============================] - 1s 3ms/step - loss: 0.6018 - accuracy: 0.7762 - val_loss: 1.3928 - val_accuracy: 0.6999\n",
      "Epoch 5/15\n",
      "382/382 [==============================] - 1s 3ms/step - loss: 0.5166 - accuracy: 0.8109 - val_loss: 1.4254 - val_accuracy: 0.7029\n",
      "Epoch 6/15\n",
      "382/382 [==============================] - 1s 3ms/step - loss: 0.4691 - accuracy: 0.8331 - val_loss: 1.3747 - val_accuracy: 0.7137\n",
      "Epoch 7/15\n",
      "382/382 [==============================] - 1s 3ms/step - loss: 0.4189 - accuracy: 0.8449 - val_loss: 1.3340 - val_accuracy: 0.7222\n",
      "Epoch 8/15\n",
      "382/382 [==============================] - 1s 3ms/step - loss: 0.3900 - accuracy: 0.8629 - val_loss: 1.3747 - val_accuracy: 0.7353\n",
      "Epoch 9/15\n",
      "382/382 [==============================] - 1s 3ms/step - loss: 0.3829 - accuracy: 0.8670 - val_loss: 1.2524 - val_accuracy: 0.7281\n",
      "Epoch 10/15\n",
      "382/382 [==============================] - 1s 3ms/step - loss: 0.3527 - accuracy: 0.8764 - val_loss: 1.4042 - val_accuracy: 0.7477\n",
      "Epoch 11/15\n",
      "382/382 [==============================] - 1s 3ms/step - loss: 0.3333 - accuracy: 0.8832 - val_loss: 1.3482 - val_accuracy: 0.7389\n",
      "Epoch 12/15\n",
      "382/382 [==============================] - 1s 3ms/step - loss: 0.3200 - accuracy: 0.8885 - val_loss: 1.4517 - val_accuracy: 0.7425\n",
      "Epoch 13/15\n",
      "382/382 [==============================] - 1s 3ms/step - loss: 0.3078 - accuracy: 0.8965 - val_loss: 1.4694 - val_accuracy: 0.7467\n",
      "Epoch 14/15\n",
      "382/382 [==============================] - 1s 3ms/step - loss: 0.3040 - accuracy: 0.8995 - val_loss: 1.4395 - val_accuracy: 0.7503\n",
      "Epoch 15/15\n",
      "382/382 [==============================] - 1s 3ms/step - loss: 0.2789 - accuracy: 0.9077 - val_loss: 1.5762 - val_accuracy: 0.7415\n"
     ]
    }
   ],
   "source": [
    "model = keras.models.Sequential(\n",
    "    name = 'ANN',\n",
    "    layers =\n",
    "    [\n",
    "        keras.layers.InputLayer(input_shape=input_dim),\n",
    "        keras.layers.Flatten(),\n",
    "        keras.layers.Dense(64, activation=keras.activations.relu),\n",
    "        keras.layers.Dropout(0.3),\n",
    "        keras.layers.Dense(128, activation=keras.activations.relu),\n",
    "        keras.layers.Dropout(0.3),\n",
    "        keras.layers.Dense(256, activation=keras.activations.relu),\n",
    "        keras.layers.Dropout(0.3),\n",
    "        keras.layers.Dense(128, activation=keras.activations.relu),\n",
    "        keras.layers.Dropout(0.3),\n",
    "        keras.layers.Dense(64, activation=keras.activations.relu),\n",
    "        keras.layers.Dropout(0.3),\n",
    "        keras.layers.Dense(output_dim, activation=keras.activations.softmax),\n",
    "    ]\n",
    ")\n",
    "\n",
    "model.summary()\n",
    "model.compile(\n",
    "    optimizer=keras.optimizers.Adam(),\n",
    "    loss='categorical_crossentropy',\n",
    "    metrics=['accuracy'],\n",
    ")\n",
    "\n",
    "model_train_history[model] = model.fit(\n",
    "    x=x_train_augmented,\n",
    "    y=y_train_augmented,\n",
    "    epochs=epochs,\n",
    "    batch_size=32,\n",
    "    validation_split=validation_split,\n",
    "    shuffle=True,\n",
    "    verbose=1,\n",
    ")"
   ]
  },
  {
   "cell_type": "code",
   "execution_count": 7,
   "metadata": {
    "colab": {
     "base_uri": "https://localhost:8080/",
     "height": 351
    },
    "id": "8rdErix4SjlX",
    "outputId": "5a7aa059-79b3-4ace-fb9a-fdbb01482538"
   },
   "outputs": [
    {
     "data": {
      "text/plain": [
       "<matplotlib.legend.Legend at 0x213e691f408>"
      ]
     },
     "execution_count": 7,
     "metadata": {},
     "output_type": "execute_result"
    },
    {
     "data": {
      "image/png": "[encoded data removed]",
      "text/plain": [
       "<Figure size 1008x360 with 2 Axes>"
      ]
     },
     "metadata": {
      "needs_background": "light"
     },
     "output_type": "display_data"
    }
   ],
   "source": [
    "fig, axs = plt.subplots(1, 2, figsize=(14,5))\n",
    "colors_graph = [\"#d69e2d\",\n",
    "                \"#927ced\",\n",
    "                \"#73bd4d\",\n",
    "                \"#e462c0\",\n",
    "                \"#eb5e52\"]\n",
    "handles = []\n",
    "\n",
    "for (model, history), color in zip(model_train_history.items(), colors_graph):\n",
    "    label = '{} ({})'.format(model.name, model.count_params())\n",
    "    axs[0].plot(history.history['loss'], c=color, ls='-.', alpha=.7)\n",
    "    axs[1].plot(history.history['accuracy'], c=color, ls='-.', alpha=.7)\n",
    "    axs[0].plot(history.history['val_loss'], c=color)\n",
    "    axs[1].plot(history.history['val_accuracy'], c=color)\n",
    "    handles.append(mpatches.Patch(color=color, label=label))\n",
    "\n",
    "for ax in axs:\n",
    "    ax.set_xlabel('Epoch')\n",
    "axs[0].set_ylabel('loss')\n",
    "axs[0].set_yscale('log')\n",
    "axs[1].set_ylabel('accuracy')\n",
    "axs[1].set_ylim(0.5,1.01)\n",
    "\n",
    "handles.append(Line2D([0], [0], color='grey', lw=1, ls='-', label='validation'))\n",
    "handles.append(Line2D([0], [0], color='grey', lw=1, ls='-.', label='training'))\n",
    "\n",
    "fig.subplots_adjust(right=0.85)\n",
    "fig.legend(handles=handles,\n",
    "           loc=\"center right\",\n",
    "           borderaxespad=1)"
   ]
  },
  {
   "cell_type": "markdown",
   "metadata": {},
   "source": [
    "## Model export\n",
    "\n",
    "Once you have a good model, you can save it on your Google Drive or local files. A model information JSON file is also added to store labels."
   ]
  },
  {
   "cell_type": "code",
   "execution_count": 8,
   "metadata": {},
   "outputs": [],
   "source": [
    "from pathlib import Path\n",
    "import json\n",
    "\n",
    "model_name = 'CNN_BODY18_1'\n",
    "\n",
    "if IN_COLAB:\n",
    "    content_path = Path('/').absolute() / 'content'\n",
    "    drive_path = content_path / 'drive'\n",
    "    google.colab.drive.mount(str(drive_path))\n",
    "    save_path = drive_path / 'My Drive'\n",
    "    \n",
    "    for subfolder in ['Pose Classification Kit', 'Models', model_name]:\n",
    "        save_path /= subfolder\n",
    "        if not (save_path).is_dir():\n",
    "            %mkdir \"{save_path}\"\n",
    "else:\n",
    "    save_path = Path('.').absolute() / model_name\n",
    "    %mkdir \"{save_path}\"\n",
    "\n",
    "model_path = save_path / '{name}.h5'.format(name = model_name)"
   ]
  },
  {
   "cell_type": "code",
   "execution_count": 9,
   "metadata": {},
   "outputs": [
    {
     "name": "stdout",
     "output_type": "stream",
     "text": [
      "Model: \"CNN_BODY18_1\"\n",
      "_________________________________________________________________\n",
      "Layer (type)                 Output Shape              Param #   \n",
      "=================================================================\n",
      "conv1d_3 (Conv1D)            (None, 16, 16)            112       \n",
      "_________________________________________________________________\n",
      "dropout_8 (Dropout)          (None, 16, 16)            0         \n",
      "_________________________________________________________________\n",
      "conv1d_4 (Conv1D)            (None, 14, 32)            1568      \n",
      "_________________________________________________________________\n",
      "dropout_9 (Dropout)          (None, 14, 32)            0         \n",
      "_________________________________________________________________\n",
      "conv1d_5 (Conv1D)            (None, 12, 32)            3104      \n",
      "_________________________________________________________________\n",
      "dropout_10 (Dropout)         (None, 12, 32)            0         \n",
      "_________________________________________________________________\n",
      "flatten_2 (Flatten)          (None, 384)               0         \n",
      "_________________________________________________________________\n",
      "dense_10 (Dense)             (None, 128)               49280     \n",
      "_________________________________________________________________\n",
      "dense_11 (Dense)             (None, 64)                8256      \n",
      "_________________________________________________________________\n",
      "dense_12 (Dense)             (None, 32)                2080      \n",
      "_________________________________________________________________\n",
      "dense_13 (Dense)             (None, 20)                660       \n",
      "=================================================================\n",
      "Total params: 65,060\n",
      "Trainable params: 65,060\n",
      "Non-trainable params: 0\n",
      "_________________________________________________________________\n",
      "Epoch 1/15\n",
      "\n",
      "Epoch 00001: val_loss improved from inf to 1.52872, saving model to C:\\Users\\ArthF\\Documents\\Projects\\pose-classification-kit\\examples\\CNN_BODY18_1\\CNN_BODY18_1.h5\n",
      "3246/3246 - 9s - loss: 0.9455 - accuracy: 0.6496 - val_loss: 1.5287 - val_accuracy: 0.6671\n",
      "Epoch 2/15\n",
      "\n",
      "Epoch 00002: val_loss did not improve from 1.52872\n",
      "3246/3246 - 8s - loss: 0.4064 - accuracy: 0.8495 - val_loss: 1.5992 - val_accuracy: 0.6741\n",
      "Epoch 3/15\n",
      "\n",
      "Epoch 00003: val_loss did not improve from 1.52872\n",
      "3246/3246 - 8s - loss: 0.2991 - accuracy: 0.8954 - val_loss: 1.5457 - val_accuracy: 0.6898\n",
      "Epoch 4/15\n",
      "\n",
      "Epoch 00004: val_loss did not improve from 1.52872\n",
      "3246/3246 - 8s - loss: 0.2488 - accuracy: 0.9114 - val_loss: 1.5522 - val_accuracy: 0.6955\n",
      "Epoch 5/15\n",
      "\n",
      "Epoch 00005: val_loss improved from 1.52872 to 1.42047, saving model to C:\\Users\\ArthF\\Documents\\Projects\\pose-classification-kit\\examples\\CNN_BODY18_1\\CNN_BODY18_1.h5\n",
      "3246/3246 - 8s - loss: 0.2292 - accuracy: 0.9240 - val_loss: 1.4205 - val_accuracy: 0.7225\n",
      "Epoch 6/15\n",
      "\n",
      "Epoch 00006: val_loss improved from 1.42047 to 1.28971, saving model to C:\\Users\\ArthF\\Documents\\Projects\\pose-classification-kit\\examples\\CNN_BODY18_1\\CNN_BODY18_1.h5\n",
      "3246/3246 - 8s - loss: 0.2050 - accuracy: 0.9322 - val_loss: 1.2897 - val_accuracy: 0.7365\n",
      "Epoch 7/15\n",
      "\n",
      "Epoch 00007: val_loss did not improve from 1.28971\n",
      "3246/3246 - 8s - loss: 0.1925 - accuracy: 0.9350 - val_loss: 1.6152 - val_accuracy: 0.7190\n",
      "Epoch 8/15\n",
      "\n",
      "Epoch 00008: val_loss did not improve from 1.28971\n",
      "3246/3246 - 8s - loss: 0.1888 - accuracy: 0.9352 - val_loss: 1.4105 - val_accuracy: 0.7090\n",
      "Epoch 9/15\n",
      "\n",
      "Epoch 00009: val_loss did not improve from 1.28971\n",
      "3246/3246 - 8s - loss: 0.1728 - accuracy: 0.9432 - val_loss: 1.6442 - val_accuracy: 0.7182\n",
      "Epoch 10/15\n",
      "\n",
      "Epoch 00010: val_loss did not improve from 1.28971\n",
      "3246/3246 - 8s - loss: 0.1657 - accuracy: 0.9456 - val_loss: 1.4408 - val_accuracy: 0.7343\n",
      "Epoch 11/15\n",
      "\n",
      "Epoch 00011: val_loss did not improve from 1.28971\n",
      "3246/3246 - 8s - loss: 0.1590 - accuracy: 0.9462 - val_loss: 1.3257 - val_accuracy: 0.7186\n",
      "Epoch 12/15\n",
      "\n",
      "Epoch 00012: val_loss did not improve from 1.28971\n",
      "3246/3246 - 9s - loss: 0.1523 - accuracy: 0.9498 - val_loss: 1.8035 - val_accuracy: 0.7164\n",
      "Epoch 13/15\n",
      "\n",
      "Epoch 00013: val_loss did not improve from 1.28971\n",
      "3246/3246 - 8s - loss: 0.1529 - accuracy: 0.9494 - val_loss: 1.4032 - val_accuracy: 0.7500\n",
      "Epoch 14/15\n",
      "\n",
      "Epoch 00014: val_loss did not improve from 1.28971\n",
      "3246/3246 - 9s - loss: 0.1439 - accuracy: 0.9533 - val_loss: 1.7516 - val_accuracy: 0.6867\n",
      "Epoch 15/15\n",
      "\n",
      "Epoch 00015: val_loss did not improve from 1.28971\n",
      "3246/3246 - 8s - loss: 0.1555 - accuracy: 0.9498 - val_loss: 1.7594 - val_accuracy: 0.7229\n"
     ]
    }
   ],
   "source": [
    "model = keras.models.Sequential(\n",
    "    name = model_name,\n",
    "    layers =\n",
    "    [\n",
    "        keras.layers.InputLayer(input_shape=input_dim),\n",
    "        keras.layers.Conv1D(16, 3, activation='relu'),\n",
    "        keras.layers.Dropout(0.2),\n",
    "        keras.layers.Conv1D(32, 3, activation='relu'),\n",
    "        keras.layers.Dropout(0.2),\n",
    "        keras.layers.Conv1D(32, 3, activation='relu'),\n",
    "        keras.layers.Dropout(0.2),\n",
    "        keras.layers.Flatten(),\n",
    "        keras.layers.Dense(128, activation=keras.activations.relu),\n",
    "        keras.layers.Dense(64, activation=keras.activations.relu),\n",
    "        keras.layers.Dense(32, activation=keras.activations.relu),\n",
    "        keras.layers.Dense(output_dim, activation=keras.activations.softmax),\n",
    "    ]\n",
    ")\n",
    "\n",
    "model.summary()\n",
    "model.compile(\n",
    "    optimizer=keras.optimizers.Adam(),\n",
    "    loss='categorical_crossentropy',\n",
    "    metrics=['accuracy'],\n",
    ")\n",
    "\n",
    "model.fit(\n",
    "    x=x_train_augmented,\n",
    "    y=y_train_augmented,\n",
    "    epochs=15,\n",
    "    batch_size=4,\n",
    "    validation_split=0.15,\n",
    "    shuffle=True,\n",
    "    callbacks=[keras.callbacks.ModelCheckpoint(filepath=model_path, verbose=2, save_best_only=True)],\n",
    "    verbose = 2,\n",
    ")\n",
    "with open(save_path / 'class.json', 'w') as f:\n",
    "    json.dump({'labels':dataset['labels']}, f)"
   ]
  },
  {
   "cell_type": "code",
   "execution_count": 10,
   "metadata": {},
   "outputs": [
    {
     "name": "stdout",
     "output_type": "stream",
     "text": [
      "63/63 [==============================] - 0s 2ms/step - loss: 0.0763 - accuracy: 0.9795\n"
     ]
    },
    {
     "data": {
      "text/plain": [
       "[0.0763082504272461, 0.9794999957084656]"
      ]
     },
     "execution_count": 10,
     "metadata": {},
     "output_type": "execute_result"
    }
   ],
   "source": [
    "model = keras.models.load_model(model_path)\n",
    "model.evaluate(x=dataset['x_test'], y=dataset['y_test_onehot'])"
   ]
  },
  {
   "cell_type": "code",
   "execution_count": null,
   "metadata": {},
   "outputs": [],
   "source": []
  }
 ],
 "metadata": {
  "colab": {
   "authorship_tag": "ABX9TyPm/k47j5xzQeZmvBPt3yWD",
   "include_colab_link": true,
   "name": "BodyModel-Creation.ipynb",
   "provenance": []
  },
  "kernelspec": {
   "display_name": "Python 3 (ipykernel)",
   "language": "python",
   "name": "python3"
  },
  "language_info": {
   "codemirror_mode": {
    "name": "ipython",
    "version": 3
   },
   "file_extension": ".py",
   "mimetype": "text/x-python",
   "name": "python",
   "nbconvert_exporter": "python",
   "pygments_lexer": "ipython3",
   "version": "3.7.9"
  }
 },
 "nbformat": 4,
 "nbformat_minor": 4
}
