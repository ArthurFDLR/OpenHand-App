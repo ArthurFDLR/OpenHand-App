{
  "nbformat": 4,
  "nbformat_minor": 0,
  "metadata": {
    "accelerator": "GPU",
    "colab": {
      "name": "OpenHand-Models.ipynb",
      "provenance": [],
      "toc_visible": true,
      "include_colab_link": true
    },
    "kernelspec": {
      "display_name": "Python 3 (ipykernel)",
      "language": "python",
      "name": "python3"
    },
    "language_info": {
      "codemirror_mode": {
        "name": "ipython",
        "version": 3
      },
      "file_extension": ".py",
      "mimetype": "text/x-python",
      "name": "python",
      "nbconvert_exporter": "python",
      "pygments_lexer": "ipython3",
      "version": "3.7.9"
    }
  },
  "cells": [
    {
      "cell_type": "markdown",
      "metadata": {
        "id": "view-in-github",
        "colab_type": "text"
      },
      "source": [
        "<a href=\"https://colab.research.google.com/github/ArthurFDLR/pose-classification-kit/blob/master/examples/hand_pose_classification.ipynb\" target=\"_parent\"><img src=\"https://colab.research.google.com/assets/colab-badge.svg\" alt=\"Open In Colab\"/></a>"
      ]
    },
    {
      "cell_type": "markdown",
      "metadata": {
        "id": "uMvrR9_jnDwO"
      },
      "source": [
        "# 🤙 Pose Classification Kit: Hand pose classification model creation"
      ]
    },
    {
      "cell_type": "markdown",
      "metadata": {
        "id": "ONjOBMTanXiN"
      },
      "source": [
        "This Notebook can be used to create Neural Network classifiers running in the [Pose Classification Kit](https://github.com/ArthurFDLR/pose-classification-kit).\n",
        "\n",
        "First, we have to import several libraries to create and train a new model."
      ]
    },
    {
      "cell_type": "code",
      "metadata": {
        "colab": {
          "base_uri": "https://localhost:8080/"
        },
        "id": "0Xvt8oHFae-I",
        "outputId": "aadcc080-4d96-41f0-b09a-e1c506e68475"
      },
      "source": [
        "import numpy as np\n",
        "import matplotlib.pyplot as plt\n",
        "import matplotlib.patches as mpatches\n",
        "from matplotlib.lines import Line2D\n",
        "import os\n",
        "\n",
        "try:\n",
        "    import google.colab\n",
        "    IN_COLAB = True\n",
        "except:\n",
        "    IN_COLAB = False\n",
        "\n",
        "if IN_COLAB:\n",
        "    %tensorflow_version 2.x\n",
        "    !pip install pose-classification-kit\n",
        "    \n",
        "import tensorflow\n",
        "from tensorflow import keras\n",
        "from pose_classification_kit.datasets import handDataset\n",
        "\n",
        "print('Available GPU:')\n",
        "!nvidia-smi -L\n",
        "print('\\nTensorFlow use GPU at: {}'.format(tensorflow.test.gpu_device_name()))"
      ],
      "execution_count": 1,
      "outputs": [
        {
          "output_type": "stream",
          "text": [
            "Collecting pose-classification-kit\n",
            "  Downloading pose_classification_kit-1.1.5-py3-none-any.whl (24.2 MB)\n",
            "\u001b[K     |████████████████████████████████| 24.2 MB 23 kB/s \n",
            "\u001b[?25hRequirement already satisfied: pandas<2.0.0,>=1.1.5 in /usr/local/lib/python3.7/dist-packages (from pose-classification-kit) (1.1.5)\n",
            "Requirement already satisfied: tensorflow in /usr/local/lib/python3.7/dist-packages (from pose-classification-kit) (2.5.0)\n",
            "Requirement already satisfied: numpy<1.20.0,>=1.19.2 in /usr/local/lib/python3.7/dist-packages (from pose-classification-kit) (1.19.5)\n",
            "Requirement already satisfied: pytz>=2017.2 in /usr/local/lib/python3.7/dist-packages (from pandas<2.0.0,>=1.1.5->pose-classification-kit) (2018.9)\n",
            "Requirement already satisfied: python-dateutil>=2.7.3 in /usr/local/lib/python3.7/dist-packages (from pandas<2.0.0,>=1.1.5->pose-classification-kit) (2.8.1)\n",
            "Requirement already satisfied: six>=1.5 in /usr/local/lib/python3.7/dist-packages (from python-dateutil>=2.7.3->pandas<2.0.0,>=1.1.5->pose-classification-kit) (1.15.0)\n",
            "Requirement already satisfied: h5py~=3.1.0 in /usr/local/lib/python3.7/dist-packages (from tensorflow->pose-classification-kit) (3.1.0)\n",
            "Requirement already satisfied: flatbuffers~=1.12.0 in /usr/local/lib/python3.7/dist-packages (from tensorflow->pose-classification-kit) (1.12)\n",
            "Requirement already satisfied: gast==0.4.0 in /usr/local/lib/python3.7/dist-packages (from tensorflow->pose-classification-kit) (0.4.0)\n",
            "Requirement already satisfied: termcolor~=1.1.0 in /usr/local/lib/python3.7/dist-packages (from tensorflow->pose-classification-kit) (1.1.0)\n",
            "Requirement already satisfied: keras-preprocessing~=1.1.2 in /usr/local/lib/python3.7/dist-packages (from tensorflow->pose-classification-kit) (1.1.2)\n",
            "Requirement already satisfied: grpcio~=1.34.0 in /usr/local/lib/python3.7/dist-packages (from tensorflow->pose-classification-kit) (1.34.1)\n",
            "Requirement already satisfied: wheel~=0.35 in /usr/local/lib/python3.7/dist-packages (from tensorflow->pose-classification-kit) (0.36.2)\n",
            "Requirement already satisfied: absl-py~=0.10 in /usr/local/lib/python3.7/dist-packages (from tensorflow->pose-classification-kit) (0.12.0)\n",
            "Requirement already satisfied: astunparse~=1.6.3 in /usr/local/lib/python3.7/dist-packages (from tensorflow->pose-classification-kit) (1.6.3)\n",
            "Requirement already satisfied: google-pasta~=0.2 in /usr/local/lib/python3.7/dist-packages (from tensorflow->pose-classification-kit) (0.2.0)\n",
            "Requirement already satisfied: keras-nightly~=2.5.0.dev in /usr/local/lib/python3.7/dist-packages (from tensorflow->pose-classification-kit) (2.5.0.dev2021032900)\n",
            "Requirement already satisfied: tensorflow-estimator<2.6.0,>=2.5.0rc0 in /usr/local/lib/python3.7/dist-packages (from tensorflow->pose-classification-kit) (2.5.0)\n",
            "Requirement already satisfied: tensorboard~=2.5 in /usr/local/lib/python3.7/dist-packages (from tensorflow->pose-classification-kit) (2.5.0)\n",
            "Requirement already satisfied: wrapt~=1.12.1 in /usr/local/lib/python3.7/dist-packages (from tensorflow->pose-classification-kit) (1.12.1)\n",
            "Requirement already satisfied: opt-einsum~=3.3.0 in /usr/local/lib/python3.7/dist-packages (from tensorflow->pose-classification-kit) (3.3.0)\n",
            "Requirement already satisfied: protobuf>=3.9.2 in /usr/local/lib/python3.7/dist-packages (from tensorflow->pose-classification-kit) (3.17.3)\n",
            "Requirement already satisfied: typing-extensions~=3.7.4 in /usr/local/lib/python3.7/dist-packages (from tensorflow->pose-classification-kit) (3.7.4.3)\n",
            "Requirement already satisfied: cached-property in /usr/local/lib/python3.7/dist-packages (from h5py~=3.1.0->tensorflow->pose-classification-kit) (1.5.2)\n",
            "Requirement already satisfied: werkzeug>=0.11.15 in /usr/local/lib/python3.7/dist-packages (from tensorboard~=2.5->tensorflow->pose-classification-kit) (1.0.1)\n",
            "Requirement already satisfied: google-auth<2,>=1.6.3 in /usr/local/lib/python3.7/dist-packages (from tensorboard~=2.5->tensorflow->pose-classification-kit) (1.32.1)\n",
            "Requirement already satisfied: tensorboard-data-server<0.7.0,>=0.6.0 in /usr/local/lib/python3.7/dist-packages (from tensorboard~=2.5->tensorflow->pose-classification-kit) (0.6.1)\n",
            "Requirement already satisfied: markdown>=2.6.8 in /usr/local/lib/python3.7/dist-packages (from tensorboard~=2.5->tensorflow->pose-classification-kit) (3.3.4)\n",
            "Requirement already satisfied: google-auth-oauthlib<0.5,>=0.4.1 in /usr/local/lib/python3.7/dist-packages (from tensorboard~=2.5->tensorflow->pose-classification-kit) (0.4.4)\n",
            "Requirement already satisfied: tensorboard-plugin-wit>=1.6.0 in /usr/local/lib/python3.7/dist-packages (from tensorboard~=2.5->tensorflow->pose-classification-kit) (1.8.0)\n",
            "Requirement already satisfied: requests<3,>=2.21.0 in /usr/local/lib/python3.7/dist-packages (from tensorboard~=2.5->tensorflow->pose-classification-kit) (2.23.0)\n",
            "Requirement already satisfied: setuptools>=41.0.0 in /usr/local/lib/python3.7/dist-packages (from tensorboard~=2.5->tensorflow->pose-classification-kit) (57.2.0)\n",
            "Requirement already satisfied: cachetools<5.0,>=2.0.0 in /usr/local/lib/python3.7/dist-packages (from google-auth<2,>=1.6.3->tensorboard~=2.5->tensorflow->pose-classification-kit) (4.2.2)\n",
            "Requirement already satisfied: pyasn1-modules>=0.2.1 in /usr/local/lib/python3.7/dist-packages (from google-auth<2,>=1.6.3->tensorboard~=2.5->tensorflow->pose-classification-kit) (0.2.8)\n",
            "Requirement already satisfied: rsa<5,>=3.1.4 in /usr/local/lib/python3.7/dist-packages (from google-auth<2,>=1.6.3->tensorboard~=2.5->tensorflow->pose-classification-kit) (4.7.2)\n",
            "Requirement already satisfied: requests-oauthlib>=0.7.0 in /usr/local/lib/python3.7/dist-packages (from google-auth-oauthlib<0.5,>=0.4.1->tensorboard~=2.5->tensorflow->pose-classification-kit) (1.3.0)\n",
            "Requirement already satisfied: importlib-metadata in /usr/local/lib/python3.7/dist-packages (from markdown>=2.6.8->tensorboard~=2.5->tensorflow->pose-classification-kit) (4.6.1)\n",
            "Requirement already satisfied: pyasn1<0.5.0,>=0.4.6 in /usr/local/lib/python3.7/dist-packages (from pyasn1-modules>=0.2.1->google-auth<2,>=1.6.3->tensorboard~=2.5->tensorflow->pose-classification-kit) (0.4.8)\n",
            "Requirement already satisfied: chardet<4,>=3.0.2 in /usr/local/lib/python3.7/dist-packages (from requests<3,>=2.21.0->tensorboard~=2.5->tensorflow->pose-classification-kit) (3.0.4)\n",
            "Requirement already satisfied: urllib3!=1.25.0,!=1.25.1,<1.26,>=1.21.1 in /usr/local/lib/python3.7/dist-packages (from requests<3,>=2.21.0->tensorboard~=2.5->tensorflow->pose-classification-kit) (1.24.3)\n",
            "Requirement already satisfied: idna<3,>=2.5 in /usr/local/lib/python3.7/dist-packages (from requests<3,>=2.21.0->tensorboard~=2.5->tensorflow->pose-classification-kit) (2.10)\n",
            "Requirement already satisfied: certifi>=2017.4.17 in /usr/local/lib/python3.7/dist-packages (from requests<3,>=2.21.0->tensorboard~=2.5->tensorflow->pose-classification-kit) (2021.5.30)\n",
            "Requirement already satisfied: oauthlib>=3.0.0 in /usr/local/lib/python3.7/dist-packages (from requests-oauthlib>=0.7.0->google-auth-oauthlib<0.5,>=0.4.1->tensorboard~=2.5->tensorflow->pose-classification-kit) (3.1.1)\n",
            "Requirement already satisfied: zipp>=0.5 in /usr/local/lib/python3.7/dist-packages (from importlib-metadata->markdown>=2.6.8->tensorboard~=2.5->tensorflow->pose-classification-kit) (3.5.0)\n",
            "Installing collected packages: pose-classification-kit\n",
            "Successfully installed pose-classification-kit-1.1.5\n",
            "1 Physical GPUs, 1 Logical GPUs\n",
            "Available GPU:\n",
            "GPU 0: Tesla T4 (UUID: GPU-65bbdbe4-42ed-f007-b0cb-f5b30cba9c3f)\n",
            "\n",
            "TensorFlow use GPU at: /device:GPU:0\n"
          ],
          "name": "stdout"
        }
      ]
    },
    {
      "cell_type": "markdown",
      "metadata": {
        "id": "JSmWOsSRg8i5"
      },
      "source": [
        "## Import dataset"
      ]
    },
    {
      "cell_type": "code",
      "metadata": {
        "id": "_v5VYGMCg8i6",
        "outputId": "15208251-c9aa-403c-ba55-3529a3e6dc7e",
        "colab": {
          "base_uri": "https://localhost:8080/"
        }
      },
      "source": [
        "dataset = handDataset(testSplit=.2, shuffle=True, handID=1)\n",
        "x_train = dataset['x_train']\n",
        "y_train = dataset['y_train_onehot']\n",
        "labels = dataset['labels']\n",
        "\n",
        "x_train.shape, y_train.shape"
      ],
      "execution_count": 2,
      "outputs": [
        {
          "output_type": "execute_result",
          "data": {
            "text/plain": [
              "((4347, 42), (4347, 27))"
            ]
          },
          "metadata": {
            "tags": []
          },
          "execution_count": 2
        }
      ]
    },
    {
      "cell_type": "markdown",
      "metadata": {
        "id": "xRWuVIAHae-P"
      },
      "source": [
        "## Models exploration\n",
        "\n",
        "This section is optional. The following blocks can be used to compare different model architecture and training processes."
      ]
    },
    {
      "cell_type": "code",
      "metadata": {
        "id": "93-aeO7Sae-P"
      },
      "source": [
        "model_train_history = {}\n",
        "input_dim = x_train.shape[1]\n",
        "validation_split = 0.20\n",
        "epochs = 15"
      ],
      "execution_count": 3,
      "outputs": []
    },
    {
      "cell_type": "code",
      "metadata": {
        "colab": {
          "base_uri": "https://localhost:8080/"
        },
        "id": "PZ2p8pTDae-P",
        "outputId": "7546402c-69b3-4ea1-9c30-49a4dce4129f"
      },
      "source": [
        "model = keras.models.Sequential(name = 'ANN-3x16',\n",
        "    layers =\n",
        "    [\n",
        "        keras.layers.InputLayer(input_shape=input_dim),\n",
        "        keras.layers.Dense(16, activation=keras.activations.relu),\n",
        "        keras.layers.Dense(16, activation=keras.activations.relu),\n",
        "        keras.layers.Dense(16, activation=keras.activations.relu),\n",
        "        keras.layers.Dense(len(labels), activation=keras.activations.softmax),\n",
        "    ]\n",
        ")\n",
        "\n",
        "model.summary()\n",
        "model.compile(\n",
        "    optimizer=keras.optimizers.Adam(),\n",
        "    loss='categorical_crossentropy',\n",
        "    metrics=['accuracy'],\n",
        ")\n",
        "\n",
        "model_train_history[model] = model.fit(\n",
        "    x=x_train,\n",
        "    y=y_train,\n",
        "    epochs=epochs,\n",
        "    batch_size=4,\n",
        "    validation_split=validation_split,\n",
        "    shuffle=True,\n",
        "    verbose=1,\n",
        ")"
      ],
      "execution_count": 4,
      "outputs": [
        {
          "output_type": "stream",
          "text": [
            "Model: \"ANN-3x16\"\n",
            "_________________________________________________________________\n",
            "Layer (type)                 Output Shape              Param #   \n",
            "=================================================================\n",
            "dense (Dense)                (None, 16)                688       \n",
            "_________________________________________________________________\n",
            "dense_1 (Dense)              (None, 16)                272       \n",
            "_________________________________________________________________\n",
            "dense_2 (Dense)              (None, 16)                272       \n",
            "_________________________________________________________________\n",
            "dense_3 (Dense)              (None, 27)                459       \n",
            "=================================================================\n",
            "Total params: 1,691\n",
            "Trainable params: 1,691\n",
            "Non-trainable params: 0\n",
            "_________________________________________________________________\n",
            "Epoch 1/15\n",
            "870/870 [==============================] - 6s 3ms/step - loss: 2.0095 - accuracy: 0.4464 - val_loss: 0.7066 - val_accuracy: 0.7874\n",
            "Epoch 2/15\n",
            "870/870 [==============================] - 3s 3ms/step - loss: 0.3870 - accuracy: 0.9154 - val_loss: 0.1953 - val_accuracy: 0.9494\n",
            "Epoch 3/15\n",
            "870/870 [==============================] - 3s 3ms/step - loss: 0.1556 - accuracy: 0.9655 - val_loss: 0.1074 - val_accuracy: 0.9805\n",
            "Epoch 4/15\n",
            "870/870 [==============================] - 3s 3ms/step - loss: 0.0954 - accuracy: 0.9779 - val_loss: 0.0799 - val_accuracy: 0.9816\n",
            "Epoch 5/15\n",
            "870/870 [==============================] - 3s 3ms/step - loss: 0.0665 - accuracy: 0.9836 - val_loss: 0.0762 - val_accuracy: 0.9805\n",
            "Epoch 6/15\n",
            "870/870 [==============================] - 3s 3ms/step - loss: 0.0471 - accuracy: 0.9882 - val_loss: 0.0573 - val_accuracy: 0.9828\n",
            "Epoch 7/15\n",
            "870/870 [==============================] - 2s 3ms/step - loss: 0.0391 - accuracy: 0.9891 - val_loss: 0.0868 - val_accuracy: 0.9701\n",
            "Epoch 8/15\n",
            "870/870 [==============================] - 2s 3ms/step - loss: 0.0299 - accuracy: 0.9928 - val_loss: 0.0490 - val_accuracy: 0.9874\n",
            "Epoch 9/15\n",
            "870/870 [==============================] - 2s 3ms/step - loss: 0.0236 - accuracy: 0.9945 - val_loss: 0.0406 - val_accuracy: 0.9851\n",
            "Epoch 10/15\n",
            "870/870 [==============================] - 2s 3ms/step - loss: 0.0219 - accuracy: 0.9960 - val_loss: 0.0373 - val_accuracy: 0.9920\n",
            "Epoch 11/15\n",
            "870/870 [==============================] - 2s 3ms/step - loss: 0.0225 - accuracy: 0.9934 - val_loss: 0.0324 - val_accuracy: 0.9920\n",
            "Epoch 12/15\n",
            "870/870 [==============================] - 3s 3ms/step - loss: 0.0123 - accuracy: 0.9968 - val_loss: 0.0216 - val_accuracy: 0.9943\n",
            "Epoch 13/15\n",
            "870/870 [==============================] - 2s 3ms/step - loss: 0.0157 - accuracy: 0.9954 - val_loss: 0.0146 - val_accuracy: 0.9943\n",
            "Epoch 14/15\n",
            "870/870 [==============================] - 3s 3ms/step - loss: 0.0110 - accuracy: 0.9974 - val_loss: 0.0117 - val_accuracy: 0.9954\n",
            "Epoch 15/15\n",
            "870/870 [==============================] - 3s 3ms/step - loss: 0.0099 - accuracy: 0.9974 - val_loss: 0.0154 - val_accuracy: 0.9943\n"
          ],
          "name": "stdout"
        }
      ]
    },
    {
      "cell_type": "code",
      "metadata": {
        "colab": {
          "base_uri": "https://localhost:8080/"
        },
        "id": "Ils0Rcv4ae-Q",
        "outputId": "baca714f-39c3-407b-ecd4-0ccd3aa0b4f9"
      },
      "source": [
        "model = keras.models.Sequential(name = 'ANN-3x64',\n",
        "                                   layers =\n",
        "    [\n",
        "        keras.layers.InputLayer(input_shape=input_dim),\n",
        "        keras.layers.Dense(64, activation=keras.activations.relu),\n",
        "        keras.layers.Dense(64, activation=keras.activations.relu),\n",
        "        keras.layers.Dense(64, activation=keras.activations.relu),\n",
        "        keras.layers.Dense(len(labels), activation=keras.activations.softmax),\n",
        "    ]\n",
        ")\n",
        "\n",
        "model.summary()\n",
        "model.compile(\n",
        "    optimizer=keras.optimizers.Adam(),\n",
        "    loss='categorical_crossentropy',\n",
        "    metrics=['accuracy'],\n",
        ")\n",
        "\n",
        "model_train_history[model] = model.fit(\n",
        "    x=x_train,\n",
        "    y=y_train,\n",
        "    epochs=epochs,\n",
        "    batch_size=4,\n",
        "    validation_split=validation_split,\n",
        "    shuffle=True,\n",
        "    verbose=1,\n",
        ")"
      ],
      "execution_count": 5,
      "outputs": [
        {
          "output_type": "stream",
          "text": [
            "Model: \"ANN-3x64\"\n",
            "_________________________________________________________________\n",
            "Layer (type)                 Output Shape              Param #   \n",
            "=================================================================\n",
            "dense_4 (Dense)              (None, 64)                2752      \n",
            "_________________________________________________________________\n",
            "dense_5 (Dense)              (None, 64)                4160      \n",
            "_________________________________________________________________\n",
            "dense_6 (Dense)              (None, 64)                4160      \n",
            "_________________________________________________________________\n",
            "dense_7 (Dense)              (None, 27)                1755      \n",
            "=================================================================\n",
            "Total params: 12,827\n",
            "Trainable params: 12,827\n",
            "Non-trainable params: 0\n",
            "_________________________________________________________________\n",
            "Epoch 1/15\n",
            "870/870 [==============================] - 3s 3ms/step - loss: 0.8609 - accuracy: 0.7831 - val_loss: 0.1198 - val_accuracy: 0.9701\n",
            "Epoch 2/15\n",
            "870/870 [==============================] - 2s 3ms/step - loss: 0.0710 - accuracy: 0.9825 - val_loss: 0.0346 - val_accuracy: 0.9897\n",
            "Epoch 3/15\n",
            "870/870 [==============================] - 2s 3ms/step - loss: 0.0328 - accuracy: 0.9905 - val_loss: 0.0480 - val_accuracy: 0.9839\n",
            "Epoch 4/15\n",
            "870/870 [==============================] - 3s 3ms/step - loss: 0.0211 - accuracy: 0.9937 - val_loss: 0.1835 - val_accuracy: 0.9264\n",
            "Epoch 5/15\n",
            "870/870 [==============================] - 3s 3ms/step - loss: 0.0115 - accuracy: 0.9974 - val_loss: 0.0108 - val_accuracy: 0.9977\n",
            "Epoch 6/15\n",
            "870/870 [==============================] - 2s 3ms/step - loss: 0.0241 - accuracy: 0.9931 - val_loss: 0.0175 - val_accuracy: 0.9931\n",
            "Epoch 7/15\n",
            "870/870 [==============================] - 3s 3ms/step - loss: 0.0076 - accuracy: 0.9980 - val_loss: 0.0061 - val_accuracy: 0.9989\n",
            "Epoch 8/15\n",
            "870/870 [==============================] - 2s 3ms/step - loss: 0.0119 - accuracy: 0.9971 - val_loss: 0.0076 - val_accuracy: 0.9989\n",
            "Epoch 9/15\n",
            "870/870 [==============================] - 2s 3ms/step - loss: 0.0042 - accuracy: 0.9986 - val_loss: 0.0158 - val_accuracy: 0.9977\n",
            "Epoch 10/15\n",
            "870/870 [==============================] - 2s 3ms/step - loss: 0.0126 - accuracy: 0.9957 - val_loss: 0.0093 - val_accuracy: 0.9989\n",
            "Epoch 11/15\n",
            "870/870 [==============================] - 3s 3ms/step - loss: 0.0123 - accuracy: 0.9965 - val_loss: 0.0097 - val_accuracy: 0.9989\n",
            "Epoch 12/15\n",
            "870/870 [==============================] - 2s 3ms/step - loss: 0.0055 - accuracy: 0.9983 - val_loss: 0.0053 - val_accuracy: 0.9989\n",
            "Epoch 13/15\n",
            "870/870 [==============================] - 2s 3ms/step - loss: 0.0081 - accuracy: 0.9980 - val_loss: 0.0082 - val_accuracy: 0.9989\n",
            "Epoch 14/15\n",
            "870/870 [==============================] - 2s 3ms/step - loss: 0.0017 - accuracy: 0.9991 - val_loss: 0.0131 - val_accuracy: 0.9966\n",
            "Epoch 15/15\n",
            "870/870 [==============================] - 2s 3ms/step - loss: 0.0084 - accuracy: 0.9983 - val_loss: 0.0025 - val_accuracy: 0.9989\n"
          ],
          "name": "stdout"
        }
      ]
    },
    {
      "cell_type": "code",
      "metadata": {
        "colab": {
          "base_uri": "https://localhost:8080/"
        },
        "id": "lUaetVfOae-Q",
        "outputId": "17dcee7c-f45c-4cdc-b959-fe1c6a9ae83a"
      },
      "source": [
        "model = keras.models.Sequential(name = 'ANN-3x64-Dropouts',\n",
        "                                   layers =\n",
        "    [\n",
        "        keras.layers.InputLayer(input_shape=input_dim),\n",
        "        keras.layers.Dense(64, activation=keras.activations.relu),\n",
        "        keras.layers.Dropout(0.3),\n",
        "        keras.layers.Dense(64, activation=keras.activations.relu),\n",
        "        keras.layers.Dropout(0.3),\n",
        "        keras.layers.Dense(64, activation=keras.activations.relu),\n",
        "        keras.layers.Dropout(0.3),\n",
        "        keras.layers.Dense(len(labels), activation=keras.activations.softmax),\n",
        "    ]\n",
        ")\n",
        "\n",
        "model.summary()\n",
        "model.compile(\n",
        "    optimizer=keras.optimizers.Adam(),\n",
        "    loss='categorical_crossentropy',\n",
        "    metrics=['accuracy'],\n",
        ")\n",
        "\n",
        "model_train_history[model] = model.fit(\n",
        "    x=x_train,\n",
        "    y=y_train,\n",
        "    epochs=epochs,\n",
        "    batch_size=4,\n",
        "    validation_split=validation_split,\n",
        "    shuffle=True,\n",
        "    verbose=1,\n",
        ")"
      ],
      "execution_count": 6,
      "outputs": [
        {
          "output_type": "stream",
          "text": [
            "Model: \"ANN-3x64-Dropouts\"\n",
            "_________________________________________________________________\n",
            "Layer (type)                 Output Shape              Param #   \n",
            "=================================================================\n",
            "dense_8 (Dense)              (None, 64)                2752      \n",
            "_________________________________________________________________\n",
            "dropout (Dropout)            (None, 64)                0         \n",
            "_________________________________________________________________\n",
            "dense_9 (Dense)              (None, 64)                4160      \n",
            "_________________________________________________________________\n",
            "dropout_1 (Dropout)          (None, 64)                0         \n",
            "_________________________________________________________________\n",
            "dense_10 (Dense)             (None, 64)                4160      \n",
            "_________________________________________________________________\n",
            "dropout_2 (Dropout)          (None, 64)                0         \n",
            "_________________________________________________________________\n",
            "dense_11 (Dense)             (None, 27)                1755      \n",
            "=================================================================\n",
            "Total params: 12,827\n",
            "Trainable params: 12,827\n",
            "Non-trainable params: 0\n",
            "_________________________________________________________________\n",
            "Epoch 1/15\n",
            "870/870 [==============================] - 3s 3ms/step - loss: 1.9459 - accuracy: 0.3955 - val_loss: 0.6170 - val_accuracy: 0.8299\n",
            "Epoch 2/15\n",
            "870/870 [==============================] - 3s 3ms/step - loss: 0.7669 - accuracy: 0.7110 - val_loss: 0.2344 - val_accuracy: 0.9368\n",
            "Epoch 3/15\n",
            "870/870 [==============================] - 3s 3ms/step - loss: 0.4771 - accuracy: 0.8274 - val_loss: 0.1153 - val_accuracy: 0.9747\n",
            "Epoch 4/15\n",
            "870/870 [==============================] - 3s 3ms/step - loss: 0.3480 - accuracy: 0.8737 - val_loss: 0.0718 - val_accuracy: 0.9713\n",
            "Epoch 5/15\n",
            "870/870 [==============================] - 3s 3ms/step - loss: 0.2661 - accuracy: 0.9108 - val_loss: 0.0545 - val_accuracy: 0.9793\n",
            "Epoch 6/15\n",
            "870/870 [==============================] - 3s 3ms/step - loss: 0.2071 - accuracy: 0.9327 - val_loss: 0.0327 - val_accuracy: 0.9885\n",
            "Epoch 7/15\n",
            "870/870 [==============================] - 3s 3ms/step - loss: 0.1903 - accuracy: 0.9387 - val_loss: 0.0537 - val_accuracy: 0.9793\n",
            "Epoch 8/15\n",
            "870/870 [==============================] - 3s 3ms/step - loss: 0.1523 - accuracy: 0.9523 - val_loss: 0.0266 - val_accuracy: 0.9908\n",
            "Epoch 9/15\n",
            "870/870 [==============================] - 3s 3ms/step - loss: 0.1417 - accuracy: 0.9491 - val_loss: 0.0278 - val_accuracy: 0.9931\n",
            "Epoch 10/15\n",
            "870/870 [==============================] - 3s 3ms/step - loss: 0.1288 - accuracy: 0.9583 - val_loss: 0.0226 - val_accuracy: 0.9931\n",
            "Epoch 11/15\n",
            "870/870 [==============================] - 3s 3ms/step - loss: 0.1063 - accuracy: 0.9620 - val_loss: 0.0256 - val_accuracy: 0.9920\n",
            "Epoch 12/15\n",
            "870/870 [==============================] - 3s 3ms/step - loss: 0.1051 - accuracy: 0.9661 - val_loss: 0.0291 - val_accuracy: 0.9897\n",
            "Epoch 13/15\n",
            "870/870 [==============================] - 3s 3ms/step - loss: 0.1155 - accuracy: 0.9609 - val_loss: 0.0119 - val_accuracy: 0.9943\n",
            "Epoch 14/15\n",
            "870/870 [==============================] - 3s 3ms/step - loss: 0.0904 - accuracy: 0.9712 - val_loss: 0.0210 - val_accuracy: 0.9931\n",
            "Epoch 15/15\n",
            "870/870 [==============================] - 3s 3ms/step - loss: 0.0754 - accuracy: 0.9727 - val_loss: 0.0169 - val_accuracy: 0.9943\n"
          ],
          "name": "stdout"
        }
      ]
    },
    {
      "cell_type": "code",
      "metadata": {
        "colab": {
          "base_uri": "https://localhost:8080/"
        },
        "id": "FA1LSFoVae-R",
        "outputId": "6b2a5b4d-7632-420b-8db9-92431cde3fa1"
      },
      "source": [
        "model = keras.models.Sequential(name = 'ANN-2x128',\n",
        "                                   layers =\n",
        "    [\n",
        "        keras.layers.InputLayer(input_shape=input_dim),\n",
        "        keras.layers.Dense(128, activation=keras.activations.relu),\n",
        "        keras.layers.Dense(128, activation=keras.activations.relu),\n",
        "        keras.layers.Dense(len(labels), activation=keras.activations.softmax),\n",
        "    ]\n",
        ")\n",
        "\n",
        "model.summary()\n",
        "model.compile(\n",
        "    optimizer=keras.optimizers.Adam(),\n",
        "    loss='categorical_crossentropy',\n",
        "    metrics=['accuracy'],\n",
        ")\n",
        "\n",
        "model_train_history[model] = model.fit(\n",
        "    x=x_train,\n",
        "    y=y_train,\n",
        "    epochs=epochs,\n",
        "    batch_size=4,\n",
        "    validation_split=validation_split,\n",
        "    shuffle=True,\n",
        "    verbose=1,\n",
        ")"
      ],
      "execution_count": 7,
      "outputs": [
        {
          "output_type": "stream",
          "text": [
            "Model: \"ANN-2x128\"\n",
            "_________________________________________________________________\n",
            "Layer (type)                 Output Shape              Param #   \n",
            "=================================================================\n",
            "dense_12 (Dense)             (None, 128)               5504      \n",
            "_________________________________________________________________\n",
            "dense_13 (Dense)             (None, 128)               16512     \n",
            "_________________________________________________________________\n",
            "dense_14 (Dense)             (None, 27)                3483      \n",
            "=================================================================\n",
            "Total params: 25,499\n",
            "Trainable params: 25,499\n",
            "Non-trainable params: 0\n",
            "_________________________________________________________________\n",
            "Epoch 1/15\n",
            "870/870 [==============================] - 3s 3ms/step - loss: 0.7049 - accuracy: 0.8473 - val_loss: 0.0971 - val_accuracy: 0.9793\n",
            "Epoch 2/15\n",
            "870/870 [==============================] - 3s 3ms/step - loss: 0.0516 - accuracy: 0.9882 - val_loss: 0.0384 - val_accuracy: 0.9920\n",
            "Epoch 3/15\n",
            "870/870 [==============================] - 3s 3ms/step - loss: 0.0249 - accuracy: 0.9940 - val_loss: 0.0871 - val_accuracy: 0.9690\n",
            "Epoch 4/15\n",
            "870/870 [==============================] - 2s 3ms/step - loss: 0.0144 - accuracy: 0.9954 - val_loss: 0.0092 - val_accuracy: 0.9989\n",
            "Epoch 5/15\n",
            "870/870 [==============================] - 2s 3ms/step - loss: 0.0162 - accuracy: 0.9965 - val_loss: 0.0164 - val_accuracy: 0.9954\n",
            "Epoch 6/15\n",
            "870/870 [==============================] - 2s 3ms/step - loss: 0.0108 - accuracy: 0.9974 - val_loss: 0.0071 - val_accuracy: 0.9989\n",
            "Epoch 7/15\n",
            "870/870 [==============================] - 2s 3ms/step - loss: 0.0085 - accuracy: 0.9977 - val_loss: 0.0267 - val_accuracy: 0.9920\n",
            "Epoch 8/15\n",
            "870/870 [==============================] - 2s 3ms/step - loss: 0.0047 - accuracy: 0.9983 - val_loss: 0.0180 - val_accuracy: 0.9943\n",
            "Epoch 9/15\n",
            "870/870 [==============================] - 2s 3ms/step - loss: 0.0037 - accuracy: 0.9983 - val_loss: 0.0065 - val_accuracy: 0.9989\n",
            "Epoch 10/15\n",
            "870/870 [==============================] - 2s 3ms/step - loss: 0.0031 - accuracy: 0.9991 - val_loss: 0.0060 - val_accuracy: 0.9989\n",
            "Epoch 11/15\n",
            "870/870 [==============================] - 2s 3ms/step - loss: 0.0086 - accuracy: 0.9980 - val_loss: 0.0032 - val_accuracy: 0.9989\n",
            "Epoch 12/15\n",
            "870/870 [==============================] - 2s 3ms/step - loss: 0.0048 - accuracy: 0.9991 - val_loss: 0.0063 - val_accuracy: 0.9989\n",
            "Epoch 13/15\n",
            "870/870 [==============================] - 2s 3ms/step - loss: 0.0017 - accuracy: 0.9994 - val_loss: 0.0045 - val_accuracy: 0.9989\n",
            "Epoch 14/15\n",
            "870/870 [==============================] - 2s 3ms/step - loss: 0.0056 - accuracy: 0.9991 - val_loss: 0.0045 - val_accuracy: 0.9989\n",
            "Epoch 15/15\n",
            "870/870 [==============================] - 3s 3ms/step - loss: 0.0012 - accuracy: 0.9994 - val_loss: 0.0042 - val_accuracy: 0.9989\n"
          ],
          "name": "stdout"
        }
      ]
    },
    {
      "cell_type": "code",
      "metadata": {
        "colab": {
          "base_uri": "https://localhost:8080/",
          "height": 356
        },
        "id": "4UhLcq1Jae-R",
        "outputId": "0778730e-c2d6-4a26-f64e-f9f531d8e061"
      },
      "source": [
        "fig, axs = plt.subplots(1, 2, figsize=(14,5))\n",
        "colors_graph = [\"#d69e2d\",\n",
        "                \"#927ced\",\n",
        "                \"#73bd4d\",\n",
        "                \"#e462c0\",\n",
        "                \"#eb5e52\"]\n",
        "handles = []\n",
        "\n",
        "for (model, history), color in zip(model_train_history.items(), colors_graph):\n",
        "    label = '{} ({})'.format(model.name, model.count_params())\n",
        "    axs[0].plot(history.history['loss'], c=color, ls='-.', alpha=.7)\n",
        "    axs[1].plot(history.history['accuracy'], c=color, ls='-.', alpha=.7)\n",
        "    axs[0].plot(history.history['val_loss'], c=color)\n",
        "    axs[1].plot(history.history['val_accuracy'], c=color)\n",
        "    handles.append(mpatches.Patch(color=color, label=label))\n",
        "\n",
        "for ax in axs:\n",
        "    ax.set_xlabel('Epoch')\n",
        "axs[0].set_ylabel('loss')\n",
        "axs[0].set_yscale('log')\n",
        "axs[1].set_ylabel('accuracy')\n",
        "axs[1].set_ylim(0.95,1.01)\n",
        "\n",
        "handles.append(Line2D([0], [0], color='grey', lw=1, ls='-', label='validation'))\n",
        "handles.append(Line2D([0], [0], color='grey', lw=1, ls='-.', label='training'))\n",
        "\n",
        "fig.subplots_adjust(right=0.85)\n",
        "fig.legend(handles=handles,\n",
        "           loc=\"center right\",\n",
        "           borderaxespad=1)"
      ],
      "execution_count": 8,
      "outputs": [
        {
          "output_type": "execute_result",
          "data": {
            "text/plain": [
              "<matplotlib.legend.Legend at 0x7f7f30f7bf50>"
            ]
          },
          "metadata": {
            "tags": []
          },
          "execution_count": 8
        },
        {
          "output_type": "display_data",
          "data": {
            "image/png": "[encoded data removed]",
            "text/plain": [
              "<Figure size 1008x360 with 2 Axes>"
            ]
          },
          "metadata": {
            "tags": [],
            "needs_background": "light"
          }
        }
      ]
    },
    {
      "cell_type": "markdown",
      "metadata": {
        "id": "JmJ_LECNae-R"
      },
      "source": [
        "## Model export"
      ]
    },
    {
      "cell_type": "markdown",
      "metadata": {
        "id": "km8bpVuSrwPE"
      },
      "source": [
        "Once you have a good model, you can save it on your Google Drive. The model is saved using the [folder hierarchy of OpenHand](https://github.com/ArthurFDLR/OpenHand-App#pose-classifier-models)."
      ]
    },
    {
      "cell_type": "code",
      "metadata": {
        "colab": {
          "base_uri": "https://localhost:8080/"
        },
        "id": "MyD7zsZSfuMk",
        "outputId": "45b5fecf-ce4f-48eb-f852-b0873c8efd60"
      },
      "source": [
        "from pathlib import Path\n",
        "import json\n",
        "\n",
        "model_name = 'ANN_RightHand_1'\n",
        "\n",
        "if IN_COLAB:\n",
        "    content_path = Path('/').absolute() / 'content'\n",
        "    drive_path = content_path / 'drive'\n",
        "    google.colab.drive.mount(str(drive_path))\n",
        "    save_path = drive_path / 'My Drive'\n",
        "    \n",
        "    for subfolder in ['Pose Classification Kit', 'Models', model_name]:\n",
        "        save_path /= subfolder\n",
        "        if not (save_path).is_dir():\n",
        "            %mkdir \"{save_path}\"\n",
        "else:\n",
        "    save_path = Path('.').absolute() / model_name\n",
        "    %mkdir \"{save_path}\"\n",
        "\n",
        "model_path = save_path / '{name}.h5'.format(name = model_name)"
      ],
      "execution_count": 9,
      "outputs": [
        {
          "output_type": "stream",
          "text": [
            "Mounted at /content/drive\n"
          ],
          "name": "stdout"
        }
      ]
    },
    {
      "cell_type": "code",
      "metadata": {
        "colab": {
          "base_uri": "https://localhost:8080/"
        },
        "id": "5pc5o55gae-R",
        "outputId": "5a4ca725-206e-4ee8-e4d1-8195807388bb"
      },
      "source": [
        "model = keras.models.Sequential(name = '27Class_3x64',\n",
        "                                   layers =\n",
        "    [\n",
        "        keras.layers.InputLayer(input_shape=input_dim),\n",
        "        keras.layers.Dense(64, activation=keras.activations.relu),\n",
        "        keras.layers.Dense(64, activation=keras.activations.relu),\n",
        "        keras.layers.Dense(64, activation=keras.activations.relu),\n",
        "        keras.layers.Dense(len(labels), activation=keras.activations.softmax),\n",
        "    ]\n",
        ")\n",
        "\n",
        "model.summary()\n",
        "model.compile(\n",
        "    optimizer=keras.optimizers.Adam(),\n",
        "    loss='categorical_crossentropy',\n",
        "    metrics=['accuracy'],\n",
        ")\n",
        "\n",
        "model.fit(\n",
        "    x=x_train,\n",
        "    y=y_train,\n",
        "    epochs=10,\n",
        "    batch_size=4,\n",
        "    validation_split=0.15,\n",
        "    shuffle=True,\n",
        "    callbacks=[keras.callbacks.ModelCheckpoint(filepath=model_path, verbose=1, save_best_only=True)],\n",
        "    verbose = 2,\n",
        ")\n",
        "\n",
        "with open(save_path / 'class.json', 'w') as f:\n",
        "    json.dump({'labels':labels}, f)"
      ],
      "execution_count": 10,
      "outputs": [
        {
          "output_type": "stream",
          "text": [
            "Model: \"27Class_3x64\"\n",
            "_________________________________________________________________\n",
            "Layer (type)                 Output Shape              Param #   \n",
            "=================================================================\n",
            "dense_15 (Dense)             (None, 64)                2752      \n",
            "_________________________________________________________________\n",
            "dense_16 (Dense)             (None, 64)                4160      \n",
            "_________________________________________________________________\n",
            "dense_17 (Dense)             (None, 64)                4160      \n",
            "_________________________________________________________________\n",
            "dense_18 (Dense)             (None, 27)                1755      \n",
            "=================================================================\n",
            "Total params: 12,827\n",
            "Trainable params: 12,827\n",
            "Non-trainable params: 0\n",
            "_________________________________________________________________\n",
            "Epoch 1/10\n",
            "924/924 - 3s - loss: 0.8317 - accuracy: 0.7856 - val_loss: 0.1262 - val_accuracy: 0.9648\n",
            "\n",
            "Epoch 00001: val_loss improved from inf to 0.12617, saving model to /content/drive/My Drive/Pose Classification Kit/Models/ANN_RightHand_1/ANN_RightHand_1.h5\n",
            "Epoch 2/10\n",
            "924/924 - 2s - loss: 0.0701 - accuracy: 0.9827 - val_loss: 0.0483 - val_accuracy: 0.9816\n",
            "\n",
            "Epoch 00002: val_loss improved from 0.12617 to 0.04829, saving model to /content/drive/My Drive/Pose Classification Kit/Models/ANN_RightHand_1/ANN_RightHand_1.h5\n",
            "Epoch 3/10\n",
            "924/924 - 2s - loss: 0.0372 - accuracy: 0.9897 - val_loss: 0.0259 - val_accuracy: 0.9877\n",
            "\n",
            "Epoch 00003: val_loss improved from 0.04829 to 0.02588, saving model to /content/drive/My Drive/Pose Classification Kit/Models/ANN_RightHand_1/ANN_RightHand_1.h5\n",
            "Epoch 4/10\n",
            "924/924 - 2s - loss: 0.0262 - accuracy: 0.9946 - val_loss: 0.0203 - val_accuracy: 0.9893\n",
            "\n",
            "Epoch 00004: val_loss improved from 0.02588 to 0.02029, saving model to /content/drive/My Drive/Pose Classification Kit/Models/ANN_RightHand_1/ANN_RightHand_1.h5\n",
            "Epoch 5/10\n",
            "924/924 - 2s - loss: 0.0177 - accuracy: 0.9940 - val_loss: 0.0290 - val_accuracy: 0.9908\n",
            "\n",
            "Epoch 00005: val_loss did not improve from 0.02029\n",
            "Epoch 6/10\n",
            "924/924 - 2s - loss: 0.0143 - accuracy: 0.9968 - val_loss: 0.0099 - val_accuracy: 0.9969\n",
            "\n",
            "Epoch 00006: val_loss improved from 0.02029 to 0.00991, saving model to /content/drive/My Drive/Pose Classification Kit/Models/ANN_RightHand_1/ANN_RightHand_1.h5\n",
            "Epoch 7/10\n",
            "924/924 - 2s - loss: 0.0095 - accuracy: 0.9973 - val_loss: 0.0127 - val_accuracy: 0.9969\n",
            "\n",
            "Epoch 00007: val_loss did not improve from 0.00991\n",
            "Epoch 8/10\n",
            "924/924 - 2s - loss: 0.0094 - accuracy: 0.9986 - val_loss: 0.0065 - val_accuracy: 0.9985\n",
            "\n",
            "Epoch 00008: val_loss improved from 0.00991 to 0.00651, saving model to /content/drive/My Drive/Pose Classification Kit/Models/ANN_RightHand_1/ANN_RightHand_1.h5\n",
            "Epoch 9/10\n",
            "924/924 - 2s - loss: 0.0048 - accuracy: 0.9992 - val_loss: 0.0044 - val_accuracy: 0.9985\n",
            "\n",
            "Epoch 00009: val_loss improved from 0.00651 to 0.00438, saving model to /content/drive/My Drive/Pose Classification Kit/Models/ANN_RightHand_1/ANN_RightHand_1.h5\n",
            "Epoch 10/10\n",
            "924/924 - 2s - loss: 0.0173 - accuracy: 0.9968 - val_loss: 0.0232 - val_accuracy: 0.9954\n",
            "\n",
            "Epoch 00010: val_loss did not improve from 0.00438\n"
          ],
          "name": "stdout"
        }
      ]
    },
    {
      "cell_type": "code",
      "metadata": {
        "colab": {
          "base_uri": "https://localhost:8080/"
        },
        "id": "mPMnJf1Vae-S",
        "outputId": "79d6066f-d31e-4d54-e88f-5cb1f405b8d8"
      },
      "source": [
        "model = keras.models.load_model(model_path)\n",
        "model.evaluate(x=dataset['x_test'], y=dataset['y_test_onehot'])"
      ],
      "execution_count": 11,
      "outputs": [
        {
          "output_type": "stream",
          "text": [
            "34/34 [==============================] - 0s 2ms/step - loss: 0.0071 - accuracy: 0.9981\n"
          ],
          "name": "stdout"
        },
        {
          "output_type": "execute_result",
          "data": {
            "text/plain": [
              "[0.007146174553781748, 0.9981481432914734]"
            ]
          },
          "metadata": {
            "tags": []
          },
          "execution_count": 11
        }
      ]
    },
    {
      "cell_type": "code",
      "metadata": {
        "id": "V3lsa7aKae-S"
      },
      "source": [
        ""
      ],
      "execution_count": null,
      "outputs": []
    }
  ]
}