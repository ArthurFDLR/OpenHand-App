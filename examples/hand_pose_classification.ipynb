{
 "cells": [
  {
   "cell_type": "markdown",
   "metadata": {
    "id": "uMvrR9_jnDwO"
   },
   "source": [
    "# 🤙 Pose Classification Kit: Hand pose classification model creation"
   ]
  },
  {
   "cell_type": "markdown",
   "metadata": {
    "id": "ONjOBMTanXiN"
   },
   "source": [
    "This Notebook can be used to create Neural Network classifiers running in the [Pose Classification Kit](https://github.com/ArthurFDLR/pose-classification-kit).\n",
    "\n",
    "First, we have to import several libraries to create and train a new model."
   ]
  },
  {
   "cell_type": "code",
   "execution_count": 4,
   "metadata": {
    "colab": {
     "base_uri": "https://localhost:8080/"
    },
    "id": "0Xvt8oHFae-I",
    "outputId": "e4a71681-b3a0-4240-cdb7-0ac3710d36ae"
   },
   "outputs": [
    {
     "name": "stdout",
     "output_type": "stream",
     "text": [
      "Available GPU:\n",
      "GPU 0: GeForce RTX 2060 with Max-Q Design (UUID: GPU-63f90f3a-1a62-5290-ce48-ec73cce8a7ae)\n",
      "\n",
      "TensorFlow use GPU at: /device:GPU:0\n"
     ]
    }
   ],
   "source": [
    "import numpy as np\n",
    "import matplotlib.pyplot as plt\n",
    "import matplotlib.patches as mpatches\n",
    "from matplotlib.lines import Line2D\n",
    "import os\n",
    "\n",
    "try:\n",
    "    import google.colab\n",
    "    IN_COLAB = True\n",
    "except:\n",
    "    IN_COLAB = False\n",
    "\n",
    "if IN_COLAB:\n",
    "    %tensorflow_version 2.x\n",
    "    !pip install pose-classification-kit\n",
    "    \n",
    "import tensorflow\n",
    "from tensorflow import keras\n",
    "from pose_classification_kit.datasets import handDataset\n",
    "\n",
    "print('Available GPU:')\n",
    "!nvidia-smi -L\n",
    "print('\\nTensorFlow use GPU at: {}'.format(tensorflow.test.gpu_device_name()))"
   ]
  },
  {
   "cell_type": "markdown",
   "metadata": {},
   "source": [
    "## Import dataset"
   ]
  },
  {
   "cell_type": "code",
   "execution_count": 8,
   "metadata": {},
   "outputs": [
    {
     "name": "stdout",
     "output_type": "stream",
     "text": [
      "Dataset loaded from https://raw.githubusercontent.com/ArthurFDLR/pose-classification-kit/master/pose_classification_kit/datasets/HandPose_Dataset.csv\n"
     ]
    },
    {
     "data": {
      "text/plain": [
       "((4347, 42), (4347, 27))"
      ]
     },
     "execution_count": 8,
     "metadata": {},
     "output_type": "execute_result"
    }
   ],
   "source": [
    "dataset = handDataset(testSplit=.2, shuffle=True, handID=1)\n",
    "x_train = dataset['x_train']\n",
    "y_train = dataset['y_train_onehot']\n",
    "labels = dataset['labels']\n",
    "\n",
    "x_train.shape, y_train.shape"
   ]
  },
  {
   "cell_type": "markdown",
   "metadata": {
    "id": "xRWuVIAHae-P"
   },
   "source": [
    "## Models exploration\n",
    "\n",
    "This section is optional. The following blocks can be used to compare different model architecture and training processes."
   ]
  },
  {
   "cell_type": "code",
   "execution_count": 9,
   "metadata": {
    "id": "93-aeO7Sae-P"
   },
   "outputs": [],
   "source": [
    "model_train_history = {}\n",
    "input_dim = x_train.shape[1]\n",
    "validation_split = 0.20\n",
    "epochs = 15"
   ]
  },
  {
   "cell_type": "code",
   "execution_count": 11,
   "metadata": {
    "colab": {
     "base_uri": "https://localhost:8080/"
    },
    "id": "PZ2p8pTDae-P",
    "outputId": "1c58cf17-9f5d-486f-bfe2-6b2f8935e109"
   },
   "outputs": [
    {
     "name": "stdout",
     "output_type": "stream",
     "text": [
      "Model: \"ANN-3x16\"\n",
      "_________________________________________________________________\n",
      "Layer (type)                 Output Shape              Param #   \n",
      "=================================================================\n",
      "dense_7 (Dense)              (None, 16)                688       \n",
      "_________________________________________________________________\n",
      "dense_8 (Dense)              (None, 16)                272       \n",
      "_________________________________________________________________\n",
      "dense_9 (Dense)              (None, 16)                272       \n",
      "_________________________________________________________________\n",
      "dense_10 (Dense)             (None, 27)                459       \n",
      "=================================================================\n",
      "Total params: 1,691\n",
      "Trainable params: 1,691\n",
      "Non-trainable params: 0\n",
      "_________________________________________________________________\n",
      "Epoch 1/15\n",
      "870/870 [==============================] - 2s 3ms/step - loss: 1.9592 - accuracy: 0.4567 - val_loss: 0.7188 - val_accuracy: 0.8425\n",
      "Epoch 2/15\n",
      "870/870 [==============================] - 2s 2ms/step - loss: 0.4739 - accuracy: 0.8712 - val_loss: 0.3257 - val_accuracy: 0.9276\n",
      "Epoch 3/15\n",
      "870/870 [==============================] - 2s 2ms/step - loss: 0.2515 - accuracy: 0.9304 - val_loss: 0.2351 - val_accuracy: 0.9207\n",
      "Epoch 4/15\n",
      "870/870 [==============================] - 2s 2ms/step - loss: 0.1581 - accuracy: 0.9589 - val_loss: 0.1261 - val_accuracy: 0.9736\n",
      "Epoch 5/15\n",
      "870/870 [==============================] - 2s 3ms/step - loss: 0.1052 - accuracy: 0.9767 - val_loss: 0.0765 - val_accuracy: 0.9851\n",
      "Epoch 6/15\n",
      "870/870 [==============================] - 2s 2ms/step - loss: 0.0717 - accuracy: 0.9850 - val_loss: 0.0499 - val_accuracy: 0.9908\n",
      "Epoch 7/15\n",
      "870/870 [==============================] - 2s 2ms/step - loss: 0.0503 - accuracy: 0.9894 - val_loss: 0.0261 - val_accuracy: 0.9966\n",
      "Epoch 8/15\n",
      "870/870 [==============================] - 2s 2ms/step - loss: 0.0366 - accuracy: 0.9931 - val_loss: 0.0266 - val_accuracy: 0.9908\n",
      "Epoch 9/15\n",
      "870/870 [==============================] - 2s 2ms/step - loss: 0.0300 - accuracy: 0.9928 - val_loss: 0.0162 - val_accuracy: 0.9966\n",
      "Epoch 10/15\n",
      "870/870 [==============================] - 2s 2ms/step - loss: 0.0262 - accuracy: 0.9942 - val_loss: 0.0126 - val_accuracy: 0.9977\n",
      "Epoch 11/15\n",
      "870/870 [==============================] - 2s 2ms/step - loss: 0.0278 - accuracy: 0.9919 - val_loss: 0.0103 - val_accuracy: 0.9989\n",
      "Epoch 12/15\n",
      "870/870 [==============================] - 2s 2ms/step - loss: 0.0153 - accuracy: 0.9977 - val_loss: 0.0103 - val_accuracy: 1.0000\n",
      "Epoch 13/15\n",
      "870/870 [==============================] - 2s 3ms/step - loss: 0.0190 - accuracy: 0.9954 - val_loss: 0.0090 - val_accuracy: 0.9977\n",
      "Epoch 14/15\n",
      "870/870 [==============================] - 2s 3ms/step - loss: 0.0151 - accuracy: 0.9963 - val_loss: 0.0063 - val_accuracy: 0.9989\n",
      "Epoch 15/15\n",
      "870/870 [==============================] - 2s 3ms/step - loss: 0.0186 - accuracy: 0.9937 - val_loss: 0.0135 - val_accuracy: 0.9977\n"
     ]
    }
   ],
   "source": [
    "model = keras.models.Sequential(name = 'ANN-3x16',\n",
    "    layers =\n",
    "    [\n",
    "        keras.layers.InputLayer(input_shape=input_dim),\n",
    "        keras.layers.Dense(16, activation=keras.activations.relu),\n",
    "        keras.layers.Dense(16, activation=keras.activations.relu),\n",
    "        keras.layers.Dense(16, activation=keras.activations.relu),\n",
    "        keras.layers.Dense(len(labels), activation=keras.activations.softmax),\n",
    "    ]\n",
    ")\n",
    "\n",
    "model.summary()\n",
    "model.compile(\n",
    "    optimizer=keras.optimizers.Adam(),\n",
    "    loss='categorical_crossentropy',\n",
    "    metrics=['accuracy'],\n",
    ")\n",
    "\n",
    "model_train_history[model] = model.fit(\n",
    "    x=x_train,\n",
    "    y=y_train,\n",
    "    epochs=epochs,\n",
    "    batch_size=4,\n",
    "    validation_split=validation_split,\n",
    "    shuffle=True,\n",
    "    verbose=1,\n",
    ")"
   ]
  },
  {
   "cell_type": "code",
   "execution_count": 12,
   "metadata": {
    "colab": {
     "base_uri": "https://localhost:8080/"
    },
    "id": "Ils0Rcv4ae-Q",
    "outputId": "64c77f7e-c6d3-4d74-d961-1d0f979c73c5"
   },
   "outputs": [
    {
     "name": "stdout",
     "output_type": "stream",
     "text": [
      "Model: \"ANN-3x64\"\n",
      "_________________________________________________________________\n",
      "Layer (type)                 Output Shape              Param #   \n",
      "=================================================================\n",
      "dense_11 (Dense)             (None, 64)                2752      \n",
      "_________________________________________________________________\n",
      "dense_12 (Dense)             (None, 64)                4160      \n",
      "_________________________________________________________________\n",
      "dense_13 (Dense)             (None, 64)                4160      \n",
      "_________________________________________________________________\n",
      "dense_14 (Dense)             (None, 27)                1755      \n",
      "=================================================================\n",
      "Total params: 12,827\n",
      "Trainable params: 12,827\n",
      "Non-trainable params: 0\n",
      "_________________________________________________________________\n",
      "Epoch 1/15\n",
      "870/870 [==============================] - 2s 2ms/step - loss: 0.8996 - accuracy: 0.7662 - val_loss: 0.0885 - val_accuracy: 0.9862\n",
      "Epoch 2/15\n",
      "870/870 [==============================] - 3s 3ms/step - loss: 0.0773 - accuracy: 0.9779 - val_loss: 0.0456 - val_accuracy: 0.9828\n",
      "Epoch 3/15\n",
      "870/870 [==============================] - 2s 2ms/step - loss: 0.0361 - accuracy: 0.9885 - val_loss: 0.1093 - val_accuracy: 0.9655\n",
      "Epoch 4/15\n",
      "870/870 [==============================] - 2s 3ms/step - loss: 0.0294 - accuracy: 0.9925 - val_loss: 0.0247 - val_accuracy: 0.9908\n",
      "Epoch 5/15\n",
      "870/870 [==============================] - 2s 2ms/step - loss: 0.0161 - accuracy: 0.9960 - val_loss: 0.0034 - val_accuracy: 1.0000\n",
      "Epoch 6/15\n",
      "870/870 [==============================] - 2s 2ms/step - loss: 0.0175 - accuracy: 0.9960 - val_loss: 0.0184 - val_accuracy: 0.9931\n",
      "Epoch 7/15\n",
      "870/870 [==============================] - 2s 2ms/step - loss: 0.0132 - accuracy: 0.9965 - val_loss: 0.0286 - val_accuracy: 0.9897\n",
      "Epoch 8/15\n",
      "870/870 [==============================] - 2s 3ms/step - loss: 0.0096 - accuracy: 0.9971 - val_loss: 0.0052 - val_accuracy: 0.9989\n",
      "Epoch 9/15\n",
      "870/870 [==============================] - 2s 2ms/step - loss: 0.0102 - accuracy: 0.9974 - val_loss: 0.0023 - val_accuracy: 1.0000\n",
      "Epoch 10/15\n",
      "870/870 [==============================] - 2s 2ms/step - loss: 0.0109 - accuracy: 0.9977 - val_loss: 0.0013 - val_accuracy: 1.0000\n",
      "Epoch 11/15\n",
      "870/870 [==============================] - 2s 2ms/step - loss: 0.0126 - accuracy: 0.9948 - val_loss: 0.0015 - val_accuracy: 1.0000\n",
      "Epoch 12/15\n",
      "870/870 [==============================] - 2s 3ms/step - loss: 0.0047 - accuracy: 0.9988 - val_loss: 4.2082e-04 - val_accuracy: 1.0000\n",
      "Epoch 13/15\n",
      "870/870 [==============================] - 3s 3ms/step - loss: 0.0091 - accuracy: 0.9977 - val_loss: 2.6341e-04 - val_accuracy: 1.0000\n",
      "Epoch 14/15\n",
      "870/870 [==============================] - 2s 3ms/step - loss: 0.0126 - accuracy: 0.9971 - val_loss: 1.9235e-04 - val_accuracy: 1.0000\n",
      "Epoch 15/15\n",
      "870/870 [==============================] - 2s 3ms/step - loss: 0.0021 - accuracy: 0.9991 - val_loss: 2.9593e-04 - val_accuracy: 1.0000\n"
     ]
    }
   ],
   "source": [
    "model = keras.models.Sequential(name = 'ANN-3x64',\n",
    "                                   layers =\n",
    "    [\n",
    "        keras.layers.InputLayer(input_shape=input_dim),\n",
    "        keras.layers.Dense(64, activation=keras.activations.relu),\n",
    "        keras.layers.Dense(64, activation=keras.activations.relu),\n",
    "        keras.layers.Dense(64, activation=keras.activations.relu),\n",
    "        keras.layers.Dense(len(labels), activation=keras.activations.softmax),\n",
    "    ]\n",
    ")\n",
    "\n",
    "model.summary()\n",
    "model.compile(\n",
    "    optimizer=keras.optimizers.Adam(),\n",
    "    loss='categorical_crossentropy',\n",
    "    metrics=['accuracy'],\n",
    ")\n",
    "\n",
    "model_train_history[model] = model.fit(\n",
    "    x=x_train,\n",
    "    y=y_train,\n",
    "    epochs=epochs,\n",
    "    batch_size=4,\n",
    "    validation_split=validation_split,\n",
    "    shuffle=True,\n",
    "    verbose=1,\n",
    ")"
   ]
  },
  {
   "cell_type": "code",
   "execution_count": 13,
   "metadata": {
    "colab": {
     "base_uri": "https://localhost:8080/"
    },
    "id": "lUaetVfOae-Q",
    "outputId": "197b3a7f-8dd7-4e0b-c374-f4e2f2dbcbf6"
   },
   "outputs": [
    {
     "name": "stdout",
     "output_type": "stream",
     "text": [
      "Model: \"ANN-3x64-Dropouts\"\n",
      "_________________________________________________________________\n",
      "Layer (type)                 Output Shape              Param #   \n",
      "=================================================================\n",
      "dense_15 (Dense)             (None, 64)                2752      \n",
      "_________________________________________________________________\n",
      "dropout (Dropout)            (None, 64)                0         \n",
      "_________________________________________________________________\n",
      "dense_16 (Dense)             (None, 64)                4160      \n",
      "_________________________________________________________________\n",
      "dropout_1 (Dropout)          (None, 64)                0         \n",
      "_________________________________________________________________\n",
      "dense_17 (Dense)             (None, 64)                4160      \n",
      "_________________________________________________________________\n",
      "dropout_2 (Dropout)          (None, 64)                0         \n",
      "_________________________________________________________________\n",
      "dense_18 (Dense)             (None, 27)                1755      \n",
      "=================================================================\n",
      "Total params: 12,827\n",
      "Trainable params: 12,827\n",
      "Non-trainable params: 0\n",
      "_________________________________________________________________\n",
      "Epoch 1/15\n",
      "870/870 [==============================] - 2s 3ms/step - loss: 1.9930 - accuracy: 0.3888 - val_loss: 0.5271 - val_accuracy: 0.8874\n",
      "Epoch 2/15\n",
      "870/870 [==============================] - 2s 3ms/step - loss: 0.7371 - accuracy: 0.7397 - val_loss: 0.1629 - val_accuracy: 0.9828\n",
      "Epoch 3/15\n",
      "870/870 [==============================] - 2s 3ms/step - loss: 0.4313 - accuracy: 0.8513 - val_loss: 0.0708 - val_accuracy: 0.9908\n",
      "Epoch 4/15\n",
      "870/870 [==============================] - 2s 3ms/step - loss: 0.3245 - accuracy: 0.8884 - val_loss: 0.0536 - val_accuracy: 0.9920\n",
      "Epoch 5/15\n",
      "870/870 [==============================] - 2s 3ms/step - loss: 0.2590 - accuracy: 0.9065 - val_loss: 0.0292 - val_accuracy: 0.9954\n",
      "Epoch 6/15\n",
      "870/870 [==============================] - 2s 3ms/step - loss: 0.1947 - accuracy: 0.9298 - val_loss: 0.0196 - val_accuracy: 0.9966\n",
      "Epoch 7/15\n",
      "870/870 [==============================] - 2s 3ms/step - loss: 0.1741 - accuracy: 0.9416 - val_loss: 0.0161 - val_accuracy: 0.9954\n",
      "Epoch 8/15\n",
      "870/870 [==============================] - 2s 3ms/step - loss: 0.1483 - accuracy: 0.9497 - val_loss: 0.0100 - val_accuracy: 0.9977\n",
      "Epoch 9/15\n",
      "870/870 [==============================] - 2s 3ms/step - loss: 0.1455 - accuracy: 0.9548 - val_loss: 0.0067 - val_accuracy: 1.0000\n",
      "Epoch 10/15\n",
      "870/870 [==============================] - 2s 3ms/step - loss: 0.1100 - accuracy: 0.9681 - val_loss: 0.0063 - val_accuracy: 0.9977\n",
      "Epoch 11/15\n",
      "870/870 [==============================] - 2s 3ms/step - loss: 0.1179 - accuracy: 0.9632 - val_loss: 0.0090 - val_accuracy: 0.9966\n",
      "Epoch 12/15\n",
      "870/870 [==============================] - 2s 3ms/step - loss: 0.1075 - accuracy: 0.9632 - val_loss: 0.0056 - val_accuracy: 0.9989\n",
      "Epoch 13/15\n",
      "870/870 [==============================] - 2s 3ms/step - loss: 0.0918 - accuracy: 0.9721 - val_loss: 0.0035 - val_accuracy: 1.0000\n",
      "Epoch 14/15\n",
      "870/870 [==============================] - 2s 3ms/step - loss: 0.0856 - accuracy: 0.9735 - val_loss: 0.0271 - val_accuracy: 0.9931\n",
      "Epoch 15/15\n",
      "870/870 [==============================] - 2s 3ms/step - loss: 0.0780 - accuracy: 0.9756 - val_loss: 0.0095 - val_accuracy: 0.9966\n"
     ]
    }
   ],
   "source": [
    "model = keras.models.Sequential(name = 'ANN-3x64-Dropouts',\n",
    "                                   layers =\n",
    "    [\n",
    "        keras.layers.InputLayer(input_shape=input_dim),\n",
    "        keras.layers.Dense(64, activation=keras.activations.relu),\n",
    "        keras.layers.Dropout(0.3),\n",
    "        keras.layers.Dense(64, activation=keras.activations.relu),\n",
    "        keras.layers.Dropout(0.3),\n",
    "        keras.layers.Dense(64, activation=keras.activations.relu),\n",
    "        keras.layers.Dropout(0.3),\n",
    "        keras.layers.Dense(len(labels), activation=keras.activations.softmax),\n",
    "    ]\n",
    ")\n",
    "\n",
    "model.summary()\n",
    "model.compile(\n",
    "    optimizer=keras.optimizers.Adam(),\n",
    "    loss='categorical_crossentropy',\n",
    "    metrics=['accuracy'],\n",
    ")\n",
    "\n",
    "model_train_history[model] = model.fit(\n",
    "    x=x_train,\n",
    "    y=y_train,\n",
    "    epochs=epochs,\n",
    "    batch_size=4,\n",
    "    validation_split=validation_split,\n",
    "    shuffle=True,\n",
    "    verbose=1,\n",
    ")"
   ]
  },
  {
   "cell_type": "code",
   "execution_count": 14,
   "metadata": {
    "colab": {
     "base_uri": "https://localhost:8080/"
    },
    "id": "FA1LSFoVae-R",
    "outputId": "fb01face-dfb0-4bc5-f45d-7f96bf0e1b46"
   },
   "outputs": [
    {
     "name": "stdout",
     "output_type": "stream",
     "text": [
      "Model: \"ANN-2x128\"\n",
      "_________________________________________________________________\n",
      "Layer (type)                 Output Shape              Param #   \n",
      "=================================================================\n",
      "dense_19 (Dense)             (None, 128)               5504      \n",
      "_________________________________________________________________\n",
      "dense_20 (Dense)             (None, 128)               16512     \n",
      "_________________________________________________________________\n",
      "dense_21 (Dense)             (None, 27)                3483      \n",
      "=================================================================\n",
      "Total params: 25,499\n",
      "Trainable params: 25,499\n",
      "Non-trainable params: 0\n",
      "_________________________________________________________________\n",
      "Epoch 1/15\n",
      "870/870 [==============================] - 2s 3ms/step - loss: 0.7411 - accuracy: 0.8277 - val_loss: 0.0596 - val_accuracy: 0.9931\n",
      "Epoch 2/15\n",
      "870/870 [==============================] - 2s 2ms/step - loss: 0.0452 - accuracy: 0.9914 - val_loss: 0.0435 - val_accuracy: 0.9828\n",
      "Epoch 3/15\n",
      "870/870 [==============================] - 2s 2ms/step - loss: 0.0196 - accuracy: 0.9960 - val_loss: 0.0077 - val_accuracy: 1.0000\n",
      "Epoch 4/15\n",
      "870/870 [==============================] - 2s 2ms/step - loss: 0.0100 - accuracy: 0.9974 - val_loss: 0.0080 - val_accuracy: 1.0000\n",
      "Epoch 5/15\n",
      "870/870 [==============================] - 2s 2ms/step - loss: 0.0085 - accuracy: 0.9991 - val_loss: 0.0021 - val_accuracy: 1.0000\n",
      "Epoch 6/15\n",
      "870/870 [==============================] - 2s 2ms/step - loss: 0.0047 - accuracy: 0.9991 - val_loss: 0.0028 - val_accuracy: 0.9989\n",
      "Epoch 7/15\n",
      "870/870 [==============================] - 2s 2ms/step - loss: 0.0028 - accuracy: 0.9997 - val_loss: 0.0012 - val_accuracy: 1.0000\n",
      "Epoch 8/15\n",
      "870/870 [==============================] - 2s 3ms/step - loss: 0.0047 - accuracy: 0.9986 - val_loss: 0.0011 - val_accuracy: 1.0000\n",
      "Epoch 9/15\n",
      "870/870 [==============================] - 2s 3ms/step - loss: 0.0037 - accuracy: 0.9994 - val_loss: 0.0019 - val_accuracy: 1.0000\n",
      "Epoch 10/15\n",
      "870/870 [==============================] - 2s 3ms/step - loss: 0.0014 - accuracy: 0.9994 - val_loss: 0.0024 - val_accuracy: 1.0000\n",
      "Epoch 11/15\n",
      "870/870 [==============================] - 2s 3ms/step - loss: 0.0084 - accuracy: 0.9980 - val_loss: 0.4499 - val_accuracy: 0.9563\n",
      "Epoch 12/15\n",
      "870/870 [==============================] - 2s 2ms/step - loss: 0.0198 - accuracy: 0.9963 - val_loss: 6.7393e-04 - val_accuracy: 1.0000\n",
      "Epoch 13/15\n",
      "870/870 [==============================] - 2s 2ms/step - loss: 5.4952e-04 - accuracy: 1.0000 - val_loss: 4.7648e-04 - val_accuracy: 1.0000\n",
      "Epoch 14/15\n",
      "870/870 [==============================] - 3s 3ms/step - loss: 0.0025 - accuracy: 0.9994 - val_loss: 0.0044 - val_accuracy: 0.9989\n",
      "Epoch 15/15\n",
      "870/870 [==============================] - 2s 2ms/step - loss: 0.0043 - accuracy: 0.9991 - val_loss: 7.2220e-04 - val_accuracy: 1.0000\n"
     ]
    }
   ],
   "source": [
    "model = keras.models.Sequential(name = 'ANN-2x128',\n",
    "                                   layers =\n",
    "    [\n",
    "        keras.layers.InputLayer(input_shape=input_dim),\n",
    "        keras.layers.Dense(128, activation=keras.activations.relu),\n",
    "        keras.layers.Dense(128, activation=keras.activations.relu),\n",
    "        keras.layers.Dense(len(labels), activation=keras.activations.softmax),\n",
    "    ]\n",
    ")\n",
    "\n",
    "model.summary()\n",
    "model.compile(\n",
    "    optimizer=keras.optimizers.Adam(),\n",
    "    loss='categorical_crossentropy',\n",
    "    metrics=['accuracy'],\n",
    ")\n",
    "\n",
    "model_train_history[model] = model.fit(\n",
    "    x=x_train,\n",
    "    y=y_train,\n",
    "    epochs=epochs,\n",
    "    batch_size=4,\n",
    "    validation_split=validation_split,\n",
    "    shuffle=True,\n",
    "    verbose=1,\n",
    ")"
   ]
  },
  {
   "cell_type": "code",
   "execution_count": 15,
   "metadata": {
    "colab": {
     "base_uri": "https://localhost:8080/",
     "height": 355
    },
    "id": "4UhLcq1Jae-R",
    "outputId": "91bd3127-5407-4d3c-82dc-37dad2977465"
   },
   "outputs": [
    {
     "data": {
      "text/plain": [
       "<matplotlib.legend.Legend at 0x115309f5288>"
      ]
     },
     "execution_count": 15,
     "metadata": {},
     "output_type": "execute_result"
    },
    {
     "data": {
      "image/png": "[encoded data removed]",
      "text/plain": [
       "<Figure size 1008x360 with 2 Axes>"
      ]
     },
     "metadata": {
      "needs_background": "light"
     },
     "output_type": "display_data"
    }
   ],
   "source": [
    "fig, axs = plt.subplots(1, 2, figsize=(14,5))\n",
    "colors_graph = [\"#d69e2d\",\n",
    "                \"#927ced\",\n",
    "                \"#73bd4d\",\n",
    "                \"#e462c0\",\n",
    "                \"#eb5e52\"]\n",
    "handles = []\n",
    "\n",
    "for (model, history), color in zip(model_train_history.items(), colors_graph):\n",
    "    label = '{} ({})'.format(model.name, model.count_params())\n",
    "    axs[0].plot(history.history['loss'], c=color, ls='-.', alpha=.7)\n",
    "    axs[1].plot(history.history['accuracy'], c=color, ls='-.', alpha=.7)\n",
    "    axs[0].plot(history.history['val_loss'], c=color)\n",
    "    axs[1].plot(history.history['val_accuracy'], c=color)\n",
    "    handles.append(mpatches.Patch(color=color, label=label))\n",
    "\n",
    "for ax in axs:\n",
    "    ax.set_xlabel('Epoch')\n",
    "axs[0].set_ylabel('loss')\n",
    "axs[0].set_yscale('log')\n",
    "axs[1].set_ylabel('accuracy')\n",
    "axs[1].set_ylim(0.95,1.01)\n",
    "\n",
    "handles.append(Line2D([0], [0], color='grey', lw=1, ls='-', label='validation'))\n",
    "handles.append(Line2D([0], [0], color='grey', lw=1, ls='-.', label='training'))\n",
    "\n",
    "fig.subplots_adjust(right=0.85)\n",
    "fig.legend(handles=handles,\n",
    "           loc=\"center right\",\n",
    "           borderaxespad=1)"
   ]
  },
  {
   "cell_type": "markdown",
   "metadata": {
    "id": "JmJ_LECNae-R"
   },
   "source": [
    "## Model export"
   ]
  },
  {
   "cell_type": "markdown",
   "metadata": {
    "id": "km8bpVuSrwPE"
   },
   "source": [
    "Once you have a good model, you can save it on your Google Drive. The model is saved using the [folder hierarchy of OpenHand](https://github.com/ArthurFDLR/OpenHand-App#pose-classifier-models)."
   ]
  },
  {
   "cell_type": "code",
   "execution_count": 16,
   "metadata": {
    "colab": {
     "base_uri": "https://localhost:8080/"
    },
    "id": "MyD7zsZSfuMk",
    "outputId": "14e58157-df9a-45d2-db51-fa9f06d507e0"
   },
   "outputs": [],
   "source": [
    "from pathlib import Path\n",
    "import json\n",
    "\n",
    "model_name = 'ANN_RightHand_1'\n",
    "\n",
    "if IN_COLAB:\n",
    "    content_path = Path('/').absolute() / 'content'\n",
    "    drive_path = content_path / 'drive'\n",
    "    google.colab.drive.mount(str(drive_path))\n",
    "    save_path = drive_path / 'My Drive'\n",
    "    \n",
    "    for subfolder in ['Pose Classification Kit', 'Models', model_name]:\n",
    "        save_path /= subfolder\n",
    "        if not (save_path).is_dir():\n",
    "            %mkdir \"{save_path}\"\n",
    "else:\n",
    "    save_path = Path('.').absolute() / model_name\n",
    "    %mkdir \"{save_path}\"\n",
    "\n",
    "model_path = save_path / '{name}.h5'.format(name = model_name)"
   ]
  },
  {
   "cell_type": "code",
   "execution_count": 17,
   "metadata": {
    "colab": {
     "base_uri": "https://localhost:8080/"
    },
    "id": "5pc5o55gae-R",
    "outputId": "528e1d83-80dc-4de9-e00c-4f0eff944506"
   },
   "outputs": [
    {
     "name": "stdout",
     "output_type": "stream",
     "text": [
      "Model: \"27Class_3x64\"\n",
      "_________________________________________________________________\n",
      "Layer (type)                 Output Shape              Param #   \n",
      "=================================================================\n",
      "dense_22 (Dense)             (None, 64)                2752      \n",
      "_________________________________________________________________\n",
      "dense_23 (Dense)             (None, 64)                4160      \n",
      "_________________________________________________________________\n",
      "dense_24 (Dense)             (None, 64)                4160      \n",
      "_________________________________________________________________\n",
      "dense_25 (Dense)             (None, 27)                1755      \n",
      "=================================================================\n",
      "Total params: 12,827\n",
      "Trainable params: 12,827\n",
      "Non-trainable params: 0\n",
      "_________________________________________________________________\n",
      "Epoch 1/10\n",
      "\n",
      "Epoch 00001: val_loss improved from inf to 0.10254, saving model to C:\\Users\\ArthF\\Documents\\Projects\\pose-classification-kit\\examples\\ANN_RightHand_1\\ANN_RightHand_1.h5\n",
      "924/924 - 2s - loss: 0.8606 - accuracy: 0.7704 - val_loss: 0.1025 - val_accuracy: 0.9786\n",
      "Epoch 2/10\n",
      "\n",
      "Epoch 00002: val_loss improved from 0.10254 to 0.04877, saving model to C:\\Users\\ArthF\\Documents\\Projects\\pose-classification-kit\\examples\\ANN_RightHand_1\\ANN_RightHand_1.h5\n",
      "924/924 - 2s - loss: 0.0633 - accuracy: 0.9816 - val_loss: 0.0488 - val_accuracy: 0.9755\n",
      "Epoch 3/10\n",
      "\n",
      "Epoch 00003: val_loss did not improve from 0.04877\n",
      "924/924 - 2s - loss: 0.0257 - accuracy: 0.9930 - val_loss: 0.0543 - val_accuracy: 0.9709\n",
      "Epoch 4/10\n",
      "\n",
      "Epoch 00004: val_loss improved from 0.04877 to 0.00274, saving model to C:\\Users\\ArthF\\Documents\\Projects\\pose-classification-kit\\examples\\ANN_RightHand_1\\ANN_RightHand_1.h5\n",
      "924/924 - 2s - loss: 0.0152 - accuracy: 0.9962 - val_loss: 0.0027 - val_accuracy: 1.0000\n",
      "Epoch 5/10\n",
      "\n",
      "Epoch 00005: val_loss did not improve from 0.00274\n",
      "924/924 - 2s - loss: 0.0253 - accuracy: 0.9949 - val_loss: 0.0066 - val_accuracy: 1.0000\n",
      "Epoch 6/10\n",
      "\n",
      "Epoch 00006: val_loss improved from 0.00274 to 0.00130, saving model to C:\\Users\\ArthF\\Documents\\Projects\\pose-classification-kit\\examples\\ANN_RightHand_1\\ANN_RightHand_1.h5\n",
      "924/924 - 2s - loss: 0.0141 - accuracy: 0.9957 - val_loss: 0.0013 - val_accuracy: 1.0000\n",
      "Epoch 7/10\n",
      "\n",
      "Epoch 00007: val_loss improved from 0.00130 to 0.00106, saving model to C:\\Users\\ArthF\\Documents\\Projects\\pose-classification-kit\\examples\\ANN_RightHand_1\\ANN_RightHand_1.h5\n",
      "924/924 - 2s - loss: 0.0061 - accuracy: 0.9984 - val_loss: 0.0011 - val_accuracy: 1.0000\n",
      "Epoch 8/10\n",
      "\n",
      "Epoch 00008: val_loss improved from 0.00106 to 0.00079, saving model to C:\\Users\\ArthF\\Documents\\Projects\\pose-classification-kit\\examples\\ANN_RightHand_1\\ANN_RightHand_1.h5\n",
      "924/924 - 2s - loss: 0.0127 - accuracy: 0.9959 - val_loss: 7.8661e-04 - val_accuracy: 1.0000\n",
      "Epoch 9/10\n",
      "\n",
      "Epoch 00009: val_loss did not improve from 0.00079\n",
      "924/924 - 2s - loss: 0.0144 - accuracy: 0.9970 - val_loss: 0.0040 - val_accuracy: 0.9985\n",
      "Epoch 10/10\n",
      "\n",
      "Epoch 00010: val_loss improved from 0.00079 to 0.00064, saving model to C:\\Users\\ArthF\\Documents\\Projects\\pose-classification-kit\\examples\\ANN_RightHand_1\\ANN_RightHand_1.h5\n",
      "924/924 - 2s - loss: 0.0019 - accuracy: 0.9997 - val_loss: 6.3679e-04 - val_accuracy: 1.0000\n"
     ]
    }
   ],
   "source": [
    "model = keras.models.Sequential(name = '27Class_3x64',\n",
    "                                   layers =\n",
    "    [\n",
    "        keras.layers.InputLayer(input_shape=input_dim),\n",
    "        keras.layers.Dense(64, activation=keras.activations.relu),\n",
    "        keras.layers.Dense(64, activation=keras.activations.relu),\n",
    "        keras.layers.Dense(64, activation=keras.activations.relu),\n",
    "        keras.layers.Dense(len(labels), activation=keras.activations.softmax),\n",
    "    ]\n",
    ")\n",
    "\n",
    "model.summary()\n",
    "model.compile(\n",
    "    optimizer=keras.optimizers.Adam(),\n",
    "    loss='categorical_crossentropy',\n",
    "    metrics=['accuracy'],\n",
    ")\n",
    "\n",
    "model.fit(\n",
    "    x=x_train,\n",
    "    y=y_train,\n",
    "    epochs=10,\n",
    "    batch_size=4,\n",
    "    validation_split=0.15,\n",
    "    shuffle=True,\n",
    "    callbacks=[keras.callbacks.ModelCheckpoint(filepath=model_path, verbose=1, save_best_only=True)],\n",
    "    verbose = 2,\n",
    ")\n",
    "\n",
    "with open(save_path / 'class.json', 'w') as f:\n",
    "    json.dump({'labels':labels}, f)"
   ]
  },
  {
   "cell_type": "code",
   "execution_count": 18,
   "metadata": {
    "colab": {
     "base_uri": "https://localhost:8080/"
    },
    "id": "mPMnJf1Vae-S",
    "outputId": "18ae8c05-5c6f-41bb-9e04-580b70e05d8e"
   },
   "outputs": [
    {
     "name": "stdout",
     "output_type": "stream",
     "text": [
      "34/34 [==============================] - 0s 2ms/step - loss: 0.0069 - accuracy: 0.9981\n"
     ]
    },
    {
     "data": {
      "text/plain": [
       "[0.006858584005385637, 0.9981481432914734]"
      ]
     },
     "execution_count": 18,
     "metadata": {},
     "output_type": "execute_result"
    }
   ],
   "source": [
    "model = keras.models.load_model(model_path)\n",
    "model.evaluate(x=dataset['x_test'], y=dataset['y_test_onehot'])"
   ]
  },
  {
   "cell_type": "code",
   "execution_count": null,
   "metadata": {
    "id": "V3lsa7aKae-S"
   },
   "outputs": [],
   "source": []
  }
 ],
 "metadata": {
  "accelerator": "GPU",
  "colab": {
   "include_colab_link": true,
   "name": "OpenHand-Models.ipynb",
   "provenance": [],
   "toc_visible": true
  },
  "kernelspec": {
   "display_name": "Python 3 (ipykernel)",
   "language": "python",
   "name": "python3"
  },
  "language_info": {
   "codemirror_mode": {
    "name": "ipython",
    "version": 3
   },
   "file_extension": ".py",
   "mimetype": "text/x-python",
   "name": "python",
   "nbconvert_exporter": "python",
   "pygments_lexer": "ipython3",
   "version": "3.7.9"
  }
 },
 "nbformat": 4,
 "nbformat_minor": 4
}
