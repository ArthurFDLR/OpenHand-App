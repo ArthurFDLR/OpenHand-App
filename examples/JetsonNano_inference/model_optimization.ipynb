{
 "cells": [
  {
   "cell_type": "markdown",
   "id": "e799766a-fa29-4982-bfaa-34d5ed8631c8",
   "metadata": {},
   "source": [
    "# Pose classification model optimization"
   ]
  },
  {
   "cell_type": "code",
   "execution_count": 1,
   "id": "7acc177a-a0c3-4bad-9c32-9f956149fb6f",
   "metadata": {},
   "outputs": [
    {
     "name": "stdout",
     "output_type": "stream",
     "text": [
      "1 Physical GPUs, 1 Logical GPUs\n"
     ]
    }
   ],
   "source": [
    "import tensorflow as tf\n",
    "from tensorflow.python.compiler.tensorrt import trt_convert as trt\n",
    "from tensorflow import keras\n",
    "from keras.utils.data_utils import get_file\n",
    "from tensorflow.python.saved_model import tag_constants\n",
    "\n",
    "import json\n",
    "import numpy as np\n",
    "import time\n",
    "from tqdm import tqdm\n",
    "\n",
    "from pose_classification_kit.datasets import bodyDataset, BODY18, dataAugmentation"
   ]
  },
  {
   "cell_type": "markdown",
   "id": "0037c884-b968-475d-add4-f25d9e9d0558",
   "metadata": {},
   "source": [
    "## Dataset & Keras model import"
   ]
  },
  {
   "cell_type": "code",
   "execution_count": 2,
   "id": "1e483d21-94d1-4691-9f56-15c32e44ec76",
   "metadata": {},
   "outputs": [
    {
     "name": "stdout",
     "output_type": "stream",
     "text": [
      "x_train: (7040, 18, 2)\n",
      "y_train: (7040,)\n",
      "y_train_onehot: (7040, 20)\n",
      "x_test: (3000, 18, 2)\n",
      "y_test: (3000,)\n",
      "y_test_onehot: (3000, 20)\n",
      "labels: (20,)\n"
     ]
    }
   ],
   "source": [
    "for key,val in bodyDataset(testSplit = .3, bodyModel = BODY18).items():\n",
    "    val = np.array(val)\n",
    "    exec(key + '=val')\n",
    "    print(key+':', val.shape)\n",
    "\n",
    "x_test_aug, y_test_aug = dataAugmentation(\n",
    "    x_test, y_test_onehot,\n",
    "    augmentation_ratio = 1.,\n",
    "    remove_specific_keypoints = np.where(np.isin(BODY18.mapping,[\n",
    "        \"left_knee\", \"right_knee\", \"left_ankle\", \"right_ankle\", \"left_hip\", \"right_hip\"\n",
    "        ]))[0],\n",
    ")"
   ]
  },
  {
   "cell_type": "code",
   "execution_count": 3,
   "id": "724b60cb-2441-4625-827f-64724a38f6fc",
   "metadata": {},
   "outputs": [],
   "source": [
    "model_keras = keras.models.load_model('./Robust_BODY18.h5')\n",
    "\n",
    "with open('Robust_BODY18_Info.json') as f:\n",
    "    model_labels = np.array(json.load(f)['labels'])\n",
    "assert np.array_equiv(model_labels, labels)"
   ]
  },
  {
   "cell_type": "code",
   "execution_count": 15,
   "id": "ac28fd0e-d8b7-450c-b04d-27e22a21ecb8",
   "metadata": {},
   "outputs": [
    {
     "name": "stderr",
     "output_type": "stream",
     "text": [
      "100%|██████████| 3000/3000 [09:32<00:00,  5.24it/s]\n",
      "100%|██████████| 3000/3000 [09:28<00:00,  5.28it/s]\n"
     ]
    },
    {
     "name": "stdout",
     "output_type": "stream",
     "text": [
      "--- Raw testing dataset ---\n",
      "Accuracy: 98.73%\n",
      "Inference time: 187ms\n",
      "--- Partial input testing dataset ---\n",
      "Accuracy: 96.10%\n",
      "Inference time: 185ms \n",
      "\n"
     ]
    }
   ],
   "source": [
    "def benchmark_keras(keras_model, ds_x, ds_y):\n",
    "    nb_samples = ds_x.shape[0]\n",
    "    acc = 0\n",
    "    acc_aug = 0\n",
    "    dur_tot = 0.\n",
    "    for x, y in tqdm(zip(ds_x, ds_y), total=nb_samples):\n",
    "        start_time = time.time()\n",
    "        output = keras_model.predict(np.array([x]))\n",
    "        dur_tot += time.time() - start_time\n",
    "        if np.argmax(output[0]) == np.argmax(y):\n",
    "            acc += 1\n",
    "    return acc / nb_samples, dur_tot / nb_samples\n",
    "\n",
    "accuracy, duration = benchmark_keras(model_keras, x_test, y_test_onehot)\n",
    "accuracy_aug, duration_aug = benchmark_keras(model_keras, x_test_aug, y_test_aug)\n",
    "\n",
    "print('--- Raw testing dataset ---')\n",
    "print('Accuracy: {:.2%}'.format(accuracy))\n",
    "print('Inference time: {}ms'.format(int(duration*1000)))\n",
    "print('--- Partial input testing dataset ---')\n",
    "print('Accuracy: {:.2%}'.format(accuracy_aug))\n",
    "print('Inference time: {}ms \\n'.format(int(duration_aug*1000)))"
   ]
  },
  {
   "cell_type": "markdown",
   "id": "fb084a2f-e25d-44c7-bd3f-1dc23056b410",
   "metadata": {},
   "source": [
    "Save Keras model as standard TensorFlow format for TensorRT optimization."
   ]
  },
  {
   "cell_type": "code",
   "execution_count": 4,
   "id": "b4ed2c12-ee5e-40c0-aa64-95b088b4ed3f",
   "metadata": {},
   "outputs": [
    {
     "name": "stdout",
     "output_type": "stream",
     "text": [
      "INFO:tensorflow:Assets written to: ./Robust_BODY18_In/assets\n"
     ]
    }
   ],
   "source": [
    "model_keras.save('./Robust_BODY18_In')"
   ]
  },
  {
   "cell_type": "markdown",
   "id": "44d4a52e-bd32-4d42-a244-7787694e7c97",
   "metadata": {},
   "source": [
    "## TF-TRT Comparisons"
   ]
  },
  {
   "cell_type": "code",
   "execution_count": 5,
   "id": "816abd17-d8ff-434c-bd93-029ad89c8bfa",
   "metadata": {},
   "outputs": [],
   "source": [
    "def benchmark_trt(inference_function, ds_x, ds_y):\n",
    "    nb_samples = ds_x.shape[0]\n",
    "    acc = 0\n",
    "    acc_aug = 0\n",
    "    dur_tot = 0.\n",
    "    for x, y in tqdm(zip(ds_x, ds_y), total=nb_samples):\n",
    "        x = tf.constant(np.expand_dims(x, axis=0), dtype=tf.float32)\n",
    "        start_time = time.time()\n",
    "        output = inference_function(x)\n",
    "        dur_tot += time.time() - start_time\n",
    "        if np.argmax(output['dense_20'][0]) == np.argmax(y):\n",
    "            acc += 1\n",
    "    return acc / nb_samples, dur_tot / nb_samples"
   ]
  },
  {
   "cell_type": "markdown",
   "id": "03f9bc24-9ed3-4a86-859e-eb40a30ed72e",
   "metadata": {},
   "source": [
    "### FP32"
   ]
  },
  {
   "cell_type": "code",
   "execution_count": 9,
   "id": "6cfe485e-6376-4164-a9de-5253603ee7e3",
   "metadata": {},
   "outputs": [
    {
     "name": "stdout",
     "output_type": "stream",
     "text": [
      "INFO:tensorflow:Linked TensorRT version: (7, 1, 3)\n",
      "INFO:tensorflow:Loaded TensorRT version: (7, 1, 3)\n",
      "INFO:tensorflow:Assets written to: ./Robust_BODY18_FP32/assets\n"
     ]
    }
   ],
   "source": [
    "params_32 = tf.experimental.tensorrt.ConversionParams(\n",
    "    precision_mode='FP32',\n",
    "    max_workspace_size_bytes=(1<<29),\n",
    "    maximum_cached_engines=64\n",
    ")\n",
    "\n",
    "converter = trt.TrtGraphConverterV2(\n",
    "    input_saved_model_dir='./Robust_BODY18_In',\n",
    "    conversion_params=params_32)\n",
    "\n",
    "# Converter method used to partition and optimize TensorRT compatible segments\n",
    "converter.convert()\n",
    "\n",
    "# Optionally, build TensorRT engines before deployment to save time at runtime\n",
    "# Note that this is GPU specific, and as a rule of thumb, we recommend building at runtime\n",
    "def input_fn():\n",
    "    yield [np.random.normal(size=(1, 18, 2)).astype(np.float32)]\n",
    "\n",
    "converter.build(input_fn=input_fn)\n",
    "\n",
    "# Save the model to the disk \n",
    "converter.save('./Robust_BODY18_FP32')"
   ]
  },
  {
   "cell_type": "code",
   "execution_count": 10,
   "id": "c21fa066-0b83-4fd1-9d22-bd484b4f6a9b",
   "metadata": {},
   "outputs": [],
   "source": [
    "model_FP32 = tf.saved_model.load('./Robust_BODY18_FP32', tags=[tag_constants.SERVING])\n",
    "infer_FP32 = model_FP32.signatures['serving_default']"
   ]
  },
  {
   "cell_type": "code",
   "execution_count": 11,
   "id": "76c91dbd-b0f8-4c8c-beb1-f1b1851a2756",
   "metadata": {},
   "outputs": [
    {
     "name": "stderr",
     "output_type": "stream",
     "text": [
      "100%|██████████| 3000/3000 [00:25<00:00, 118.00it/s]\n",
      "100%|██████████| 3000/3000 [00:23<00:00, 126.69it/s]"
     ]
    },
    {
     "name": "stdout",
     "output_type": "stream",
     "text": [
      "--- Raw testing dataset ---\n",
      "Accuracy: 98.73%\n",
      "Inference time: 6ms\n",
      "--- Partial input testing dataset ---\n",
      "Accuracy: 96.10%\n",
      "Inference time: 6ms \n",
      "\n"
     ]
    },
    {
     "name": "stderr",
     "output_type": "stream",
     "text": [
      "\n"
     ]
    }
   ],
   "source": [
    "accuracy, duration = benchmark_trt(infer_FP32, x_test, y_test_onehot)\n",
    "accuracy_aug, duration_aug = benchmark_trt(infer_FP32, x_test_aug, y_test_aug)\n",
    "\n",
    "print('--- Raw testing dataset ---')\n",
    "print('Accuracy: {:.2%}'.format(accuracy))\n",
    "print('Inference time: {}ms'.format(int(duration*1000)))\n",
    "print('--- Partial input testing dataset ---')\n",
    "print('Accuracy: {:.2%}'.format(accuracy_aug))\n",
    "print('Inference time: {}ms \\n'.format(int(duration_aug*1000)))"
   ]
  },
  {
   "cell_type": "markdown",
   "id": "f97a66a3-a57f-4791-9160-3001e13952ad",
   "metadata": {},
   "source": [
    "### FP16"
   ]
  },
  {
   "cell_type": "code",
   "execution_count": 12,
   "id": "b793b931-1d81-4261-bd4a-1fa3e40a5709",
   "metadata": {},
   "outputs": [
    {
     "name": "stdout",
     "output_type": "stream",
     "text": [
      "INFO:tensorflow:Linked TensorRT version: (7, 1, 3)\n",
      "INFO:tensorflow:Loaded TensorRT version: (7, 1, 3)\n",
      "INFO:tensorflow:Assets written to: ./Robust_BODY18_FP16/assets\n"
     ]
    }
   ],
   "source": [
    "params_16 = tf.experimental.tensorrt.ConversionParams(\n",
    "    precision_mode='FP16',\n",
    "    max_workspace_size_bytes=(1<<29),\n",
    "    maximum_cached_engines=64\n",
    ")\n",
    "\n",
    "converter = trt.TrtGraphConverterV2(\n",
    "    input_saved_model_dir='./Robust_BODY18_In',\n",
    "    conversion_params=params_16)\n",
    "\n",
    "# Converter method used to partition and optimize TensorRT compatible segments\n",
    "converter.convert()\n",
    "\n",
    "# Optionally, build TensorRT engines before deployment to save time at runtime\n",
    "# Note that this is GPU specific, and as a rule of thumb, we recommend building at runtime\n",
    "def input_fn():\n",
    "    yield [np.random.normal(size=(1, 18, 2)).astype(np.float32)]\n",
    "\n",
    "converter.build(input_fn=input_fn)\n",
    "\n",
    "# Save the model to the disk \n",
    "converter.save('./Robust_BODY18_FP16')"
   ]
  },
  {
   "cell_type": "code",
   "execution_count": 13,
   "id": "1c9ef1c5-666b-43bf-a22b-63667b13a3b8",
   "metadata": {},
   "outputs": [],
   "source": [
    "model_FP16 = tf.saved_model.load('./Robust_BODY18_FP16', tags=[tag_constants.SERVING])\n",
    "infer_FP16 = model_FP16.signatures['serving_default']"
   ]
  },
  {
   "cell_type": "code",
   "execution_count": 14,
   "id": "bf072704-8e85-4c28-a804-8ff02c76208a",
   "metadata": {},
   "outputs": [
    {
     "name": "stderr",
     "output_type": "stream",
     "text": [
      "100%|██████████| 3000/3000 [00:24<00:00, 123.92it/s]\n",
      "100%|██████████| 3000/3000 [00:23<00:00, 128.89it/s]"
     ]
    },
    {
     "name": "stdout",
     "output_type": "stream",
     "text": [
      "--- Raw testing dataset ---\n",
      "Accuracy: 98.73%\n",
      "Inference time: 6ms\n",
      "--- Partial input testing dataset ---\n",
      "Accuracy: 96.10%\n",
      "Inference time: 5ms \n",
      "\n"
     ]
    },
    {
     "name": "stderr",
     "output_type": "stream",
     "text": [
      "\n"
     ]
    }
   ],
   "source": [
    "accuracy, duration = benchmark_trt(infer_FP16, x_test, y_test_onehot)\n",
    "accuracy_aug, duration_aug = benchmark_trt(infer_FP16, x_test_aug, y_test_aug)\n",
    "\n",
    "print('--- Raw testing dataset ---')\n",
    "print('Accuracy: {:.2%}'.format(accuracy))\n",
    "print('Inference time: {}ms'.format(int(duration*1000)))\n",
    "print('--- Partial input testing dataset ---')\n",
    "print('Accuracy: {:.2%}'.format(accuracy_aug))\n",
    "print('Inference time: {}ms \\n'.format(int(duration_aug*1000)))"
   ]
  },
  {
   "cell_type": "markdown",
   "id": "496f958c-a5fc-4ad4-aeb0-ddb46e62247c",
   "metadata": {},
   "source": [
    "### INT8"
   ]
  },
  {
   "cell_type": "code",
   "execution_count": 6,
   "id": "d60d9c8c-c212-4326-a693-4913ac4bce6a",
   "metadata": {},
   "outputs": [
    {
     "name": "stdout",
     "output_type": "stream",
     "text": [
      "INFO:tensorflow:Linked TensorRT version: (7, 1, 3)\n",
      "INFO:tensorflow:Loaded TensorRT version: (7, 1, 3)\n",
      "INFO:tensorflow:Assets written to: ./Robust_BODY18_INT8/assets\n"
     ]
    }
   ],
   "source": [
    "params_8 = tf.experimental.tensorrt.ConversionParams(\n",
    "    precision_mode='INT8',\n",
    "    max_workspace_size_bytes=(1<<29),\n",
    "    maximum_cached_engines=64\n",
    ")\n",
    "\n",
    "converter = trt.TrtGraphConverterV2(\n",
    "    input_saved_model_dir='./Robust_BODY18_In',\n",
    "    conversion_params=params_8)\n",
    "\n",
    "\n",
    "# Optionally, build TensorRT engines before deployment to save time at runtime\n",
    "# Note that this is GPU specific, and as a rule of thumb, we recommend building at runtime\n",
    "def input_fn():\n",
    "    yield [np.random.normal(size=(1, 18, 2)).astype(np.float32)]\n",
    "\n",
    "# Converter method used to partition and optimize TensorRT compatible segments\n",
    "converter.convert(calibration_input_fn=input_fn)\n",
    "\n",
    "converter.build(input_fn=input_fn)\n",
    "\n",
    "# Save the model to the disk \n",
    "converter.save('./Robust_BODY18_INT8')"
   ]
  },
  {
   "cell_type": "code",
   "execution_count": 7,
   "id": "4e31f768-3245-4121-9fc7-3691e0f0c97f",
   "metadata": {},
   "outputs": [],
   "source": [
    "model_INT8 = tf.saved_model.load('./Robust_BODY18_INT8', tags=[tag_constants.SERVING])\n",
    "infer_INT8 = model_INT8.signatures['serving_default']"
   ]
  },
  {
   "cell_type": "code",
   "execution_count": 8,
   "id": "88e1b78c-0fca-4123-a641-9389708f190e",
   "metadata": {},
   "outputs": [
    {
     "name": "stderr",
     "output_type": "stream",
     "text": [
      "100%|██████████| 3000/3000 [00:24<00:00, 122.33it/s]\n",
      "100%|██████████| 3000/3000 [00:24<00:00, 121.87it/s]"
     ]
    },
    {
     "name": "stdout",
     "output_type": "stream",
     "text": [
      "--- Raw testing dataset ---\n",
      "Accuracy: 98.73%\n",
      "Inference time: 6ms\n",
      "--- Partial input testing dataset ---\n",
      "Accuracy: 96.10%\n",
      "Inference time: 6ms \n",
      "\n"
     ]
    },
    {
     "name": "stderr",
     "output_type": "stream",
     "text": [
      "\n"
     ]
    }
   ],
   "source": [
    "accuracy, duration = benchmark_trt(infer_INT8, x_test, y_test_onehot)\n",
    "accuracy_aug, duration_aug = benchmark_trt(infer_INT8, x_test_aug, y_test_aug)\n",
    "\n",
    "print('--- Raw testing dataset ---')\n",
    "print('Accuracy: {:.2%}'.format(accuracy))\n",
    "print('Inference time: {}ms'.format(int(duration*1000)))\n",
    "print('--- Partial input testing dataset ---')\n",
    "print('Accuracy: {:.2%}'.format(accuracy_aug))\n",
    "print('Inference time: {}ms \\n'.format(int(duration_aug*1000)))"
   ]
  },
  {
   "cell_type": "code",
   "execution_count": null,
   "id": "a0e2fd1c-a464-4c56-a3f5-1b4e1a39899c",
   "metadata": {},
   "outputs": [],
   "source": []
  }
 ],
 "metadata": {
  "kernelspec": {
   "display_name": "Python 3",
   "language": "python",
   "name": "python3"
  },
  "language_info": {
   "codemirror_mode": {
    "name": "ipython",
    "version": 3
   },
   "file_extension": ".py",
   "mimetype": "text/x-python",
   "name": "python",
   "nbconvert_exporter": "python",
   "pygments_lexer": "ipython3",
   "version": "3.6.9"
  }
 },
 "nbformat": 4,
 "nbformat_minor": 5
}
