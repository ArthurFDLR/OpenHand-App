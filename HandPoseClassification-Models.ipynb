{
  "nbformat": 4,
  "nbformat_minor": 0,
  "metadata": {
    "accelerator": "GPU",
    "colab": {
      "name": "OpenHand-Models.ipynb",
      "provenance": [],
      "toc_visible": true,
      "include_colab_link": true
    },
    "kernelspec": {
      "display_name": "Python 3 (ipykernel)",
      "language": "python",
      "name": "python3"
    },
    "language_info": {
      "codemirror_mode": {
        "name": "ipython",
        "version": 3
      },
      "file_extension": ".py",
      "mimetype": "text/x-python",
      "name": "python",
      "nbconvert_exporter": "python",
      "pygments_lexer": "ipython3",
      "version": "3.7.9"
    }
  },
  "cells": [
    {
      "cell_type": "markdown",
      "metadata": {
        "id": "view-in-github",
        "colab_type": "text"
      },
      "source": [
        "<a href=\"https://colab.research.google.com/github/ArthurFDLR/pose-classification-kit/blob/master/HandPoseClassification-Models.ipynb\" target=\"_parent\"><img src=\"https://colab.research.google.com/assets/colab-badge.svg\" alt=\"Open In Colab\"/></a>"
      ]
    },
    {
      "cell_type": "markdown",
      "metadata": {
        "id": "uMvrR9_jnDwO"
      },
      "source": [
        "# 🤙 Pose Classification kit hand model design"
      ]
    },
    {
      "cell_type": "markdown",
      "metadata": {
        "id": "ONjOBMTanXiN"
      },
      "source": [
        "This Notebook can be used to create Neural Network classifiers running in the [Pose Classification Kit](https://github.com/ArthurFDLR/pose-classification-kit).\n",
        "\n",
        "First, we have to import several libraries to visualize our dataset and create a new model."
      ]
    },
    {
      "cell_type": "code",
      "metadata": {
        "colab": {
          "base_uri": "https://localhost:8080/"
        },
        "id": "0Xvt8oHFae-I",
        "outputId": "e4a71681-b3a0-4240-cdb7-0ac3710d36ae"
      },
      "source": [
        "# Visualization tools \n",
        "from IPython.display import display, HTML, Markdown\n",
        "\n",
        "from matplotlib import pylab\n",
        "import matplotlib.pyplot as plt\n",
        "import matplotlib.patches as mpatches\n",
        "from matplotlib.lines import Line2D\n",
        "\n",
        "# Computation tools \n",
        "from pathlib import Path\n",
        "import numpy as np\n",
        "import os\n",
        "import pandas as pd\n",
        "pd.set_option('display.max_columns', None)\n",
        "pd.set_option('display.min_rows', 5)\n",
        "\n",
        "%tensorflow_version 2.x\n",
        "import tensorflow\n",
        "from tensorflow import keras\n",
        "\n",
        "print('Available GPU:')\n",
        "!nvidia-smi -L\n",
        "print('\\nTensorFlow use GPU at: {}'.format(tensorflow.test.gpu_device_name()))"
      ],
      "execution_count": null,
      "outputs": [
        {
          "output_type": "stream",
          "text": [
            "Available GPU:\n",
            "GPU 0: Tesla T4 (UUID: GPU-e48b10be-fc78-c5e9-d14b-9f142a1b9e86)\n",
            "\n",
            "TensorFlow use GPU at: /device:GPU:0\n"
          ],
          "name": "stdout"
        }
      ]
    },
    {
      "cell_type": "markdown",
      "metadata": {
        "id": "PuVh6gXbae-N"
      },
      "source": [
        "## Dataset exploration\n",
        "\n",
        "While OpenHand already contains a basic dataset, you can easily create and import your own using the application!"
      ]
    },
    {
      "cell_type": "code",
      "metadata": {
        "colab": {
          "base_uri": "https://localhost:8080/",
          "height": 433
        },
        "id": "0muIEgL3ae-N",
        "outputId": "fbdaae64-4dd8-46e0-8a32-a4c320f66490"
      },
      "source": [
        "dataset_df = pd.read_csv(\"https://raw.githubusercontent.com/ArthurFDLR/pose-classification-kit/master/pose_classification_kit/datasets/HandPose_Dataset.csv\")\n",
        "labels = dataset_df.label.unique()\n",
        "\n",
        "display(Markdown(\"## Complete dataset view\"))\n",
        "display(dataset_df)\n",
        "\n",
        "display(Markdown(\"## Number of samples per label and hand\"))\n",
        "df_hand_labels = {hand_i : dataset_df.loc[dataset_df['hand'] == hand_i].groupby('label') for hand_i in ['left', 'right']}\n",
        "display(\n",
        "    pd.DataFrame(\n",
        "        [df.size() for df in df_hand_labels.values()],\n",
        "        columns=labels,\n",
        "        index=df_hand_labels.keys(),\n",
        "        )\n",
        ")"
      ],
      "execution_count": null,
      "outputs": [
        {
          "output_type": "display_data",
          "data": {
            "text/markdown": "## Complete dataset view",
            "text/plain": [
              "<IPython.core.display.Markdown object>"
            ]
          },
          "metadata": {
            "tags": []
          }
        },
        {
          "output_type": "display_data",
          "data": {
            "text/html": [
              "<div>\n",
              "<style scoped>\n",
              "    .dataframe tbody tr th:only-of-type {\n",
              "        vertical-align: middle;\n",
              "    }\n",
              "\n",
              "    .dataframe tbody tr th {\n",
              "        vertical-align: top;\n",
              "    }\n",
              "\n",
              "    .dataframe thead th {\n",
              "        text-align: right;\n",
              "    }\n",
              "</style>\n",
              "<table border=\"1\" class=\"dataframe\">\n",
              "  <thead>\n",
              "    <tr style=\"text-align: right;\">\n",
              "      <th></th>\n",
              "      <th>label</th>\n",
              "      <th>hand</th>\n",
              "      <th>accuracy</th>\n",
              "      <th>x0</th>\n",
              "      <th>y0</th>\n",
              "      <th>x1</th>\n",
              "      <th>y1</th>\n",
              "      <th>x2</th>\n",
              "      <th>y2</th>\n",
              "      <th>x3</th>\n",
              "      <th>y3</th>\n",
              "      <th>x4</th>\n",
              "      <th>y4</th>\n",
              "      <th>x5</th>\n",
              "      <th>y5</th>\n",
              "      <th>x6</th>\n",
              "      <th>y6</th>\n",
              "      <th>x7</th>\n",
              "      <th>y7</th>\n",
              "      <th>x8</th>\n",
              "      <th>y8</th>\n",
              "      <th>x9</th>\n",
              "      <th>y9</th>\n",
              "      <th>x10</th>\n",
              "      <th>y10</th>\n",
              "      <th>x11</th>\n",
              "      <th>y11</th>\n",
              "      <th>x12</th>\n",
              "      <th>y12</th>\n",
              "      <th>x13</th>\n",
              "      <th>y13</th>\n",
              "      <th>x14</th>\n",
              "      <th>y14</th>\n",
              "      <th>x15</th>\n",
              "      <th>y15</th>\n",
              "      <th>x16</th>\n",
              "      <th>y16</th>\n",
              "      <th>x17</th>\n",
              "      <th>y17</th>\n",
              "      <th>x18</th>\n",
              "      <th>y18</th>\n",
              "      <th>x19</th>\n",
              "      <th>y19</th>\n",
              "      <th>x20</th>\n",
              "      <th>y20</th>\n",
              "    </tr>\n",
              "  </thead>\n",
              "  <tbody>\n",
              "    <tr>\n",
              "      <th>0</th>\n",
              "      <td>0</td>\n",
              "      <td>left</td>\n",
              "      <td>15.139381</td>\n",
              "      <td>0.403383</td>\n",
              "      <td>-0.366229</td>\n",
              "      <td>0.194999</td>\n",
              "      <td>-0.361383</td>\n",
              "      <td>-0.013385</td>\n",
              "      <td>-0.264461</td>\n",
              "      <td>-0.149077</td>\n",
              "      <td>-0.162692</td>\n",
              "      <td>-0.216922</td>\n",
              "      <td>-0.060923</td>\n",
              "      <td>0.083538</td>\n",
              "      <td>-0.002769</td>\n",
              "      <td>-0.027923</td>\n",
              "      <td>0.195922</td>\n",
              "      <td>-0.173307</td>\n",
              "      <td>0.094153</td>\n",
              "      <td>-0.207230</td>\n",
              "      <td>0.002077</td>\n",
              "      <td>0.136845</td>\n",
              "      <td>0.036000</td>\n",
              "      <td>-0.042462</td>\n",
              "      <td>0.200768</td>\n",
              "      <td>-0.153923</td>\n",
              "      <td>0.079615</td>\n",
              "      <td>-0.178153</td>\n",
              "      <td>-0.027000</td>\n",
              "      <td>0.199845</td>\n",
              "      <td>0.045692</td>\n",
              "      <td>0.010846</td>\n",
              "      <td>0.195922</td>\n",
              "      <td>-0.095769</td>\n",
              "      <td>0.079615</td>\n",
              "      <td>-0.120000</td>\n",
              "      <td>-0.012462</td>\n",
              "      <td>0.257999</td>\n",
              "      <td>0.040846</td>\n",
              "      <td>0.131999</td>\n",
              "      <td>0.137769</td>\n",
              "      <td>0.015692</td>\n",
              "      <td>0.113538</td>\n",
              "      <td>-0.057000</td>\n",
              "      <td>0.036000</td>\n",
              "    </tr>\n",
              "    <tr>\n",
              "      <th>1</th>\n",
              "      <td>0</td>\n",
              "      <td>left</td>\n",
              "      <td>14.065027</td>\n",
              "      <td>0.333266</td>\n",
              "      <td>-0.430984</td>\n",
              "      <td>0.169325</td>\n",
              "      <td>-0.368800</td>\n",
              "      <td>0.016691</td>\n",
              "      <td>-0.255737</td>\n",
              "      <td>-0.152903</td>\n",
              "      <td>-0.142674</td>\n",
              "      <td>-0.226394</td>\n",
              "      <td>-0.040918</td>\n",
              "      <td>0.186284</td>\n",
              "      <td>-0.006999</td>\n",
              "      <td>0.022344</td>\n",
              "      <td>0.106063</td>\n",
              "      <td>-0.113331</td>\n",
              "      <td>0.100410</td>\n",
              "      <td>-0.124638</td>\n",
              "      <td>0.043879</td>\n",
              "      <td>0.231509</td>\n",
              "      <td>0.049532</td>\n",
              "      <td>-0.005922</td>\n",
              "      <td>0.145635</td>\n",
              "      <td>-0.135944</td>\n",
              "      <td>0.094757</td>\n",
              "      <td>-0.203782</td>\n",
              "      <td>0.004307</td>\n",
              "      <td>0.208897</td>\n",
              "      <td>0.038226</td>\n",
              "      <td>0.016691</td>\n",
              "      <td>0.168248</td>\n",
              "      <td>-0.118985</td>\n",
              "      <td>0.111716</td>\n",
              "      <td>-0.147250</td>\n",
              "      <td>0.038226</td>\n",
              "      <td>0.191937</td>\n",
              "      <td>0.004307</td>\n",
              "      <td>0.027997</td>\n",
              "      <td>0.151288</td>\n",
              "      <td>-0.062453</td>\n",
              "      <td>0.128676</td>\n",
              "      <td>-0.113331</td>\n",
              "      <td>0.060838</td>\n",
              "    </tr>\n",
              "    <tr>\n",
              "      <th>...</th>\n",
              "      <td>...</td>\n",
              "      <td>...</td>\n",
              "      <td>...</td>\n",
              "      <td>...</td>\n",
              "      <td>...</td>\n",
              "      <td>...</td>\n",
              "      <td>...</td>\n",
              "      <td>...</td>\n",
              "      <td>...</td>\n",
              "      <td>...</td>\n",
              "      <td>...</td>\n",
              "      <td>...</td>\n",
              "      <td>...</td>\n",
              "      <td>...</td>\n",
              "      <td>...</td>\n",
              "      <td>...</td>\n",
              "      <td>...</td>\n",
              "      <td>...</td>\n",
              "      <td>...</td>\n",
              "      <td>...</td>\n",
              "      <td>...</td>\n",
              "      <td>...</td>\n",
              "      <td>...</td>\n",
              "      <td>...</td>\n",
              "      <td>...</td>\n",
              "      <td>...</td>\n",
              "      <td>...</td>\n",
              "      <td>...</td>\n",
              "      <td>...</td>\n",
              "      <td>...</td>\n",
              "      <td>...</td>\n",
              "      <td>...</td>\n",
              "      <td>...</td>\n",
              "      <td>...</td>\n",
              "      <td>...</td>\n",
              "      <td>...</td>\n",
              "      <td>...</td>\n",
              "      <td>...</td>\n",
              "      <td>...</td>\n",
              "      <td>...</td>\n",
              "      <td>...</td>\n",
              "      <td>...</td>\n",
              "      <td>...</td>\n",
              "      <td>...</td>\n",
              "      <td>...</td>\n",
              "    </tr>\n",
              "    <tr>\n",
              "      <th>11202</th>\n",
              "      <td>Ok</td>\n",
              "      <td>right</td>\n",
              "      <td>16.430834</td>\n",
              "      <td>-0.262744</td>\n",
              "      <td>-0.477646</td>\n",
              "      <td>-0.070791</td>\n",
              "      <td>-0.408216</td>\n",
              "      <td>0.100741</td>\n",
              "      <td>-0.355123</td>\n",
              "      <td>0.215096</td>\n",
              "      <td>-0.314281</td>\n",
              "      <td>0.268190</td>\n",
              "      <td>-0.253020</td>\n",
              "      <td>0.031312</td>\n",
              "      <td>-0.085572</td>\n",
              "      <td>0.190592</td>\n",
              "      <td>-0.048815</td>\n",
              "      <td>0.255937</td>\n",
              "      <td>-0.126413</td>\n",
              "      <td>0.255937</td>\n",
              "      <td>-0.244852</td>\n",
              "      <td>-0.038118</td>\n",
              "      <td>-0.020226</td>\n",
              "      <td>0.059900</td>\n",
              "      <td>0.179895</td>\n",
              "      <td>0.137498</td>\n",
              "      <td>0.306502</td>\n",
              "      <td>0.198760</td>\n",
              "      <td>0.408605</td>\n",
              "      <td>-0.132053</td>\n",
              "      <td>-0.024310</td>\n",
              "      <td>-0.111632</td>\n",
              "      <td>0.179895</td>\n",
              "      <td>-0.066707</td>\n",
              "      <td>0.310586</td>\n",
              "      <td>-0.038118</td>\n",
              "      <td>0.412689</td>\n",
              "      <td>-0.213735</td>\n",
              "      <td>-0.065151</td>\n",
              "      <td>-0.262744</td>\n",
              "      <td>0.106381</td>\n",
              "      <td>-0.262744</td>\n",
              "      <td>0.208484</td>\n",
              "      <td>-0.254576</td>\n",
              "      <td>0.310586</td>\n",
              "    </tr>\n",
              "    <tr>\n",
              "      <th>11203</th>\n",
              "      <td>Ok</td>\n",
              "      <td>right</td>\n",
              "      <td>15.640315</td>\n",
              "      <td>-0.258065</td>\n",
              "      <td>-0.478518</td>\n",
              "      <td>-0.070381</td>\n",
              "      <td>-0.404227</td>\n",
              "      <td>0.105572</td>\n",
              "      <td>-0.353396</td>\n",
              "      <td>0.211144</td>\n",
              "      <td>-0.318205</td>\n",
              "      <td>0.273705</td>\n",
              "      <td>-0.259554</td>\n",
              "      <td>0.043011</td>\n",
              "      <td>-0.071871</td>\n",
              "      <td>0.203324</td>\n",
              "      <td>-0.040590</td>\n",
              "      <td>0.246334</td>\n",
              "      <td>-0.130522</td>\n",
              "      <td>0.265885</td>\n",
              "      <td>-0.251734</td>\n",
              "      <td>-0.039101</td>\n",
              "      <td>-0.013220</td>\n",
              "      <td>0.058651</td>\n",
              "      <td>0.182284</td>\n",
              "      <td>0.140763</td>\n",
              "      <td>0.303496</td>\n",
              "      <td>0.199414</td>\n",
              "      <td>0.409068</td>\n",
              "      <td>-0.132942</td>\n",
              "      <td>-0.021040</td>\n",
              "      <td>-0.113392</td>\n",
              "      <td>0.182284</td>\n",
              "      <td>-0.074291</td>\n",
              "      <td>0.303496</td>\n",
              "      <td>-0.043011</td>\n",
              "      <td>0.409068</td>\n",
              "      <td>-0.226784</td>\n",
              "      <td>-0.067961</td>\n",
              "      <td>-0.261975</td>\n",
              "      <td>0.107992</td>\n",
              "      <td>-0.265885</td>\n",
              "      <td>0.209654</td>\n",
              "      <td>-0.261975</td>\n",
              "      <td>0.303496</td>\n",
              "    </tr>\n",
              "  </tbody>\n",
              "</table>\n",
              "<p>11204 rows × 45 columns</p>\n",
              "</div>"
            ],
            "text/plain": [
              "      label   hand   accuracy        x0        y0        x1        y1  \\\n",
              "0         0   left  15.139381  0.403383 -0.366229  0.194999 -0.361383   \n",
              "1         0   left  14.065027  0.333266 -0.430984  0.169325 -0.368800   \n",
              "...     ...    ...        ...       ...       ...       ...       ...   \n",
              "11202    Ok  right  16.430834 -0.262744 -0.477646 -0.070791 -0.408216   \n",
              "11203    Ok  right  15.640315 -0.258065 -0.478518 -0.070381 -0.404227   \n",
              "\n",
              "             x2        y2        x3        y3        x4        y4        x5  \\\n",
              "0     -0.013385 -0.264461 -0.149077 -0.162692 -0.216922 -0.060923  0.083538   \n",
              "1      0.016691 -0.255737 -0.152903 -0.142674 -0.226394 -0.040918  0.186284   \n",
              "...         ...       ...       ...       ...       ...       ...       ...   \n",
              "11202  0.100741 -0.355123  0.215096 -0.314281  0.268190 -0.253020  0.031312   \n",
              "11203  0.105572 -0.353396  0.211144 -0.318205  0.273705 -0.259554  0.043011   \n",
              "\n",
              "             y5        x6        y6        x7        y7        x8        y8  \\\n",
              "0     -0.002769 -0.027923  0.195922 -0.173307  0.094153 -0.207230  0.002077   \n",
              "1     -0.006999  0.022344  0.106063 -0.113331  0.100410 -0.124638  0.043879   \n",
              "...         ...       ...       ...       ...       ...       ...       ...   \n",
              "11202 -0.085572  0.190592 -0.048815  0.255937 -0.126413  0.255937 -0.244852   \n",
              "11203 -0.071871  0.203324 -0.040590  0.246334 -0.130522  0.265885 -0.251734   \n",
              "\n",
              "             x9        y9       x10       y10       x11       y11       x12  \\\n",
              "0      0.136845  0.036000 -0.042462  0.200768 -0.153923  0.079615 -0.178153   \n",
              "1      0.231509  0.049532 -0.005922  0.145635 -0.135944  0.094757 -0.203782   \n",
              "...         ...       ...       ...       ...       ...       ...       ...   \n",
              "11202 -0.038118 -0.020226  0.059900  0.179895  0.137498  0.306502  0.198760   \n",
              "11203 -0.039101 -0.013220  0.058651  0.182284  0.140763  0.303496  0.199414   \n",
              "\n",
              "            y12       x13       y13       x14       y14       x15       y15  \\\n",
              "0     -0.027000  0.199845  0.045692  0.010846  0.195922 -0.095769  0.079615   \n",
              "1      0.004307  0.208897  0.038226  0.016691  0.168248 -0.118985  0.111716   \n",
              "...         ...       ...       ...       ...       ...       ...       ...   \n",
              "11202  0.408605 -0.132053 -0.024310 -0.111632  0.179895 -0.066707  0.310586   \n",
              "11203  0.409068 -0.132942 -0.021040 -0.113392  0.182284 -0.074291  0.303496   \n",
              "\n",
              "            x16       y16       x17       y17       x18       y18       x19  \\\n",
              "0     -0.120000 -0.012462  0.257999  0.040846  0.131999  0.137769  0.015692   \n",
              "1     -0.147250  0.038226  0.191937  0.004307  0.027997  0.151288 -0.062453   \n",
              "...         ...       ...       ...       ...       ...       ...       ...   \n",
              "11202 -0.038118  0.412689 -0.213735 -0.065151 -0.262744  0.106381 -0.262744   \n",
              "11203 -0.043011  0.409068 -0.226784 -0.067961 -0.261975  0.107992 -0.265885   \n",
              "\n",
              "            y19       x20       y20  \n",
              "0      0.113538 -0.057000  0.036000  \n",
              "1      0.128676 -0.113331  0.060838  \n",
              "...         ...       ...       ...  \n",
              "11202  0.208484 -0.254576  0.310586  \n",
              "11203  0.209654 -0.261975  0.303496  \n",
              "\n",
              "[11204 rows x 45 columns]"
            ]
          },
          "metadata": {
            "tags": []
          }
        },
        {
          "output_type": "display_data",
          "data": {
            "text/markdown": "## Number of samples per label and hand",
            "text/plain": [
              "<IPython.core.display.Markdown object>"
            ]
          },
          "metadata": {
            "tags": []
          }
        },
        {
          "output_type": "display_data",
          "data": {
            "text/html": [
              "<div>\n",
              "<style scoped>\n",
              "    .dataframe tbody tr th:only-of-type {\n",
              "        vertical-align: middle;\n",
              "    }\n",
              "\n",
              "    .dataframe tbody tr th {\n",
              "        vertical-align: top;\n",
              "    }\n",
              "\n",
              "    .dataframe thead th {\n",
              "        text-align: right;\n",
              "    }\n",
              "</style>\n",
              "<table border=\"1\" class=\"dataframe\">\n",
              "  <thead>\n",
              "    <tr style=\"text-align: right;\">\n",
              "      <th></th>\n",
              "      <th>0</th>\n",
              "      <th>1</th>\n",
              "      <th>2</th>\n",
              "      <th>3</th>\n",
              "      <th>4</th>\n",
              "      <th>5</th>\n",
              "      <th>6</th>\n",
              "      <th>7</th>\n",
              "      <th>8</th>\n",
              "      <th>9</th>\n",
              "      <th>Chef</th>\n",
              "      <th>Help</th>\n",
              "      <th>Super</th>\n",
              "      <th>VIP</th>\n",
              "      <th>Water</th>\n",
              "      <th>Metal</th>\n",
              "      <th>Dislike</th>\n",
              "      <th>Loser</th>\n",
              "      <th>Phone</th>\n",
              "      <th>Shaka</th>\n",
              "      <th>Stop</th>\n",
              "      <th>Vulcan_Salute</th>\n",
              "      <th>Power_Fist</th>\n",
              "      <th>Horns</th>\n",
              "      <th>Fight_Fist</th>\n",
              "      <th>Middle_Finger</th>\n",
              "      <th>Ok</th>\n",
              "    </tr>\n",
              "  </thead>\n",
              "  <tbody>\n",
              "    <tr>\n",
              "      <th>left</th>\n",
              "      <td>207</td>\n",
              "      <td>201</td>\n",
              "      <td>213</td>\n",
              "      <td>203</td>\n",
              "      <td>204</td>\n",
              "      <td>206</td>\n",
              "      <td>208</td>\n",
              "      <td>202</td>\n",
              "      <td>241</td>\n",
              "      <td>221</td>\n",
              "      <td>205</td>\n",
              "      <td>235</td>\n",
              "      <td>203</td>\n",
              "      <td>202</td>\n",
              "      <td>207</td>\n",
              "      <td>208</td>\n",
              "      <td>205</td>\n",
              "      <td>206</td>\n",
              "      <td>201</td>\n",
              "      <td>203</td>\n",
              "      <td>202</td>\n",
              "      <td>205</td>\n",
              "      <td>209</td>\n",
              "      <td>204</td>\n",
              "      <td>204</td>\n",
              "      <td>209</td>\n",
              "      <td>205</td>\n",
              "    </tr>\n",
              "    <tr>\n",
              "      <th>right</th>\n",
              "      <td>208</td>\n",
              "      <td>207</td>\n",
              "      <td>203</td>\n",
              "      <td>205</td>\n",
              "      <td>213</td>\n",
              "      <td>206</td>\n",
              "      <td>202</td>\n",
              "      <td>202</td>\n",
              "      <td>205</td>\n",
              "      <td>209</td>\n",
              "      <td>206</td>\n",
              "      <td>209</td>\n",
              "      <td>208</td>\n",
              "      <td>221</td>\n",
              "      <td>204</td>\n",
              "      <td>214</td>\n",
              "      <td>206</td>\n",
              "      <td>205</td>\n",
              "      <td>204</td>\n",
              "      <td>208</td>\n",
              "      <td>204</td>\n",
              "      <td>206</td>\n",
              "      <td>211</td>\n",
              "      <td>207</td>\n",
              "      <td>203</td>\n",
              "      <td>201</td>\n",
              "      <td>208</td>\n",
              "    </tr>\n",
              "  </tbody>\n",
              "</table>\n",
              "</div>"
            ],
            "text/plain": [
              "         0    1    2    3    4    5    6    7    8    9  Chef  Help  Super  \\\n",
              "left   207  201  213  203  204  206  208  202  241  221   205   235    203   \n",
              "right  208  207  203  205  213  206  202  202  205  209   206   209    208   \n",
              "\n",
              "       VIP  Water  Metal  Dislike  Loser  Phone  Shaka  Stop  Vulcan_Salute  \\\n",
              "left   202    207    208      205    206    201    203   202            205   \n",
              "right  221    204    214      206    205    204    208   204            206   \n",
              "\n",
              "       Power_Fist  Horns  Fight_Fist  Middle_Finger   Ok  \n",
              "left          209    204         204            209  205  \n",
              "right         211    207         203            201  208  "
            ]
          },
          "metadata": {
            "tags": []
          }
        }
      ]
    },
    {
      "cell_type": "code",
      "metadata": {
        "colab": {
          "base_uri": "https://localhost:8080/",
          "height": 370
        },
        "id": "PE3LJsHkae-O",
        "outputId": "e3d7092f-5759-447f-a4d6-7c9cf4f1b84f"
      },
      "source": [
        "colors = [\"r\", \"y\", \"g\", \"b\", \"m\"]\n",
        "hand_visualization = 'right'\n",
        "label_display =  ['Super', 'Vulcan_Salute', 'Ok', 'Metal', 'Phone', '8']\n",
        "fig, axs = plt.subplots(1, len(label_display), figsize=(14,7))\n",
        "for ax, label_viz in zip(axs,label_display):\n",
        "    sample_data = dataset_df[(dataset_df.label==label_viz) & (dataset_df.hand==hand_visualization)].drop(['label', 'hand', 'accuracy'], axis=1).to_numpy().mean(axis=0)\n",
        "    sample_data_2D = np.stack([sample_data[::2], sample_data[1::2]])\n",
        "\n",
        "    sample_fingers = [\n",
        "        sample_data_2D[:, 0:5],\n",
        "        np.insert(sample_data_2D[:, 5:9].T, 0, sample_data_2D[:, 0], axis=0).T,\n",
        "        np.insert(sample_data_2D[:, 9:13].T, 0, sample_data_2D[:, 0], axis=0).T,\n",
        "        np.insert(sample_data_2D[:, 13:17].T, 0, sample_data_2D[:, 0], axis=0).T,\n",
        "        np.insert(sample_data_2D[:, 17:21].T, 0, sample_data_2D[:, 0], axis=0).T,\n",
        "    ]\n",
        "    for finger, c in zip(sample_fingers, colors):\n",
        "        ax.plot(finger[0], finger[1])\n",
        "    ax.set_aspect(\"equal\")\n",
        "    ax.set_ylim([-0.65,0.65])\n",
        "    ax.axis('off')\n",
        "fig.tight_layout()\n",
        "fig.savefig('cover_image.png', dpi=80)"
      ],
      "execution_count": null,
      "outputs": [
        {
          "output_type": "display_data",
          "data": {
            "image/png": "[encoded data removed]",
            "text/plain": [
              "<Figure size 1008x504 with 6 Axes>"
            ]
          },
          "metadata": {
            "tags": [],
            "needs_background": "light"
          }
        }
      ]
    },
    {
      "cell_type": "markdown",
      "metadata": {
        "id": "U9_nY094rS5V"
      },
      "source": [
        "Now that we know what the dataset looks like, we can create NumPy arrays to train TensorFlow models. We are only using samples associated with the right hand. However, you can easily use the whole dataset to train a single neural network through hands vertical symmetry."
      ]
    },
    {
      "cell_type": "code",
      "metadata": {
        "colab": {
          "base_uri": "https://localhost:8080/",
          "height": 267
        },
        "id": "ydpdIG-gae-O",
        "outputId": "2f7f046e-7567-474b-d746-a1ac86cba15c"
      },
      "source": [
        "hand_label = 'right'\n",
        "test_split = 0.15\n",
        "\n",
        "# Find the minimum number of samples accross categories to uniformly distributed sample sets\n",
        "total_size_cat = df_hand_labels[hand_label].size().min()\n",
        "test_size_cat  = int(total_size_cat*test_split)\n",
        "train_size_cat = total_size_cat - test_size_cat\n",
        "\n",
        "x_train = []\n",
        "x_test  = []\n",
        "y_train = []\n",
        "y_test  = []\n",
        "\n",
        "# Iterate over each labeled group\n",
        "for label, group in df_hand_labels[hand_label]:\n",
        "    # remove irrelevant columns\n",
        "    group_array = group.drop(['label', 'hand', 'accuracy'], axis=1).to_numpy()\n",
        "    np.random.shuffle(group_array)\n",
        "    \n",
        "    x_train.append(group_array[:train_size_cat])\n",
        "    y_train.append([label]*train_size_cat)\n",
        "    x_test.append(group_array[train_size_cat : train_size_cat+test_size_cat])\n",
        "    y_test.append([label]*test_size_cat)\n",
        "\n",
        "# Concatenate sample sets as numpy arrays and shuffle in unison\n",
        "shuffler_test = np.random.permutation(test_size_cat*len(labels))\n",
        "shuffler_train = np.random.permutation(train_size_cat*len(labels))\n",
        "x_train = np.concatenate(x_train, axis=0)[shuffler_train]\n",
        "x_test = np.concatenate(x_test, axis=0)[shuffler_test]\n",
        "y_train = np.concatenate(y_train, axis=0)[shuffler_train]\n",
        "y_test = np.concatenate(y_test, axis=0)[shuffler_test]\n",
        "\n",
        "# One-hot encoding\n",
        "y_train_onehot = keras.utils.to_categorical([list(labels).index(sample) for sample in y_train])\n",
        "y_test_onehot  = keras.utils.to_categorical([list(labels).index(sample) for sample in y_test])\n",
        "\n",
        "display(HTML('''There are {n_cat} categories with a minimum of {min} samples for the {hand} hand,\n",
        "                Given a training/test split ratio of {split}% on uniformly distributed sets,\n",
        "                the training set has {n_train} samples and the test set has {n_test} samples:'''\n",
        "             .format(hand=hand_label, n_cat=len(labels), min=total_size_cat, split=test_split*100, n_train=x_train.shape[0], n_test=x_test.shape[0])))\n",
        "display(pd.DataFrame([str(d.shape) for d in (x_train, x_test, y_train, y_test, y_train_onehot, y_test_onehot)],\n",
        "                     index = ['x_train', 'x_test', 'y_train', 'y_test', 'y_train_onehot', 'y_test_onehot'],\n",
        "                     columns = ['shape']))"
      ],
      "execution_count": null,
      "outputs": [
        {
          "output_type": "display_data",
          "data": {
            "text/html": [
              "There are 27 categories with a minimum of 201 samples for the right hand,\n",
              "                Given a training/test split ratio of 15.0% on uniformly distributed sets,\n",
              "                the training set has 4617 samples and the test set has 810 samples:"
            ],
            "text/plain": [
              "<IPython.core.display.HTML object>"
            ]
          },
          "metadata": {
            "tags": []
          }
        },
        {
          "output_type": "display_data",
          "data": {
            "text/html": [
              "<div>\n",
              "<style scoped>\n",
              "    .dataframe tbody tr th:only-of-type {\n",
              "        vertical-align: middle;\n",
              "    }\n",
              "\n",
              "    .dataframe tbody tr th {\n",
              "        vertical-align: top;\n",
              "    }\n",
              "\n",
              "    .dataframe thead th {\n",
              "        text-align: right;\n",
              "    }\n",
              "</style>\n",
              "<table border=\"1\" class=\"dataframe\">\n",
              "  <thead>\n",
              "    <tr style=\"text-align: right;\">\n",
              "      <th></th>\n",
              "      <th>shape</th>\n",
              "    </tr>\n",
              "  </thead>\n",
              "  <tbody>\n",
              "    <tr>\n",
              "      <th>x_train</th>\n",
              "      <td>(4617, 42)</td>\n",
              "    </tr>\n",
              "    <tr>\n",
              "      <th>x_test</th>\n",
              "      <td>(810, 42)</td>\n",
              "    </tr>\n",
              "    <tr>\n",
              "      <th>y_train</th>\n",
              "      <td>(4617,)</td>\n",
              "    </tr>\n",
              "    <tr>\n",
              "      <th>y_test</th>\n",
              "      <td>(810,)</td>\n",
              "    </tr>\n",
              "    <tr>\n",
              "      <th>y_train_onehot</th>\n",
              "      <td>(4617, 27)</td>\n",
              "    </tr>\n",
              "    <tr>\n",
              "      <th>y_test_onehot</th>\n",
              "      <td>(810, 27)</td>\n",
              "    </tr>\n",
              "  </tbody>\n",
              "</table>\n",
              "</div>"
            ],
            "text/plain": [
              "                     shape\n",
              "x_train         (4617, 42)\n",
              "x_test           (810, 42)\n",
              "y_train            (4617,)\n",
              "y_test              (810,)\n",
              "y_train_onehot  (4617, 27)\n",
              "y_test_onehot    (810, 27)"
            ]
          },
          "metadata": {
            "tags": []
          }
        }
      ]
    },
    {
      "cell_type": "markdown",
      "metadata": {
        "id": "xRWuVIAHae-P"
      },
      "source": [
        "## Models exploration\n",
        "\n",
        "This section is optional. The following blocks can be used to compare different model architecture and training processes."
      ]
    },
    {
      "cell_type": "code",
      "metadata": {
        "id": "93-aeO7Sae-P"
      },
      "source": [
        "model_train_history = {}\n",
        "input_dim = x_train.shape[1]\n",
        "validation_split = 0.20\n",
        "epochs = 15"
      ],
      "execution_count": null,
      "outputs": []
    },
    {
      "cell_type": "code",
      "metadata": {
        "colab": {
          "base_uri": "https://localhost:8080/"
        },
        "id": "PZ2p8pTDae-P",
        "outputId": "1c58cf17-9f5d-486f-bfe2-6b2f8935e109"
      },
      "source": [
        "model = keras.models.Sequential(name = 'ANN-3x16',\n",
        "    layers =\n",
        "    [\n",
        "        keras.layers.InputLayer(input_shape=input_dim),\n",
        "        keras.layers.Dense(16, activation=keras.activations.relu),\n",
        "        keras.layers.Dense(16, activation=keras.activations.relu),\n",
        "        keras.layers.Dense(16, activation=keras.activations.relu),\n",
        "        keras.layers.Dense(len(labels), activation=keras.activations.softmax),\n",
        "    ]\n",
        ")\n",
        "\n",
        "model.summary()\n",
        "model.compile(\n",
        "    optimizer=keras.optimizers.Adam(),\n",
        "    loss='categorical_crossentropy',\n",
        "    metrics=['accuracy'],\n",
        ")\n",
        "\n",
        "model_train_history[model] = model.fit(\n",
        "    x=x_train,\n",
        "    y=y_train_onehot,\n",
        "    epochs=epochs,\n",
        "    batch_size=4,\n",
        "    validation_split=validation_split,\n",
        "    shuffle=True,\n",
        "    verbose=1,\n",
        ")"
      ],
      "execution_count": null,
      "outputs": [
        {
          "output_type": "stream",
          "text": [
            "Model: \"ANN-3x16\"\n",
            "_________________________________________________________________\n",
            "Layer (type)                 Output Shape              Param #   \n",
            "=================================================================\n",
            "dense (Dense)                (None, 16)                688       \n",
            "_________________________________________________________________\n",
            "dense_1 (Dense)              (None, 16)                272       \n",
            "_________________________________________________________________\n",
            "dense_2 (Dense)              (None, 16)                272       \n",
            "_________________________________________________________________\n",
            "dense_3 (Dense)              (None, 27)                459       \n",
            "=================================================================\n",
            "Total params: 1,691\n",
            "Trainable params: 1,691\n",
            "Non-trainable params: 0\n",
            "_________________________________________________________________\n",
            "Epoch 1/15\n",
            "924/924 [==============================] - 3s 3ms/step - loss: 1.8245 - accuracy: 0.4768 - val_loss: 0.4710 - val_accuracy: 0.8842\n",
            "Epoch 2/15\n",
            "924/924 [==============================] - 2s 3ms/step - loss: 0.2806 - accuracy: 0.9353 - val_loss: 0.1647 - val_accuracy: 0.9426\n",
            "Epoch 3/15\n",
            "924/924 [==============================] - 2s 2ms/step - loss: 0.1298 - accuracy: 0.9667 - val_loss: 0.1207 - val_accuracy: 0.9426\n",
            "Epoch 4/15\n",
            "924/924 [==============================] - 2s 3ms/step - loss: 0.0848 - accuracy: 0.9789 - val_loss: 0.0650 - val_accuracy: 0.9892\n",
            "Epoch 5/15\n",
            "924/924 [==============================] - 2s 3ms/step - loss: 0.0544 - accuracy: 0.9870 - val_loss: 0.0495 - val_accuracy: 0.9816\n",
            "Epoch 6/15\n",
            "924/924 [==============================] - 2s 3ms/step - loss: 0.0416 - accuracy: 0.9921 - val_loss: 0.0269 - val_accuracy: 0.9935\n",
            "Epoch 7/15\n",
            "924/924 [==============================] - 2s 3ms/step - loss: 0.0300 - accuracy: 0.9924 - val_loss: 0.0244 - val_accuracy: 0.9968\n",
            "Epoch 8/15\n",
            "924/924 [==============================] - 2s 3ms/step - loss: 0.0257 - accuracy: 0.9921 - val_loss: 0.0183 - val_accuracy: 0.9957\n",
            "Epoch 9/15\n",
            "924/924 [==============================] - 2s 3ms/step - loss: 0.0240 - accuracy: 0.9932 - val_loss: 0.0106 - val_accuracy: 0.9989\n",
            "Epoch 10/15\n",
            "924/924 [==============================] - 2s 3ms/step - loss: 0.0183 - accuracy: 0.9951 - val_loss: 0.0210 - val_accuracy: 0.9924\n",
            "Epoch 11/15\n",
            "924/924 [==============================] - 2s 3ms/step - loss: 0.0161 - accuracy: 0.9959 - val_loss: 0.0216 - val_accuracy: 0.9946\n",
            "Epoch 12/15\n",
            "924/924 [==============================] - 2s 3ms/step - loss: 0.0157 - accuracy: 0.9954 - val_loss: 0.0113 - val_accuracy: 0.9968\n",
            "Epoch 13/15\n",
            "924/924 [==============================] - 2s 3ms/step - loss: 0.0146 - accuracy: 0.9954 - val_loss: 0.0094 - val_accuracy: 0.9978\n",
            "Epoch 14/15\n",
            "924/924 [==============================] - 2s 3ms/step - loss: 0.0134 - accuracy: 0.9970 - val_loss: 0.0160 - val_accuracy: 0.9946\n",
            "Epoch 15/15\n",
            "924/924 [==============================] - 2s 3ms/step - loss: 0.0080 - accuracy: 0.9973 - val_loss: 0.0093 - val_accuracy: 0.9978\n"
          ],
          "name": "stdout"
        }
      ]
    },
    {
      "cell_type": "code",
      "metadata": {
        "colab": {
          "base_uri": "https://localhost:8080/"
        },
        "id": "Ils0Rcv4ae-Q",
        "outputId": "64c77f7e-c6d3-4d74-d961-1d0f979c73c5"
      },
      "source": [
        "model = keras.models.Sequential(name = 'ANN-3x64',\n",
        "                                   layers =\n",
        "    [\n",
        "        keras.layers.InputLayer(input_shape=input_dim),\n",
        "        keras.layers.Dense(64, activation=keras.activations.relu),\n",
        "        keras.layers.Dense(64, activation=keras.activations.relu),\n",
        "        keras.layers.Dense(64, activation=keras.activations.relu),\n",
        "        keras.layers.Dense(len(labels), activation=keras.activations.softmax),\n",
        "    ]\n",
        ")\n",
        "\n",
        "model.summary()\n",
        "model.compile(\n",
        "    optimizer=keras.optimizers.Adam(),\n",
        "    loss='categorical_crossentropy',\n",
        "    metrics=['accuracy'],\n",
        ")\n",
        "\n",
        "model_train_history[model] = model.fit(\n",
        "    x=x_train,\n",
        "    y=y_train_onehot,\n",
        "    epochs=epochs,\n",
        "    batch_size=4,\n",
        "    validation_split=validation_split,\n",
        "    shuffle=True,\n",
        "    verbose=1,\n",
        ")"
      ],
      "execution_count": null,
      "outputs": [
        {
          "output_type": "stream",
          "text": [
            "Model: \"ANN-3x64\"\n",
            "_________________________________________________________________\n",
            "Layer (type)                 Output Shape              Param #   \n",
            "=================================================================\n",
            "dense_4 (Dense)              (None, 64)                2752      \n",
            "_________________________________________________________________\n",
            "dense_5 (Dense)              (None, 64)                4160      \n",
            "_________________________________________________________________\n",
            "dense_6 (Dense)              (None, 64)                4160      \n",
            "_________________________________________________________________\n",
            "dense_7 (Dense)              (None, 27)                1755      \n",
            "=================================================================\n",
            "Total params: 12,827\n",
            "Trainable params: 12,827\n",
            "Non-trainable params: 0\n",
            "_________________________________________________________________\n",
            "Epoch 1/15\n",
            "924/924 [==============================] - 3s 3ms/step - loss: 0.8164 - accuracy: 0.7872 - val_loss: 0.1046 - val_accuracy: 0.9740\n",
            "Epoch 2/15\n",
            "924/924 [==============================] - 2s 3ms/step - loss: 0.0678 - accuracy: 0.9821 - val_loss: 0.0272 - val_accuracy: 0.9946\n",
            "Epoch 3/15\n",
            "924/924 [==============================] - 2s 3ms/step - loss: 0.0379 - accuracy: 0.9905 - val_loss: 0.0205 - val_accuracy: 0.9957\n",
            "Epoch 4/15\n",
            "924/924 [==============================] - 2s 3ms/step - loss: 0.0201 - accuracy: 0.9951 - val_loss: 0.0084 - val_accuracy: 0.9978\n",
            "Epoch 5/15\n",
            "924/924 [==============================] - 2s 2ms/step - loss: 0.0144 - accuracy: 0.9965 - val_loss: 0.0400 - val_accuracy: 0.9848\n",
            "Epoch 6/15\n",
            "924/924 [==============================] - 2s 3ms/step - loss: 0.0102 - accuracy: 0.9976 - val_loss: 0.0054 - val_accuracy: 0.9978\n",
            "Epoch 7/15\n",
            "924/924 [==============================] - 2s 3ms/step - loss: 0.0219 - accuracy: 0.9938 - val_loss: 0.0104 - val_accuracy: 0.9978\n",
            "Epoch 8/15\n",
            "924/924 [==============================] - 2s 3ms/step - loss: 0.0063 - accuracy: 0.9981 - val_loss: 0.0143 - val_accuracy: 0.9968\n",
            "Epoch 9/15\n",
            "924/924 [==============================] - 2s 3ms/step - loss: 0.0105 - accuracy: 0.9978 - val_loss: 0.0103 - val_accuracy: 0.9978\n",
            "Epoch 10/15\n",
            "924/924 [==============================] - 2s 3ms/step - loss: 0.0172 - accuracy: 0.9946 - val_loss: 0.0232 - val_accuracy: 0.9924\n",
            "Epoch 11/15\n",
            "924/924 [==============================] - 2s 3ms/step - loss: 0.0082 - accuracy: 0.9976 - val_loss: 0.3687 - val_accuracy: 0.9556\n",
            "Epoch 12/15\n",
            "924/924 [==============================] - 2s 3ms/step - loss: 0.0118 - accuracy: 0.9976 - val_loss: 0.0031 - val_accuracy: 0.9989\n",
            "Epoch 13/15\n",
            "924/924 [==============================] - 2s 3ms/step - loss: 0.0347 - accuracy: 0.9911 - val_loss: 0.0120 - val_accuracy: 0.9989\n",
            "Epoch 14/15\n",
            "924/924 [==============================] - 2s 3ms/step - loss: 0.0030 - accuracy: 0.9995 - val_loss: 0.0061 - val_accuracy: 0.9989\n",
            "Epoch 15/15\n",
            "924/924 [==============================] - 2s 3ms/step - loss: 6.8084e-04 - accuracy: 1.0000 - val_loss: 0.0069 - val_accuracy: 0.9978\n"
          ],
          "name": "stdout"
        }
      ]
    },
    {
      "cell_type": "code",
      "metadata": {
        "colab": {
          "base_uri": "https://localhost:8080/"
        },
        "id": "lUaetVfOae-Q",
        "outputId": "197b3a7f-8dd7-4e0b-c374-f4e2f2dbcbf6"
      },
      "source": [
        "model = keras.models.Sequential(name = 'ANN-3x64-Dropouts',\n",
        "                                   layers =\n",
        "    [\n",
        "        keras.layers.InputLayer(input_shape=input_dim),\n",
        "        keras.layers.Dense(64, activation=keras.activations.relu),\n",
        "        keras.layers.Dropout(0.3),\n",
        "        keras.layers.Dense(64, activation=keras.activations.relu),\n",
        "        keras.layers.Dropout(0.3),\n",
        "        keras.layers.Dense(64, activation=keras.activations.relu),\n",
        "        keras.layers.Dropout(0.3),\n",
        "        keras.layers.Dense(len(labels), activation=keras.activations.softmax),\n",
        "    ]\n",
        ")\n",
        "\n",
        "model.summary()\n",
        "model.compile(\n",
        "    optimizer=keras.optimizers.Adam(),\n",
        "    loss='categorical_crossentropy',\n",
        "    metrics=['accuracy'],\n",
        ")\n",
        "\n",
        "model_train_history[model] = model.fit(\n",
        "    x=x_train,\n",
        "    y=y_train_onehot,\n",
        "    epochs=epochs,\n",
        "    batch_size=4,\n",
        "    validation_split=validation_split,\n",
        "    shuffle=True,\n",
        "    verbose=1,\n",
        ")"
      ],
      "execution_count": null,
      "outputs": [
        {
          "output_type": "stream",
          "text": [
            "Model: \"ANN-3x64-Dropouts\"\n",
            "_________________________________________________________________\n",
            "Layer (type)                 Output Shape              Param #   \n",
            "=================================================================\n",
            "dense_8 (Dense)              (None, 64)                2752      \n",
            "_________________________________________________________________\n",
            "dropout (Dropout)            (None, 64)                0         \n",
            "_________________________________________________________________\n",
            "dense_9 (Dense)              (None, 64)                4160      \n",
            "_________________________________________________________________\n",
            "dropout_1 (Dropout)          (None, 64)                0         \n",
            "_________________________________________________________________\n",
            "dense_10 (Dense)             (None, 64)                4160      \n",
            "_________________________________________________________________\n",
            "dropout_2 (Dropout)          (None, 64)                0         \n",
            "_________________________________________________________________\n",
            "dense_11 (Dense)             (None, 27)                1755      \n",
            "=================================================================\n",
            "Total params: 12,827\n",
            "Trainable params: 12,827\n",
            "Non-trainable params: 0\n",
            "_________________________________________________________________\n",
            "Epoch 1/15\n",
            "924/924 [==============================] - 3s 3ms/step - loss: 1.8947 - accuracy: 0.4064 - val_loss: 0.4516 - val_accuracy: 0.9015\n",
            "Epoch 2/15\n",
            "924/924 [==============================] - 2s 3ms/step - loss: 0.6885 - accuracy: 0.7522 - val_loss: 0.1506 - val_accuracy: 0.9665\n",
            "Epoch 3/15\n",
            "924/924 [==============================] - 2s 3ms/step - loss: 0.3876 - accuracy: 0.8657 - val_loss: 0.0780 - val_accuracy: 0.9773\n",
            "Epoch 4/15\n",
            "924/924 [==============================] - 2s 3ms/step - loss: 0.2968 - accuracy: 0.8920 - val_loss: 0.0477 - val_accuracy: 0.9903\n",
            "Epoch 5/15\n",
            "924/924 [==============================] - 3s 3ms/step - loss: 0.2407 - accuracy: 0.9174 - val_loss: 0.0325 - val_accuracy: 0.9957\n",
            "Epoch 6/15\n",
            "924/924 [==============================] - 3s 3ms/step - loss: 0.2038 - accuracy: 0.9328 - val_loss: 0.0277 - val_accuracy: 0.9946\n",
            "Epoch 7/15\n",
            "924/924 [==============================] - 2s 3ms/step - loss: 0.1514 - accuracy: 0.9477 - val_loss: 0.0221 - val_accuracy: 0.9957\n",
            "Epoch 8/15\n",
            "924/924 [==============================] - 3s 3ms/step - loss: 0.1416 - accuracy: 0.9513 - val_loss: 0.0127 - val_accuracy: 0.9978\n",
            "Epoch 9/15\n",
            "924/924 [==============================] - 3s 3ms/step - loss: 0.1253 - accuracy: 0.9610 - val_loss: 0.0137 - val_accuracy: 0.9968\n",
            "Epoch 10/15\n",
            "924/924 [==============================] - 3s 3ms/step - loss: 0.1204 - accuracy: 0.9607 - val_loss: 0.0098 - val_accuracy: 0.9978\n",
            "Epoch 11/15\n",
            "924/924 [==============================] - 2s 3ms/step - loss: 0.0949 - accuracy: 0.9680 - val_loss: 0.0114 - val_accuracy: 0.9989\n",
            "Epoch 12/15\n",
            "924/924 [==============================] - 2s 3ms/step - loss: 0.0895 - accuracy: 0.9686 - val_loss: 0.0087 - val_accuracy: 0.9989\n",
            "Epoch 13/15\n",
            "924/924 [==============================] - 3s 3ms/step - loss: 0.0878 - accuracy: 0.9708 - val_loss: 0.0090 - val_accuracy: 0.9989\n",
            "Epoch 14/15\n",
            "924/924 [==============================] - 3s 3ms/step - loss: 0.0959 - accuracy: 0.9699 - val_loss: 0.0080 - val_accuracy: 0.9989\n",
            "Epoch 15/15\n",
            "924/924 [==============================] - 2s 3ms/step - loss: 0.0724 - accuracy: 0.9764 - val_loss: 0.0096 - val_accuracy: 0.9978\n"
          ],
          "name": "stdout"
        }
      ]
    },
    {
      "cell_type": "code",
      "metadata": {
        "colab": {
          "base_uri": "https://localhost:8080/"
        },
        "id": "FA1LSFoVae-R",
        "outputId": "fb01face-dfb0-4bc5-f45d-7f96bf0e1b46"
      },
      "source": [
        "model = keras.models.Sequential(name = 'ANN-2x128',\n",
        "                                   layers =\n",
        "    [\n",
        "        keras.layers.InputLayer(input_shape=input_dim),\n",
        "        keras.layers.Dense(128, activation=keras.activations.relu),\n",
        "        keras.layers.Dense(128, activation=keras.activations.relu),\n",
        "        keras.layers.Dense(len(labels), activation=keras.activations.softmax),\n",
        "    ]\n",
        ")\n",
        "\n",
        "model.summary()\n",
        "model.compile(\n",
        "    optimizer=keras.optimizers.Adam(),\n",
        "    loss='categorical_crossentropy',\n",
        "    metrics=['accuracy'],\n",
        ")\n",
        "\n",
        "model_train_history[model] = model.fit(\n",
        "    x=x_train,\n",
        "    y=y_train_onehot,\n",
        "    epochs=epochs,\n",
        "    batch_size=4,\n",
        "    validation_split=validation_split,\n",
        "    shuffle=True,\n",
        "    verbose=1,\n",
        ")"
      ],
      "execution_count": null,
      "outputs": [
        {
          "output_type": "stream",
          "text": [
            "Model: \"ANN-2x128\"\n",
            "_________________________________________________________________\n",
            "Layer (type)                 Output Shape              Param #   \n",
            "=================================================================\n",
            "dense_12 (Dense)             (None, 128)               5504      \n",
            "_________________________________________________________________\n",
            "dense_13 (Dense)             (None, 128)               16512     \n",
            "_________________________________________________________________\n",
            "dense_14 (Dense)             (None, 27)                3483      \n",
            "=================================================================\n",
            "Total params: 25,499\n",
            "Trainable params: 25,499\n",
            "Non-trainable params: 0\n",
            "_________________________________________________________________\n",
            "Epoch 1/15\n",
            "924/924 [==============================] - 3s 3ms/step - loss: 0.6691 - accuracy: 0.8562 - val_loss: 0.0829 - val_accuracy: 0.9654\n",
            "Epoch 2/15\n",
            "924/924 [==============================] - 2s 3ms/step - loss: 0.0379 - accuracy: 0.9921 - val_loss: 0.0157 - val_accuracy: 0.9989\n",
            "Epoch 3/15\n",
            "924/924 [==============================] - 2s 2ms/step - loss: 0.0203 - accuracy: 0.9951 - val_loss: 0.0118 - val_accuracy: 0.9989\n",
            "Epoch 4/15\n",
            "924/924 [==============================] - 2s 2ms/step - loss: 0.0160 - accuracy: 0.9959 - val_loss: 0.0058 - val_accuracy: 0.9989\n",
            "Epoch 5/15\n",
            "924/924 [==============================] - 2s 2ms/step - loss: 0.0085 - accuracy: 0.9984 - val_loss: 0.0086 - val_accuracy: 0.9989\n",
            "Epoch 6/15\n",
            "924/924 [==============================] - 2s 2ms/step - loss: 0.0075 - accuracy: 0.9976 - val_loss: 0.0074 - val_accuracy: 0.9989\n",
            "Epoch 7/15\n",
            "924/924 [==============================] - 2s 2ms/step - loss: 0.0076 - accuracy: 0.9986 - val_loss: 0.0046 - val_accuracy: 0.9989\n",
            "Epoch 8/15\n",
            "924/924 [==============================] - 2s 2ms/step - loss: 0.0057 - accuracy: 0.9981 - val_loss: 0.0042 - val_accuracy: 0.9989\n",
            "Epoch 9/15\n",
            "924/924 [==============================] - 2s 2ms/step - loss: 0.0059 - accuracy: 0.9981 - val_loss: 0.0059 - val_accuracy: 0.9989\n",
            "Epoch 10/15\n",
            "924/924 [==============================] - 2s 2ms/step - loss: 7.9217e-04 - accuracy: 1.0000 - val_loss: 0.0055 - val_accuracy: 0.9989\n",
            "Epoch 11/15\n",
            "924/924 [==============================] - 2s 3ms/step - loss: 0.0010 - accuracy: 0.9995 - val_loss: 0.0059 - val_accuracy: 0.9989\n",
            "Epoch 12/15\n",
            "924/924 [==============================] - 2s 2ms/step - loss: 0.0167 - accuracy: 0.9954 - val_loss: 0.0587 - val_accuracy: 0.9751\n",
            "Epoch 13/15\n",
            "924/924 [==============================] - 2s 2ms/step - loss: 0.0082 - accuracy: 0.9986 - val_loss: 0.0068 - val_accuracy: 0.9989\n",
            "Epoch 14/15\n",
            "924/924 [==============================] - 2s 2ms/step - loss: 0.0013 - accuracy: 0.9995 - val_loss: 0.0054 - val_accuracy: 0.9989\n",
            "Epoch 15/15\n",
            "924/924 [==============================] - 2s 2ms/step - loss: 0.0023 - accuracy: 0.9992 - val_loss: 0.0183 - val_accuracy: 0.9946\n"
          ],
          "name": "stdout"
        }
      ]
    },
    {
      "cell_type": "code",
      "metadata": {
        "colab": {
          "base_uri": "https://localhost:8080/",
          "height": 355
        },
        "id": "4UhLcq1Jae-R",
        "outputId": "91bd3127-5407-4d3c-82dc-37dad2977465"
      },
      "source": [
        "fig, axs = plt.subplots(1, 2, figsize=(14,5))\n",
        "colors_graph = [\"#d69e2d\",\n",
        "                \"#927ced\",\n",
        "                \"#73bd4d\",\n",
        "                \"#e462c0\",\n",
        "                \"#eb5e52\"]\n",
        "handles = []\n",
        "\n",
        "for (model, history), color in zip(model_train_history.items(), colors_graph):\n",
        "    label = '{} ({})'.format(model.name, model.count_params())\n",
        "    axs[0].plot(history.history['loss'], c=color, ls='-.', alpha=.7)\n",
        "    axs[1].plot(history.history['accuracy'], c=color, ls='-.', alpha=.7)\n",
        "    axs[0].plot(history.history['val_loss'], c=color)\n",
        "    axs[1].plot(history.history['val_accuracy'], c=color)\n",
        "    handles.append(mpatches.Patch(color=color, label=label))\n",
        "\n",
        "for ax in axs:\n",
        "    ax.set_xlabel('Epoch')\n",
        "axs[0].set_ylabel('loss')\n",
        "axs[0].set_yscale('log')\n",
        "axs[1].set_ylabel('accuracy')\n",
        "axs[1].set_ylim(0.95,1.01)\n",
        "\n",
        "handles.append(Line2D([0], [0], color='grey', lw=1, ls='-', label='validation'))\n",
        "handles.append(Line2D([0], [0], color='grey', lw=1, ls='-.', label='training'))\n",
        "\n",
        "fig.subplots_adjust(right=0.85)\n",
        "fig.legend(handles=handles,\n",
        "           loc=\"center right\",\n",
        "           borderaxespad=1)"
      ],
      "execution_count": null,
      "outputs": [
        {
          "output_type": "execute_result",
          "data": {
            "text/plain": [
              "<matplotlib.legend.Legend at 0x7f95e1355e90>"
            ]
          },
          "metadata": {
            "tags": []
          },
          "execution_count": 10
        },
        {
          "output_type": "display_data",
          "data": {
            "image/png": "[encoded data removed]",
            "text/plain": [
              "<Figure size 1008x360 with 2 Axes>"
            ]
          },
          "metadata": {
            "tags": [],
            "needs_background": "light"
          }
        }
      ]
    },
    {
      "cell_type": "markdown",
      "metadata": {
        "id": "JmJ_LECNae-R"
      },
      "source": [
        "## Model export"
      ]
    },
    {
      "cell_type": "markdown",
      "metadata": {
        "id": "km8bpVuSrwPE"
      },
      "source": [
        "Once you have a good model, you can save it on your Google Drive. The model is saved using the [folder hierarchy of OpenHand](https://github.com/ArthurFDLR/OpenHand-App#pose-classifier-models)."
      ]
    },
    {
      "cell_type": "code",
      "metadata": {
        "colab": {
          "base_uri": "https://localhost:8080/"
        },
        "id": "MyD7zsZSfuMk",
        "outputId": "14e58157-df9a-45d2-db51-fa9f06d507e0"
      },
      "source": [
        "from google.colab import drive\n",
        "from pathlib import Path\n",
        "\n",
        "content_path = Path('/').absolute() / 'content'\n",
        "drive_path = content_path / 'drive'\n",
        "drive.mount(str(drive_path))"
      ],
      "execution_count": null,
      "outputs": [
        {
          "output_type": "stream",
          "text": [
            "Drive already mounted at /content/drive; to attempt to forcibly remount, call drive.mount(\"/content/drive\", force_remount=True).\n"
          ],
          "name": "stdout"
        }
      ]
    },
    {
      "cell_type": "code",
      "metadata": {
        "colab": {
          "base_uri": "https://localhost:8080/"
        },
        "id": "5pc5o55gae-R",
        "outputId": "528e1d83-80dc-4de9-e00c-4f0eff944506"
      },
      "source": [
        "model = keras.models.Sequential(name = '27Class_3x64',\n",
        "                                   layers =\n",
        "    [\n",
        "        keras.layers.InputLayer(input_shape=input_dim),\n",
        "        keras.layers.Dense(64, activation=keras.activations.relu),\n",
        "        keras.layers.Dense(64, activation=keras.activations.relu),\n",
        "        keras.layers.Dense(64, activation=keras.activations.relu),\n",
        "        keras.layers.Dense(len(labels), activation=keras.activations.softmax),\n",
        "    ]\n",
        ")\n",
        "\n",
        "model.summary()\n",
        "model.compile(\n",
        "    optimizer=keras.optimizers.Adam(),\n",
        "    loss='categorical_crossentropy',\n",
        "    metrics=['accuracy'],\n",
        ")\n",
        "\n",
        "save_path = drive_path / 'My Drive'\n",
        "for subfolder in ['OpenHand', 'Models', model.name]:\n",
        "    save_path /= subfolder\n",
        "    if not (save_path).is_dir():\n",
        "        %mkdir \"{save_path}\"\n",
        "    \n",
        "\n",
        "model_path = save_path / '{name}_{hand}.h5'.format(name = model.name, hand = hand_label)\n",
        "\n",
        "model.fit(\n",
        "    x=x_train,\n",
        "    y=y_train_onehot,\n",
        "    epochs=10,\n",
        "    batch_size=4,\n",
        "    validation_split=0.15,\n",
        "    shuffle=True,\n",
        "    callbacks=[keras.callbacks.ModelCheckpoint(filepath=model_path, verbose=1, save_best_only=True)],\n",
        "    verbose = 2,\n",
        ")\n",
        "\n",
        "class_file = open(save_path / 'class.txt', 'w')\n",
        "for i, label_i in enumerate(labels):\n",
        "    class_file.write((',' if i!=0 else '') + label_i)\n",
        "class_file.close()"
      ],
      "execution_count": null,
      "outputs": [
        {
          "output_type": "stream",
          "text": [
            "Model: \"27Class_3x64\"\n",
            "_________________________________________________________________\n",
            "Layer (type)                 Output Shape              Param #   \n",
            "=================================================================\n",
            "dense_15 (Dense)             (None, 64)                2752      \n",
            "_________________________________________________________________\n",
            "dense_16 (Dense)             (None, 64)                4160      \n",
            "_________________________________________________________________\n",
            "dense_17 (Dense)             (None, 64)                4160      \n",
            "_________________________________________________________________\n",
            "dense_18 (Dense)             (None, 27)                1755      \n",
            "=================================================================\n",
            "Total params: 12,827\n",
            "Trainable params: 12,827\n",
            "Non-trainable params: 0\n",
            "_________________________________________________________________\n",
            "Epoch 1/10\n",
            "981/981 - 2s - loss: 0.7611 - accuracy: 0.8101 - val_loss: 0.1858 - val_accuracy: 0.9235\n",
            "\n",
            "Epoch 00001: val_loss improved from inf to 0.18578, saving model to /content/drive/My Drive/OpenHand/Models/27Class_3x64/27Class_3x64_right.h5\n",
            "Epoch 2/10\n",
            "981/981 - 2s - loss: 0.0575 - accuracy: 0.9832 - val_loss: 0.0260 - val_accuracy: 0.9957\n",
            "\n",
            "Epoch 00002: val_loss improved from 0.18578 to 0.02600, saving model to /content/drive/My Drive/OpenHand/Models/27Class_3x64/27Class_3x64_right.h5\n",
            "Epoch 3/10\n",
            "981/981 - 2s - loss: 0.0233 - accuracy: 0.9934 - val_loss: 0.0102 - val_accuracy: 0.9971\n",
            "\n",
            "Epoch 00003: val_loss improved from 0.02600 to 0.01021, saving model to /content/drive/My Drive/OpenHand/Models/27Class_3x64/27Class_3x64_right.h5\n",
            "Epoch 4/10\n",
            "981/981 - 2s - loss: 0.0270 - accuracy: 0.9916 - val_loss: 0.0248 - val_accuracy: 0.9928\n",
            "\n",
            "Epoch 00004: val_loss did not improve from 0.01021\n",
            "Epoch 5/10\n",
            "981/981 - 2s - loss: 0.0198 - accuracy: 0.9949 - val_loss: 0.1305 - val_accuracy: 0.9596\n",
            "\n",
            "Epoch 00005: val_loss did not improve from 0.01021\n",
            "Epoch 6/10\n",
            "981/981 - 2s - loss: 0.0061 - accuracy: 0.9985 - val_loss: 0.0107 - val_accuracy: 0.9971\n",
            "\n",
            "Epoch 00006: val_loss did not improve from 0.01021\n",
            "Epoch 7/10\n",
            "981/981 - 2s - loss: 0.0134 - accuracy: 0.9954 - val_loss: 0.0087 - val_accuracy: 0.9986\n",
            "\n",
            "Epoch 00007: val_loss improved from 0.01021 to 0.00868, saving model to /content/drive/My Drive/OpenHand/Models/27Class_3x64/27Class_3x64_right.h5\n",
            "Epoch 8/10\n",
            "981/981 - 2s - loss: 0.0057 - accuracy: 0.9987 - val_loss: 0.0072 - val_accuracy: 0.9971\n",
            "\n",
            "Epoch 00008: val_loss improved from 0.00868 to 0.00718, saving model to /content/drive/My Drive/OpenHand/Models/27Class_3x64/27Class_3x64_right.h5\n",
            "Epoch 9/10\n",
            "981/981 - 2s - loss: 0.0088 - accuracy: 0.9972 - val_loss: 7.3109e-04 - val_accuracy: 1.0000\n",
            "\n",
            "Epoch 00009: val_loss improved from 0.00718 to 0.00073, saving model to /content/drive/My Drive/OpenHand/Models/27Class_3x64/27Class_3x64_right.h5\n",
            "Epoch 10/10\n",
            "981/981 - 2s - loss: 0.0076 - accuracy: 0.9982 - val_loss: 7.8151e-04 - val_accuracy: 1.0000\n",
            "\n",
            "Epoch 00010: val_loss did not improve from 0.00073\n"
          ],
          "name": "stdout"
        }
      ]
    },
    {
      "cell_type": "code",
      "metadata": {
        "colab": {
          "base_uri": "https://localhost:8080/"
        },
        "id": "mPMnJf1Vae-S",
        "outputId": "18ae8c05-5c6f-41bb-9e04-580b70e05d8e"
      },
      "source": [
        "model_test = keras.models.load_model(model_path)\n",
        "model_test.evaluate(x=x_test, y=y_test_onehot)"
      ],
      "execution_count": null,
      "outputs": [
        {
          "output_type": "stream",
          "text": [
            "26/26 [==============================] - 0s 2ms/step - loss: 0.0078 - accuracy: 0.9988\n"
          ],
          "name": "stdout"
        },
        {
          "output_type": "execute_result",
          "data": {
            "text/plain": [
              "[0.00784597359597683, 0.9987654089927673]"
            ]
          },
          "metadata": {
            "tags": []
          },
          "execution_count": 13
        }
      ]
    },
    {
      "cell_type": "code",
      "metadata": {
        "id": "V3lsa7aKae-S"
      },
      "source": [
        ""
      ],
      "execution_count": null,
      "outputs": []
    }
  ]
}