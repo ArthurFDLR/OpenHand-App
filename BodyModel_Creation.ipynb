{
  "nbformat": 4,
  "nbformat_minor": 0,
  "metadata": {
    "colab": {
      "name": "BodyModel-Creation.ipynb",
      "provenance": [],
      "authorship_tag": "ABX9TyPm/k47j5xzQeZmvBPt3yWD",
      "include_colab_link": true
    },
    "kernelspec": {
      "name": "python3",
      "display_name": "Python 3"
    },
    "language_info": {
      "name": "python"
    }
  },
  "cells": [
    {
      "cell_type": "markdown",
      "metadata": {
        "id": "view-in-github",
        "colab_type": "text"
      },
      "source": [
        "<a href=\"https://colab.research.google.com/github/ArthurFDLR/pose-classification-kit/blob/master/BodyModel_Creation.ipynb\" target=\"_parent\"><img src=\"https://colab.research.google.com/assets/colab-badge.svg\" alt=\"Open In Colab\"/></a>"
      ]
    },
    {
      "cell_type": "markdown",
      "metadata": {
        "id": "Gt3BWL5uRUfB"
      },
      "source": [
        "# 🤙 Pose Classification kit body model design"
      ]
    },
    {
      "cell_type": "code",
      "metadata": {
        "id": "qzConJTSOWl_"
      },
      "source": [
        "import numpy as np\n",
        "import matplotlib.pyplot as plt\n",
        "import matplotlib.patches as mpatches\n",
        "from matplotlib.lines import Line2D\n",
        "import os\n",
        "\n",
        "%tensorflow_version 2.x\n",
        "import tensorflow\n",
        "from tensorflow import keras\n",
        "\n",
        "print('Available GPU:')\n",
        "!nvidia-smi -L\n",
        "print('\\nTensorFlow use GPU at: {}'.format(tensorflow.test.gpu_device_name()))\n",
        "\n",
        "!pip install pose-classification-kit\n",
        "from pose_classification_kit.datasets import BODY25, bodyDataset, dataAugmentation"
      ],
      "execution_count": null,
      "outputs": []
    },
    {
      "cell_type": "markdown",
      "metadata": {
        "id": "uHIyJdyqRkcl"
      },
      "source": [
        "## Import dataset"
      ]
    },
    {
      "cell_type": "code",
      "metadata": {
        "colab": {
          "base_uri": "https://localhost:8080/"
        },
        "id": "0SK3FpRtPnwV",
        "outputId": "8a51fdd3-5612-4e3f-811b-10ad4e83b32d"
      },
      "source": [
        "dataset = bodyDataset(testSplit=.2, shuffle=True, bodyModel=BODY25)\n",
        "x_train = dataset['x_train']\n",
        "y_train = dataset['y_train_onehot']\n",
        "\n",
        "x_train.shape, y_train.shape"
      ],
      "execution_count": 6,
      "outputs": [
        {
          "output_type": "stream",
          "text": [
            "Dataset loaded from https://raw.githubusercontent.com/ArthurFDLR/pose-classification-kit/master/pose_classification_kit/datasets/BodyPose_Dataset.csv\n"
          ],
          "name": "stdout"
        },
        {
          "output_type": "execute_result",
          "data": {
            "text/plain": [
              "((8040, 25, 2), (8040, 20))"
            ]
          },
          "metadata": {
            "tags": []
          },
          "execution_count": 6
        }
      ]
    },
    {
      "cell_type": "markdown",
      "metadata": {
        "id": "ujWOy4Z8Ru4Q"
      },
      "source": [
        "## Data augmentation"
      ]
    },
    {
      "cell_type": "code",
      "metadata": {
        "colab": {
          "base_uri": "https://localhost:8080/"
        },
        "id": "HlNjhLolQWmd",
        "outputId": "25733b7b-00fa-4a56-b7ab-0e2c9114a8e8"
      },
      "source": [
        "x_scale, y_scale = dataAugmentation(x_train, y_train, augmentation_ratio=.25, scaling_factor_standard_deviation=.08, random_noise_standard_deviation=.03)\n",
        "x_rotate, y_rotate = dataAugmentation(x_train, y_train, augmentation_ratio=.25, rotation_angle_standard_deviation=10, random_noise_standard_deviation=.03)\n",
        "lowerBody_keypoints = [10, 11, 13, 14, 19, 20, 21, 22, 23, 24]\n",
        "x_noLegs, y_noLegs = dataAugmentation(x_train, y_train, augmentation_ratio=.25, remove_specific_keypoints=lowerBody_keypoints, random_noise_standard_deviation=.03)\n",
        "x_partial, y_partial = dataAugmentation(x_train, y_train, augmentation_ratio=.25, remove_rand_keypoints_nbr=4, random_noise_standard_deviation=.03)\n",
        "\n",
        "x_train_augmented = np.concatenate((x_train, x_scale, x_rotate, x_noLegs, x_partial), axis=0)\n",
        "y_train_augmented = np.concatenate((y_train, y_scale, y_rotate, y_noLegs, y_partial), axis=0)\n",
        "\n",
        "x_train_augmented.shape, y_train_augmented.shape"
      ],
      "execution_count": 7,
      "outputs": [
        {
          "output_type": "execute_result",
          "data": {
            "text/plain": [
              "((16080, 25, 2), (16080, 20))"
            ]
          },
          "metadata": {
            "tags": []
          },
          "execution_count": 7
        }
      ]
    },
    {
      "cell_type": "markdown",
      "metadata": {
        "id": "vlWaRyQQSOfO"
      },
      "source": [
        "## Dataset creation"
      ]
    },
    {
      "cell_type": "code",
      "metadata": {
        "id": "5WWSNnJ1SRgK"
      },
      "source": [
        "model_train_history = {}\n",
        "input_dim = x_train.shape[1:]\n",
        "validation_split = 0.20\n",
        "epochs = 15"
      ],
      "execution_count": 10,
      "outputs": []
    },
    {
      "cell_type": "code",
      "metadata": {
        "colab": {
          "base_uri": "https://localhost:8080/"
        },
        "id": "tvclG-0cSgZv",
        "outputId": "f5f50bcd-ca8a-4974-8602-9c86a658afae"
      },
      "source": [
        "model = keras.models.Sequential(name = 'CNN-2Conv1D-64x3filter-2dense-2x128',\n",
        "                                   layers =\n",
        "    [\n",
        "        keras.layers.InputLayer(input_shape=input_dim),\n",
        "        keras.layers.Conv1D(64, 3, activation='relu'),\n",
        "        keras.layers.Conv1D(64, 3, activation='relu'),\n",
        "        keras.layers.MaxPooling1D(pool_size=3),\n",
        "        keras.layers.Dropout(0.3),\n",
        "        keras.layers.Flatten(), \n",
        "        keras.layers.Dense(128, activation=keras.activations.relu),\n",
        "        keras.layers.Dense(128, activation=keras.activations.relu),\n",
        "        keras.layers.Dense(len(dataset['labels']), activation=keras.activations.softmax),\n",
        "    ]\n",
        ")\n",
        "\n",
        "model.summary()\n",
        "model.compile(\n",
        "    optimizer=keras.optimizers.Adam(),\n",
        "    loss='categorical_crossentropy',\n",
        "    metrics=['accuracy'],\n",
        ")\n",
        "\n",
        "model_train_history[model] = model.fit(\n",
        "    x=x_train_augmented,\n",
        "    y=y_train_augmented,\n",
        "    epochs=epochs,\n",
        "    batch_size=4,\n",
        "    validation_split=validation_split,\n",
        "    shuffle=True,\n",
        "    verbose=1,\n",
        ")"
      ],
      "execution_count": 13,
      "outputs": [
        {
          "output_type": "stream",
          "text": [
            "Model: \"CNN-2Conv1D-64x3filter-2dense-2x128\"\n",
            "_________________________________________________________________\n",
            "Layer (type)                 Output Shape              Param #   \n",
            "=================================================================\n",
            "conv1d_4 (Conv1D)            (None, 23, 64)            448       \n",
            "_________________________________________________________________\n",
            "conv1d_5 (Conv1D)            (None, 21, 64)            12352     \n",
            "_________________________________________________________________\n",
            "max_pooling1d_2 (MaxPooling1 (None, 7, 64)             0         \n",
            "_________________________________________________________________\n",
            "dropout_2 (Dropout)          (None, 7, 64)             0         \n",
            "_________________________________________________________________\n",
            "flatten_2 (Flatten)          (None, 448)               0         \n",
            "_________________________________________________________________\n",
            "dense_5 (Dense)              (None, 128)               57472     \n",
            "_________________________________________________________________\n",
            "dense_6 (Dense)              (None, 128)               16512     \n",
            "_________________________________________________________________\n",
            "dense_7 (Dense)              (None, 20)                2580      \n",
            "=================================================================\n",
            "Total params: 89,364\n",
            "Trainable params: 89,364\n",
            "Non-trainable params: 0\n",
            "_________________________________________________________________\n",
            "Epoch 1/15\n",
            "3216/3216 [==============================] - 13s 4ms/step - loss: 0.5752 - accuracy: 0.7963 - val_loss: 0.7661 - val_accuracy: 0.7966\n",
            "Epoch 2/15\n",
            "3216/3216 [==============================] - 12s 4ms/step - loss: 0.1767 - accuracy: 0.9425 - val_loss: 0.7043 - val_accuracy: 0.8137\n",
            "Epoch 3/15\n",
            "3216/3216 [==============================] - 12s 4ms/step - loss: 0.1377 - accuracy: 0.9558 - val_loss: 0.6883 - val_accuracy: 0.8259\n",
            "Epoch 4/15\n",
            "3216/3216 [==============================] - 12s 4ms/step - loss: 0.1157 - accuracy: 0.9631 - val_loss: 0.5876 - val_accuracy: 0.8265\n",
            "Epoch 5/15\n",
            "3216/3216 [==============================] - 12s 4ms/step - loss: 0.1039 - accuracy: 0.9656 - val_loss: 0.6057 - val_accuracy: 0.8529\n",
            "Epoch 6/15\n",
            "3216/3216 [==============================] - 12s 4ms/step - loss: 0.1013 - accuracy: 0.9682 - val_loss: 0.5042 - val_accuracy: 0.8669\n",
            "Epoch 7/15\n",
            "3216/3216 [==============================] - 12s 4ms/step - loss: 0.0827 - accuracy: 0.9739 - val_loss: 0.5944 - val_accuracy: 0.8772\n",
            "Epoch 8/15\n",
            "3216/3216 [==============================] - 12s 4ms/step - loss: 0.0860 - accuracy: 0.9719 - val_loss: 0.5845 - val_accuracy: 0.8710\n",
            "Epoch 9/15\n",
            "3216/3216 [==============================] - 12s 4ms/step - loss: 0.0794 - accuracy: 0.9750 - val_loss: 0.6194 - val_accuracy: 0.8666\n",
            "Epoch 10/15\n",
            "3216/3216 [==============================] - 12s 4ms/step - loss: 0.0721 - accuracy: 0.9789 - val_loss: 0.5988 - val_accuracy: 0.8678\n",
            "Epoch 11/15\n",
            "3216/3216 [==============================] - 12s 4ms/step - loss: 0.0753 - accuracy: 0.9757 - val_loss: 0.4723 - val_accuracy: 0.8893\n",
            "Epoch 12/15\n",
            "3216/3216 [==============================] - 12s 4ms/step - loss: 0.0665 - accuracy: 0.9782 - val_loss: 0.5690 - val_accuracy: 0.8797\n",
            "Epoch 13/15\n",
            "3216/3216 [==============================] - 12s 4ms/step - loss: 0.0580 - accuracy: 0.9803 - val_loss: 0.8605 - val_accuracy: 0.8256\n",
            "Epoch 14/15\n",
            "3216/3216 [==============================] - 12s 4ms/step - loss: 0.0676 - accuracy: 0.9796 - val_loss: 0.7154 - val_accuracy: 0.8498\n",
            "Epoch 15/15\n",
            "3216/3216 [==============================] - 13s 4ms/step - loss: 0.0658 - accuracy: 0.9805 - val_loss: 0.6959 - val_accuracy: 0.8644\n"
          ],
          "name": "stdout"
        }
      ]
    },
    {
      "cell_type": "code",
      "metadata": {
        "colab": {
          "base_uri": "https://localhost:8080/",
          "height": 351
        },
        "id": "8rdErix4SjlX",
        "outputId": "5a7aa059-79b3-4ace-fb9a-fdbb01482538"
      },
      "source": [
        "fig, axs = plt.subplots(1, 2, figsize=(14,5))\n",
        "colors_graph = [\"#d69e2d\",\n",
        "                \"#927ced\",\n",
        "                \"#73bd4d\",\n",
        "                \"#e462c0\",\n",
        "                \"#eb5e52\"]\n",
        "handles = []\n",
        "\n",
        "for (model, history), color in zip(model_train_history.items(), colors_graph):\n",
        "    label = '{} ({})'.format(model.name, model.count_params())\n",
        "    axs[0].plot(history.history['loss'], c=color, ls='-.', alpha=.7)\n",
        "    axs[1].plot(history.history['accuracy'], c=color, ls='-.', alpha=.7)\n",
        "    axs[0].plot(history.history['val_loss'], c=color)\n",
        "    axs[1].plot(history.history['val_accuracy'], c=color)\n",
        "    handles.append(mpatches.Patch(color=color, label=label))\n",
        "\n",
        "for ax in axs:\n",
        "    ax.set_xlabel('Epoch')\n",
        "axs[0].set_ylabel('loss')\n",
        "axs[0].set_yscale('log')\n",
        "axs[1].set_ylabel('accuracy')\n",
        "axs[1].set_ylim(0.8,1.01)\n",
        "\n",
        "handles.append(Line2D([0], [0], color='grey', lw=1, ls='-', label='validation'))\n",
        "handles.append(Line2D([0], [0], color='grey', lw=1, ls='-.', label='training'))\n",
        "\n",
        "fig.subplots_adjust(right=0.85)\n",
        "fig.legend(handles=handles,\n",
        "           loc=\"center right\",\n",
        "           borderaxespad=1)"
      ],
      "execution_count": 21,
      "outputs": [
        {
          "output_type": "execute_result",
          "data": {
            "text/plain": [
              "<matplotlib.legend.Legend at 0x7f6c9cc32950>"
            ]
          },
          "metadata": {
            "tags": []
          },
          "execution_count": 21
        },
        {
          "output_type": "display_data",
          "data": {
            "image/png": "[encoded data removed]",
            "text/plain": [
              "<Figure size 1008x360 with 2 Axes>"
            ]
          },
          "metadata": {
            "tags": [],
            "needs_background": "light"
          }
        }
      ]
    },
    {
      "cell_type": "markdown",
      "metadata": {
        "id": "VeqpikSOWG08"
      },
      "source": [
        "## Model testing"
      ]
    },
    {
      "cell_type": "code",
      "metadata": {
        "colab": {
          "base_uri": "https://localhost:8080/"
        },
        "id": "R73bT_CGVd8b",
        "outputId": "115870f7-49d8-4b84-9cb2-c8f90f99893f"
      },
      "source": [
        "model.evaluate(x=dataset['x_test'], y=dataset['y_test_onehot'])"
      ],
      "execution_count": 22,
      "outputs": [
        {
          "output_type": "stream",
          "text": [
            "63/63 [==============================] - 0s 3ms/step - loss: 0.0295 - accuracy: 0.9920\n"
          ],
          "name": "stdout"
        },
        {
          "output_type": "execute_result",
          "data": {
            "text/plain": [
              "[0.02946239523589611, 0.9919999837875366]"
            ]
          },
          "metadata": {
            "tags": []
          },
          "execution_count": 22
        }
      ]
    }
  ]
}