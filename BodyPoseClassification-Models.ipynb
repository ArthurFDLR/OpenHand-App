{
  "nbformat": 4,
  "nbformat_minor": 0,
  "metadata": {
    "accelerator": "GPU",
    "colab": {
      "name": "OpenHand-Models.ipynb",
      "provenance": [],
      "toc_visible": true,
      "include_colab_link": true
    },
    "kernelspec": {
      "display_name": "Python 3 (ipykernel)",
      "language": "python",
      "name": "python3"
    },
    "language_info": {
      "codemirror_mode": {
        "name": "ipython",
        "version": 3
      },
      "file_extension": ".py",
      "mimetype": "text/x-python",
      "name": "python",
      "nbconvert_exporter": "python",
      "pygments_lexer": "ipython3",
      "version": "3.7.9"
    }
  },
  "cells": [
    {
      "cell_type": "markdown",
      "metadata": {
        "id": "view-in-github",
        "colab_type": "text"
      },
      "source": [
        "<a href=\"https://colab.research.google.com/github/ArthurFDLR/pose-classification-kit/blob/master/BodyPoseClassification-Models.ipynb\" target=\"_parent\"><img src=\"https://colab.research.google.com/assets/colab-badge.svg\" alt=\"Open In Colab\"/></a>"
      ]
    },
    {
      "cell_type": "markdown",
      "metadata": {
        "id": "uMvrR9_jnDwO"
      },
      "source": [
        "# 🤙 Pose Classification kit body model design"
      ]
    },
    {
      "cell_type": "markdown",
      "metadata": {
        "id": "ONjOBMTanXiN"
      },
      "source": [
        "This Notebook can be used to create Neural Network classifiers running in the [Pose Classification Kit](https://github.com/ArthurFDLR/pose-classification-kit).\n",
        "\n",
        "First, we have to import several libraries to visualize our dataset and create a new model."
      ]
    },
    {
      "cell_type": "code",
      "metadata": {
        "colab": {
          "base_uri": "https://localhost:8080/"
        },
        "id": "0Xvt8oHFae-I",
        "outputId": "8a626113-941c-4716-c768-e758406d8fd8"
      },
      "source": [
        "# Visualization tools \n",
        "from IPython.display import display, HTML, Markdown\n",
        "\n",
        "from matplotlib import pylab\n",
        "import matplotlib.pyplot as plt\n",
        "import matplotlib.patches as mpatches\n",
        "from matplotlib.lines import Line2D\n",
        "\n",
        "# Computation tools \n",
        "from pathlib import Path\n",
        "import numpy as np\n",
        "import os\n",
        "import pandas as pd\n",
        "pd.set_option('display.max_columns', None)\n",
        "pd.set_option('display.min_rows', 5)\n",
        "\n",
        "%tensorflow_version 2.x\n",
        "import tensorflow\n",
        "from tensorflow import keras\n",
        "\n",
        "print('Available GPU:')\n",
        "!nvidia-smi -L\n",
        "print('\\nTensorFlow use GPU at: {}'.format(tensorflow.test.gpu_device_name()))"
      ],
      "execution_count": 1,
      "outputs": [
        {
          "output_type": "stream",
          "text": [
            "Available GPU:\n",
            "GPU 0: Tesla T4 (UUID: GPU-382f14ed-612e-128d-516f-77d48c656a16)\n",
            "\n",
            "TensorFlow use GPU at: /device:GPU:0\n"
          ],
          "name": "stdout"
        }
      ]
    },
    {
      "cell_type": "markdown",
      "metadata": {
        "id": "PuVh6gXbae-N"
      },
      "source": [
        "## Dataset exploration\n",
        "\n",
        "While OpenHand already contains a basic dataset, you can easily create and import your own using the application!"
      ]
    },
    {
      "cell_type": "code",
      "metadata": {
        "colab": {
          "base_uri": "https://localhost:8080/",
          "height": 402
        },
        "id": "0muIEgL3ae-N",
        "outputId": "f2e9c959-b923-46a9-8f19-8207b2b5a89b"
      },
      "source": [
        "dataset_df = pd.read_csv(\"https://raw.githubusercontent.com/ArthurFDLR/pose-classification-kit/master/pose_classification_kit/datasets/BodyPose_Dataset.csv\")\n",
        "labels = dataset_df.label.unique()\n",
        "\n",
        "display(Markdown(\"## Complete dataset view\"))\n",
        "display(dataset_df)\n",
        "\n",
        "df_body_labels = dataset_df.groupby('label')\n",
        "\n",
        "display(Markdown(\"## Number of samples per label and hand\"))\n",
        "display(\n",
        "    pd.DataFrame(\n",
        "        [df_body_labels.size()],\n",
        "        columns=labels,\n",
        "        index=[\"Nbr of entries\"],\n",
        "        )\n",
        ")"
      ],
      "execution_count": 2,
      "outputs": [
        {
          "output_type": "display_data",
          "data": {
            "text/markdown": "## Complete dataset view",
            "text/plain": [
              "<IPython.core.display.Markdown object>"
            ]
          },
          "metadata": {
            "tags": []
          }
        },
        {
          "output_type": "display_data",
          "data": {
            "text/html": [
              "<div>\n",
              "<style scoped>\n",
              "    .dataframe tbody tr th:only-of-type {\n",
              "        vertical-align: middle;\n",
              "    }\n",
              "\n",
              "    .dataframe tbody tr th {\n",
              "        vertical-align: top;\n",
              "    }\n",
              "\n",
              "    .dataframe thead th {\n",
              "        text-align: right;\n",
              "    }\n",
              "</style>\n",
              "<table border=\"1\" class=\"dataframe\">\n",
              "  <thead>\n",
              "    <tr style=\"text-align: right;\">\n",
              "      <th></th>\n",
              "      <th>label</th>\n",
              "      <th>accuracy</th>\n",
              "      <th>x0</th>\n",
              "      <th>y0</th>\n",
              "      <th>x1</th>\n",
              "      <th>y1</th>\n",
              "      <th>x2</th>\n",
              "      <th>y2</th>\n",
              "      <th>x3</th>\n",
              "      <th>y3</th>\n",
              "      <th>x4</th>\n",
              "      <th>y4</th>\n",
              "      <th>x5</th>\n",
              "      <th>y5</th>\n",
              "      <th>x6</th>\n",
              "      <th>y6</th>\n",
              "      <th>x7</th>\n",
              "      <th>y7</th>\n",
              "      <th>x8</th>\n",
              "      <th>y8</th>\n",
              "      <th>x9</th>\n",
              "      <th>y9</th>\n",
              "      <th>x10</th>\n",
              "      <th>y10</th>\n",
              "      <th>x11</th>\n",
              "      <th>y11</th>\n",
              "      <th>x12</th>\n",
              "      <th>y12</th>\n",
              "      <th>x13</th>\n",
              "      <th>y13</th>\n",
              "      <th>x14</th>\n",
              "      <th>y14</th>\n",
              "      <th>x15</th>\n",
              "      <th>y15</th>\n",
              "      <th>x16</th>\n",
              "      <th>y16</th>\n",
              "      <th>x17</th>\n",
              "      <th>y17</th>\n",
              "      <th>x18</th>\n",
              "      <th>y18</th>\n",
              "      <th>x19</th>\n",
              "      <th>y19</th>\n",
              "      <th>x20</th>\n",
              "      <th>y20</th>\n",
              "      <th>x21</th>\n",
              "      <th>y21</th>\n",
              "      <th>x22</th>\n",
              "      <th>y22</th>\n",
              "      <th>x23</th>\n",
              "      <th>y23</th>\n",
              "      <th>x24</th>\n",
              "      <th>y24</th>\n",
              "    </tr>\n",
              "  </thead>\n",
              "  <tbody>\n",
              "    <tr>\n",
              "      <th>0</th>\n",
              "      <td>Seated</td>\n",
              "      <td>19.508690</td>\n",
              "      <td>-0.060776</td>\n",
              "      <td>0.497554</td>\n",
              "      <td>-0.085367</td>\n",
              "      <td>0.360305</td>\n",
              "      <td>-0.206404</td>\n",
              "      <td>0.359822</td>\n",
              "      <td>-0.254659</td>\n",
              "      <td>0.157586</td>\n",
              "      <td>-0.068586</td>\n",
              "      <td>0.093048</td>\n",
              "      <td>0.003926</td>\n",
              "      <td>0.367953</td>\n",
              "      <td>0.052554</td>\n",
              "      <td>0.198201</td>\n",
              "      <td>0.052288</td>\n",
              "      <td>0.101291</td>\n",
              "      <td>-0.069057</td>\n",
              "      <td>0.084698</td>\n",
              "      <td>-0.141862</td>\n",
              "      <td>0.068745</td>\n",
              "      <td>-0.003900</td>\n",
              "      <td>-0.117274</td>\n",
              "      <td>0.125038</td>\n",
              "      <td>-0.424617</td>\n",
              "      <td>0.003923</td>\n",
              "      <td>0.092650</td>\n",
              "      <td>0.190280</td>\n",
              "      <td>-0.093207</td>\n",
              "      <td>0.157517</td>\n",
              "      <td>-0.424847</td>\n",
              "      <td>-0.076973</td>\n",
              "      <td>0.537926</td>\n",
              "      <td>-0.020513</td>\n",
              "      <td>0.537848</td>\n",
              "      <td>-0.133506</td>\n",
              "      <td>0.529790</td>\n",
              "      <td>-0.004316</td>\n",
              "      <td>0.521619</td>\n",
              "      <td>0.246689</td>\n",
              "      <td>-0.537926</td>\n",
              "      <td>0.254659</td>\n",
              "      <td>-0.505494</td>\n",
              "      <td>0.125220</td>\n",
              "      <td>-0.481106</td>\n",
              "      <td>0.238224</td>\n",
              "      <td>-0.529721</td>\n",
              "      <td>0.181949</td>\n",
              "      <td>-0.529865</td>\n",
              "      <td>0.117234</td>\n",
              "      <td>-0.472980</td>\n",
              "    </tr>\n",
              "    <tr>\n",
              "      <th>1</th>\n",
              "      <td>Seated</td>\n",
              "      <td>19.548573</td>\n",
              "      <td>-0.064262</td>\n",
              "      <td>0.501585</td>\n",
              "      <td>-0.088978</td>\n",
              "      <td>0.364251</td>\n",
              "      <td>-0.210033</td>\n",
              "      <td>0.363897</td>\n",
              "      <td>-0.250737</td>\n",
              "      <td>0.161617</td>\n",
              "      <td>-0.072216</td>\n",
              "      <td>0.097050</td>\n",
              "      <td>0.000255</td>\n",
              "      <td>0.364359</td>\n",
              "      <td>0.048789</td>\n",
              "      <td>0.202146</td>\n",
              "      <td>0.048557</td>\n",
              "      <td>0.105223</td>\n",
              "      <td>-0.072845</td>\n",
              "      <td>0.088723</td>\n",
              "      <td>-0.145644</td>\n",
              "      <td>0.072785</td>\n",
              "      <td>-0.007609</td>\n",
              "      <td>-0.113116</td>\n",
              "      <td>0.113625</td>\n",
              "      <td>-0.420526</td>\n",
              "      <td>0.000118</td>\n",
              "      <td>0.096654</td>\n",
              "      <td>0.186695</td>\n",
              "      <td>-0.089216</td>\n",
              "      <td>0.153778</td>\n",
              "      <td>-0.428637</td>\n",
              "      <td>-0.080508</td>\n",
              "      <td>0.541949</td>\n",
              "      <td>-0.023966</td>\n",
              "      <td>0.541849</td>\n",
              "      <td>-0.136952</td>\n",
              "      <td>0.533824</td>\n",
              "      <td>-0.007863</td>\n",
              "      <td>0.517799</td>\n",
              "      <td>0.242809</td>\n",
              "      <td>-0.541949</td>\n",
              "      <td>0.250737</td>\n",
              "      <td>-0.517829</td>\n",
              "      <td>0.121459</td>\n",
              "      <td>-0.477317</td>\n",
              "      <td>0.218503</td>\n",
              "      <td>-0.525648</td>\n",
              "      <td>0.170166</td>\n",
              "      <td>-0.525665</td>\n",
              "      <td>0.113249</td>\n",
              "      <td>-0.468936</td>\n",
              "    </tr>\n",
              "    <tr>\n",
              "      <th>...</th>\n",
              "      <td>...</td>\n",
              "      <td>...</td>\n",
              "      <td>...</td>\n",
              "      <td>...</td>\n",
              "      <td>...</td>\n",
              "      <td>...</td>\n",
              "      <td>...</td>\n",
              "      <td>...</td>\n",
              "      <td>...</td>\n",
              "      <td>...</td>\n",
              "      <td>...</td>\n",
              "      <td>...</td>\n",
              "      <td>...</td>\n",
              "      <td>...</td>\n",
              "      <td>...</td>\n",
              "      <td>...</td>\n",
              "      <td>...</td>\n",
              "      <td>...</td>\n",
              "      <td>...</td>\n",
              "      <td>...</td>\n",
              "      <td>...</td>\n",
              "      <td>...</td>\n",
              "      <td>...</td>\n",
              "      <td>...</td>\n",
              "      <td>...</td>\n",
              "      <td>...</td>\n",
              "      <td>...</td>\n",
              "      <td>...</td>\n",
              "      <td>...</td>\n",
              "      <td>...</td>\n",
              "      <td>...</td>\n",
              "      <td>...</td>\n",
              "      <td>...</td>\n",
              "      <td>...</td>\n",
              "      <td>...</td>\n",
              "      <td>...</td>\n",
              "      <td>...</td>\n",
              "      <td>...</td>\n",
              "      <td>...</td>\n",
              "      <td>...</td>\n",
              "      <td>...</td>\n",
              "      <td>...</td>\n",
              "      <td>...</td>\n",
              "      <td>...</td>\n",
              "      <td>...</td>\n",
              "      <td>...</td>\n",
              "      <td>...</td>\n",
              "      <td>...</td>\n",
              "      <td>...</td>\n",
              "      <td>...</td>\n",
              "      <td>...</td>\n",
              "      <td>...</td>\n",
              "    </tr>\n",
              "    <tr>\n",
              "      <th>4775</th>\n",
              "      <td>Warrior2_right</td>\n",
              "      <td>19.477709</td>\n",
              "      <td>-0.112819</td>\n",
              "      <td>0.379597</td>\n",
              "      <td>-0.012480</td>\n",
              "      <td>0.266645</td>\n",
              "      <td>-0.131722</td>\n",
              "      <td>0.272748</td>\n",
              "      <td>-0.326262</td>\n",
              "      <td>0.272838</td>\n",
              "      <td>-0.476629</td>\n",
              "      <td>0.272996</td>\n",
              "      <td>0.100155</td>\n",
              "      <td>0.266382</td>\n",
              "      <td>0.257147</td>\n",
              "      <td>0.228754</td>\n",
              "      <td>0.445348</td>\n",
              "      <td>0.229094</td>\n",
              "      <td>0.043686</td>\n",
              "      <td>-0.053334</td>\n",
              "      <td>-0.043725</td>\n",
              "      <td>-0.053285</td>\n",
              "      <td>-0.238322</td>\n",
              "      <td>-0.116005</td>\n",
              "      <td>-0.225740</td>\n",
              "      <td>-0.335506</td>\n",
              "      <td>0.106643</td>\n",
              "      <td>-0.047116</td>\n",
              "      <td>0.294830</td>\n",
              "      <td>-0.203900</td>\n",
              "      <td>0.457601</td>\n",
              "      <td>-0.329363</td>\n",
              "      <td>-0.113076</td>\n",
              "      <td>0.404608</td>\n",
              "      <td>-0.094174</td>\n",
              "      <td>0.404547</td>\n",
              "      <td>0.000000</td>\n",
              "      <td>0.000000</td>\n",
              "      <td>-0.012639</td>\n",
              "      <td>0.379828</td>\n",
              "      <td>0.451243</td>\n",
              "      <td>-0.404608</td>\n",
              "      <td>0.476592</td>\n",
              "      <td>-0.385756</td>\n",
              "      <td>0.476629</td>\n",
              "      <td>-0.329575</td>\n",
              "      <td>-0.338578</td>\n",
              "      <td>-0.385679</td>\n",
              "      <td>-0.326176</td>\n",
              "      <td>-0.373277</td>\n",
              "      <td>-0.194672</td>\n",
              "      <td>-0.372831</td>\n",
              "    </tr>\n",
              "    <tr>\n",
              "      <th>4776</th>\n",
              "      <td>Warrior2_right</td>\n",
              "      <td>19.388601</td>\n",
              "      <td>-0.104081</td>\n",
              "      <td>0.384374</td>\n",
              "      <td>-0.003160</td>\n",
              "      <td>0.271034</td>\n",
              "      <td>-0.122844</td>\n",
              "      <td>0.277137</td>\n",
              "      <td>-0.330709</td>\n",
              "      <td>0.277009</td>\n",
              "      <td>-0.482145</td>\n",
              "      <td>0.277112</td>\n",
              "      <td>0.103990</td>\n",
              "      <td>0.270820</td>\n",
              "      <td>0.267796</td>\n",
              "      <td>0.232960</td>\n",
              "      <td>0.456595</td>\n",
              "      <td>0.233340</td>\n",
              "      <td>0.047115</td>\n",
              "      <td>-0.050467</td>\n",
              "      <td>-0.040740</td>\n",
              "      <td>-0.050435</td>\n",
              "      <td>-0.236115</td>\n",
              "      <td>-0.113466</td>\n",
              "      <td>-0.223615</td>\n",
              "      <td>-0.334045</td>\n",
              "      <td>0.110384</td>\n",
              "      <td>-0.044206</td>\n",
              "      <td>0.305363</td>\n",
              "      <td>-0.207901</td>\n",
              "      <td>0.463014</td>\n",
              "      <td>-0.327914</td>\n",
              "      <td>-0.110193</td>\n",
              "      <td>0.409607</td>\n",
              "      <td>-0.091275</td>\n",
              "      <td>0.403390</td>\n",
              "      <td>0.000000</td>\n",
              "      <td>0.000000</td>\n",
              "      <td>-0.003413</td>\n",
              "      <td>0.384700</td>\n",
              "      <td>0.456612</td>\n",
              "      <td>-0.409607</td>\n",
              "      <td>0.482145</td>\n",
              "      <td>-0.384608</td>\n",
              "      <td>0.482145</td>\n",
              "      <td>-0.334005</td>\n",
              "      <td>-0.337035</td>\n",
              "      <td>-0.384421</td>\n",
              "      <td>-0.324586</td>\n",
              "      <td>-0.371971</td>\n",
              "      <td>-0.192422</td>\n",
              "      <td>-0.371559</td>\n",
              "    </tr>\n",
              "  </tbody>\n",
              "</table>\n",
              "<p>4777 rows × 52 columns</p>\n",
              "</div>"
            ],
            "text/plain": [
              "               label   accuracy        x0        y0        x1        y1  \\\n",
              "0             Seated  19.508690 -0.060776  0.497554 -0.085367  0.360305   \n",
              "1             Seated  19.548573 -0.064262  0.501585 -0.088978  0.364251   \n",
              "...              ...        ...       ...       ...       ...       ...   \n",
              "4775  Warrior2_right  19.477709 -0.112819  0.379597 -0.012480  0.266645   \n",
              "4776  Warrior2_right  19.388601 -0.104081  0.384374 -0.003160  0.271034   \n",
              "\n",
              "            x2        y2        x3        y3        x4        y4        x5  \\\n",
              "0    -0.206404  0.359822 -0.254659  0.157586 -0.068586  0.093048  0.003926   \n",
              "1    -0.210033  0.363897 -0.250737  0.161617 -0.072216  0.097050  0.000255   \n",
              "...        ...       ...       ...       ...       ...       ...       ...   \n",
              "4775 -0.131722  0.272748 -0.326262  0.272838 -0.476629  0.272996  0.100155   \n",
              "4776 -0.122844  0.277137 -0.330709  0.277009 -0.482145  0.277112  0.103990   \n",
              "\n",
              "            y5        x6        y6        x7        y7        x8        y8  \\\n",
              "0     0.367953  0.052554  0.198201  0.052288  0.101291 -0.069057  0.084698   \n",
              "1     0.364359  0.048789  0.202146  0.048557  0.105223 -0.072845  0.088723   \n",
              "...        ...       ...       ...       ...       ...       ...       ...   \n",
              "4775  0.266382  0.257147  0.228754  0.445348  0.229094  0.043686 -0.053334   \n",
              "4776  0.270820  0.267796  0.232960  0.456595  0.233340  0.047115 -0.050467   \n",
              "\n",
              "            x9        y9       x10       y10       x11       y11       x12  \\\n",
              "0    -0.141862  0.068745 -0.003900 -0.117274  0.125038 -0.424617  0.003923   \n",
              "1    -0.145644  0.072785 -0.007609 -0.113116  0.113625 -0.420526  0.000118   \n",
              "...        ...       ...       ...       ...       ...       ...       ...   \n",
              "4775 -0.043725 -0.053285 -0.238322 -0.116005 -0.225740 -0.335506  0.106643   \n",
              "4776 -0.040740 -0.050435 -0.236115 -0.113466 -0.223615 -0.334045  0.110384   \n",
              "\n",
              "           y12       x13       y13       x14       y14       x15       y15  \\\n",
              "0     0.092650  0.190280 -0.093207  0.157517 -0.424847 -0.076973  0.537926   \n",
              "1     0.096654  0.186695 -0.089216  0.153778 -0.428637 -0.080508  0.541949   \n",
              "...        ...       ...       ...       ...       ...       ...       ...   \n",
              "4775 -0.047116  0.294830 -0.203900  0.457601 -0.329363 -0.113076  0.404608   \n",
              "4776 -0.044206  0.305363 -0.207901  0.463014 -0.327914 -0.110193  0.409607   \n",
              "\n",
              "           x16       y16       x17       y17       x18       y18       x19  \\\n",
              "0    -0.020513  0.537848 -0.133506  0.529790 -0.004316  0.521619  0.246689   \n",
              "1    -0.023966  0.541849 -0.136952  0.533824 -0.007863  0.517799  0.242809   \n",
              "...        ...       ...       ...       ...       ...       ...       ...   \n",
              "4775 -0.094174  0.404547  0.000000  0.000000 -0.012639  0.379828  0.451243   \n",
              "4776 -0.091275  0.403390  0.000000  0.000000 -0.003413  0.384700  0.456612   \n",
              "\n",
              "           y19       x20       y20       x21       y21       x22       y22  \\\n",
              "0    -0.537926  0.254659 -0.505494  0.125220 -0.481106  0.238224 -0.529721   \n",
              "1    -0.541949  0.250737 -0.517829  0.121459 -0.477317  0.218503 -0.525648   \n",
              "...        ...       ...       ...       ...       ...       ...       ...   \n",
              "4775 -0.404608  0.476592 -0.385756  0.476629 -0.329575 -0.338578 -0.385679   \n",
              "4776 -0.409607  0.482145 -0.384608  0.482145 -0.334005 -0.337035 -0.384421   \n",
              "\n",
              "           x23       y23       x24       y24  \n",
              "0     0.181949 -0.529865  0.117234 -0.472980  \n",
              "1     0.170166 -0.525665  0.113249 -0.468936  \n",
              "...        ...       ...       ...       ...  \n",
              "4775 -0.326176 -0.373277 -0.194672 -0.372831  \n",
              "4776 -0.324586 -0.371971 -0.192422 -0.371559  \n",
              "\n",
              "[4777 rows x 52 columns]"
            ]
          },
          "metadata": {
            "tags": []
          }
        },
        {
          "output_type": "display_data",
          "data": {
            "text/markdown": "## Number of samples per label and hand",
            "text/plain": [
              "<IPython.core.display.Markdown object>"
            ]
          },
          "metadata": {
            "tags": []
          }
        },
        {
          "output_type": "display_data",
          "data": {
            "text/html": [
              "<div>\n",
              "<style scoped>\n",
              "    .dataframe tbody tr th:only-of-type {\n",
              "        vertical-align: middle;\n",
              "    }\n",
              "\n",
              "    .dataframe tbody tr th {\n",
              "        vertical-align: top;\n",
              "    }\n",
              "\n",
              "    .dataframe thead th {\n",
              "        text-align: right;\n",
              "    }\n",
              "</style>\n",
              "<table border=\"1\" class=\"dataframe\">\n",
              "  <thead>\n",
              "    <tr style=\"text-align: right;\">\n",
              "      <th></th>\n",
              "      <th>Seated</th>\n",
              "      <th>Stand_RightArmRaised</th>\n",
              "      <th>standing</th>\n",
              "      <th>T</th>\n",
              "      <th>Tree_left</th>\n",
              "      <th>Tree_right</th>\n",
              "      <th>UpwardSalute</th>\n",
              "      <th>Warrior2_left</th>\n",
              "      <th>Warrior2_right</th>\n",
              "    </tr>\n",
              "  </thead>\n",
              "  <tbody>\n",
              "    <tr>\n",
              "      <th>Nbr of entries</th>\n",
              "      <td>606</td>\n",
              "      <td>503</td>\n",
              "      <td>521</td>\n",
              "      <td>503</td>\n",
              "      <td>580</td>\n",
              "      <td>502</td>\n",
              "      <td>526</td>\n",
              "      <td>521</td>\n",
              "      <td>515</td>\n",
              "    </tr>\n",
              "  </tbody>\n",
              "</table>\n",
              "</div>"
            ],
            "text/plain": [
              "                Seated  Stand_RightArmRaised  standing    T  Tree_left  \\\n",
              "Nbr of entries     606                   503       521  503        580   \n",
              "\n",
              "                Tree_right  UpwardSalute  Warrior2_left  Warrior2_right  \n",
              "Nbr of entries         502           526            521             515  "
            ]
          },
          "metadata": {
            "tags": []
          }
        }
      ]
    },
    {
      "cell_type": "code",
      "metadata": {
        "id": "T5gf3-JuXcT8",
        "colab": {
          "base_uri": "https://localhost:8080/",
          "height": 265
        },
        "outputId": "f11face5-4c93-4515-b5b9-773b16bff542"
      },
      "source": [
        "label_display = labels\n",
        "posePartPairs = [1, 8, 1, 2, 1, 5, 2, 3, 3, 4, 5, 6, 6, 7, 8, 9, 9, 10, 10, 11, 8, 12, 12, 13, 13, 14, 1, 0, 0, 15, 15, 17, 0, 16, 16, 18, 14, 19, 19, 20, 14, 21, 11, 22, 22, 23, 11, 24]\n",
        "\n",
        "fig, axs = plt.subplots(1, len(label_display), figsize=(len(labels)*2,4))\n",
        "\n",
        "for ax, label in zip(axs, label_display):\n",
        "    sample_data = dataset_df[(dataset_df.label==label)].drop(['label', 'accuracy'], axis=1).to_numpy().mean(axis=0)\n",
        "    sample_data_2D = np.stack([sample_data[::2], sample_data[1::2]]).T\n",
        "    for keypoint_1, keypoint_2 in np.stack([posePartPairs[::2], posePartPairs[1::2]]).T:\n",
        "        ax.plot(sample_data_2D[(keypoint_1, keypoint_2),0],\n",
        "                sample_data_2D[(keypoint_1, keypoint_2),1])\n",
        "        ax.set_aspect(\"equal\")\n",
        "        ax.axis('off')\n",
        "        ax.set_ylim([-.7,.7])\n",
        "        ax.set_title(label.replace('_', ' '), fontsize=16)\n",
        "\n",
        "fig.tight_layout()\n",
        "fig.show()"
      ],
      "execution_count": 3,
      "outputs": [
        {
          "output_type": "display_data",
          "data": {
            "image/png": "[encoded data removed]",
            "text/plain": [
              "<Figure size 1296x288 with 9 Axes>"
            ]
          },
          "metadata": {
            "tags": [],
            "needs_background": "light"
          }
        }
      ]
    },
    {
      "cell_type": "markdown",
      "metadata": {
        "id": "U9_nY094rS5V"
      },
      "source": [
        "Now that we know what the dataset looks like, we can create NumPy arrays to train TensorFlow models. We are only using samples associated with the right hand. However, you can easily use the whole dataset to train a single neural network through hands vertical symmetry."
      ]
    },
    {
      "cell_type": "code",
      "metadata": {
        "colab": {
          "base_uri": "https://localhost:8080/",
          "height": 267
        },
        "id": "ydpdIG-gae-O",
        "outputId": "7ea50541-1ce1-41f1-c4ca-2259e609ade2"
      },
      "source": [
        "test_split = 0.15\n",
        "\n",
        "# Find the minimum number of samples accross categories to uniformly distributed sample sets\n",
        "total_size_cat = df_body_labels.size().min()\n",
        "test_size_cat  = int(total_size_cat*test_split)\n",
        "train_size_cat = total_size_cat - test_size_cat\n",
        "\n",
        "x_train = []\n",
        "x_test  = []\n",
        "y_train = []\n",
        "y_test  = []\n",
        "\n",
        "# Iterate over each labeled group\n",
        "for label, group in df_body_labels:\n",
        "    # remove irrelevant columns\n",
        "    group_array = group.drop(['label', 'accuracy'], axis=1).to_numpy()\n",
        "    np.random.shuffle(group_array)\n",
        "    \n",
        "    x_train.append(group_array[:train_size_cat])\n",
        "    y_train.append([label]*train_size_cat)\n",
        "    x_test.append(group_array[train_size_cat : train_size_cat+test_size_cat])\n",
        "    y_test.append([label]*test_size_cat)\n",
        "\n",
        "# Concatenate sample sets as numpy arrays and shuffle in unison\n",
        "shuffler_test = np.random.permutation(test_size_cat*len(labels))\n",
        "shuffler_train = np.random.permutation(train_size_cat*len(labels))\n",
        "x_train = np.concatenate(x_train, axis=0)[shuffler_train]\n",
        "x_test = np.concatenate(x_test, axis=0)[shuffler_test]\n",
        "y_train = np.concatenate(y_train, axis=0)[shuffler_train]\n",
        "y_test = np.concatenate(y_test, axis=0)[shuffler_test]\n",
        "\n",
        "# One-hot encoding\n",
        "y_train_onehot = keras.utils.to_categorical([list(labels).index(sample) for sample in y_train])\n",
        "y_test_onehot  = keras.utils.to_categorical([list(labels).index(sample) for sample in y_test])\n",
        "\n",
        "display(HTML('''There are {n_cat} categories with a minimum of {min} samples.\n",
        "                Given a training/test split ratio of {split}% on uniformly distributed sets,\n",
        "                the training set has {n_train} samples and the test set has {n_test} samples:'''\n",
        "             .format(n_cat=len(labels), min=total_size_cat, split=test_split*100, n_train=x_train.shape[0], n_test=x_test.shape[0])))\n",
        "display(pd.DataFrame([str(d.shape) for d in (x_train, x_test, y_train, y_test, y_train_onehot, y_test_onehot)],\n",
        "                     index = ['x_train', 'x_test', 'y_train', 'y_test', 'y_train_onehot', 'y_test_onehot'],\n",
        "                     columns = ['shape']))"
      ],
      "execution_count": 4,
      "outputs": [
        {
          "output_type": "display_data",
          "data": {
            "text/html": [
              "There are 9 categories with a minimum of 502 samples.\n",
              "                Given a training/test split ratio of 15.0% on uniformly distributed sets,\n",
              "                the training set has 3843 samples and the test set has 675 samples:"
            ],
            "text/plain": [
              "<IPython.core.display.HTML object>"
            ]
          },
          "metadata": {
            "tags": []
          }
        },
        {
          "output_type": "display_data",
          "data": {
            "text/html": [
              "<div>\n",
              "<style scoped>\n",
              "    .dataframe tbody tr th:only-of-type {\n",
              "        vertical-align: middle;\n",
              "    }\n",
              "\n",
              "    .dataframe tbody tr th {\n",
              "        vertical-align: top;\n",
              "    }\n",
              "\n",
              "    .dataframe thead th {\n",
              "        text-align: right;\n",
              "    }\n",
              "</style>\n",
              "<table border=\"1\" class=\"dataframe\">\n",
              "  <thead>\n",
              "    <tr style=\"text-align: right;\">\n",
              "      <th></th>\n",
              "      <th>shape</th>\n",
              "    </tr>\n",
              "  </thead>\n",
              "  <tbody>\n",
              "    <tr>\n",
              "      <th>x_train</th>\n",
              "      <td>(3843, 50)</td>\n",
              "    </tr>\n",
              "    <tr>\n",
              "      <th>x_test</th>\n",
              "      <td>(675, 50)</td>\n",
              "    </tr>\n",
              "    <tr>\n",
              "      <th>y_train</th>\n",
              "      <td>(3843,)</td>\n",
              "    </tr>\n",
              "    <tr>\n",
              "      <th>y_test</th>\n",
              "      <td>(675,)</td>\n",
              "    </tr>\n",
              "    <tr>\n",
              "      <th>y_train_onehot</th>\n",
              "      <td>(3843, 9)</td>\n",
              "    </tr>\n",
              "    <tr>\n",
              "      <th>y_test_onehot</th>\n",
              "      <td>(675, 9)</td>\n",
              "    </tr>\n",
              "  </tbody>\n",
              "</table>\n",
              "</div>"
            ],
            "text/plain": [
              "                     shape\n",
              "x_train         (3843, 50)\n",
              "x_test           (675, 50)\n",
              "y_train            (3843,)\n",
              "y_test              (675,)\n",
              "y_train_onehot   (3843, 9)\n",
              "y_test_onehot     (675, 9)"
            ]
          },
          "metadata": {
            "tags": []
          }
        }
      ]
    },
    {
      "cell_type": "markdown",
      "metadata": {
        "id": "xRWuVIAHae-P"
      },
      "source": [
        "## Models exploration\n",
        "\n",
        "This section is optional. The following blocks can be used to compare different model architecture and training processes."
      ]
    },
    {
      "cell_type": "code",
      "metadata": {
        "id": "93-aeO7Sae-P"
      },
      "source": [
        "model_train_history = {}\n",
        "input_dim = x_train.shape[1]\n",
        "validation_split = 0.20\n",
        "epochs = 10"
      ],
      "execution_count": 5,
      "outputs": []
    },
    {
      "cell_type": "code",
      "metadata": {
        "colab": {
          "base_uri": "https://localhost:8080/"
        },
        "id": "lUaetVfOae-Q",
        "outputId": "119013df-d37e-4aec-8d55-3392ca4789c5"
      },
      "source": [
        "model = keras.models.Sequential(name = 'ANN-3x64-Dropouts',\n",
        "                                   layers =\n",
        "    [\n",
        "        keras.layers.InputLayer(input_shape=input_dim),\n",
        "        keras.layers.Dense(64, activation=keras.activations.relu),\n",
        "        keras.layers.Dropout(0.3),\n",
        "        keras.layers.Dense(64, activation=keras.activations.relu),\n",
        "        keras.layers.Dropout(0.3),\n",
        "        keras.layers.Dense(64, activation=keras.activations.relu),\n",
        "        keras.layers.Dropout(0.3),\n",
        "        keras.layers.Dense(len(labels), activation=keras.activations.softmax),\n",
        "    ]\n",
        ")\n",
        "\n",
        "model.summary()\n",
        "model.compile(\n",
        "    optimizer=keras.optimizers.Adam(),\n",
        "    loss='categorical_crossentropy',\n",
        "    metrics=['accuracy'],\n",
        ")\n",
        "\n",
        "model_train_history[model] = model.fit(\n",
        "    x=x_train,\n",
        "    y=y_train_onehot,\n",
        "    epochs=epochs,\n",
        "    batch_size=4,\n",
        "    validation_split=validation_split,\n",
        "    shuffle=True,\n",
        "    verbose=1,\n",
        ")"
      ],
      "execution_count": 6,
      "outputs": [
        {
          "output_type": "stream",
          "text": [
            "Model: \"ANN-3x64-Dropouts\"\n",
            "_________________________________________________________________\n",
            "Layer (type)                 Output Shape              Param #   \n",
            "=================================================================\n",
            "dense (Dense)                (None, 64)                3264      \n",
            "_________________________________________________________________\n",
            "dropout (Dropout)            (None, 64)                0         \n",
            "_________________________________________________________________\n",
            "dense_1 (Dense)              (None, 64)                4160      \n",
            "_________________________________________________________________\n",
            "dropout_1 (Dropout)          (None, 64)                0         \n",
            "_________________________________________________________________\n",
            "dense_2 (Dense)              (None, 64)                4160      \n",
            "_________________________________________________________________\n",
            "dropout_2 (Dropout)          (None, 64)                0         \n",
            "_________________________________________________________________\n",
            "dense_3 (Dense)              (None, 9)                 585       \n",
            "=================================================================\n",
            "Total params: 12,169\n",
            "Trainable params: 12,169\n",
            "Non-trainable params: 0\n",
            "_________________________________________________________________\n",
            "Epoch 1/10\n",
            "769/769 [==============================] - 5s 3ms/step - loss: 1.2111 - accuracy: 0.5862 - val_loss: 0.1698 - val_accuracy: 0.9688\n",
            "Epoch 2/10\n",
            "769/769 [==============================] - 2s 3ms/step - loss: 0.3227 - accuracy: 0.9040 - val_loss: 0.0500 - val_accuracy: 0.9857\n",
            "Epoch 3/10\n",
            "769/769 [==============================] - 2s 3ms/step - loss: 0.1738 - accuracy: 0.9480 - val_loss: 0.0314 - val_accuracy: 0.9896\n",
            "Epoch 4/10\n",
            "769/769 [==============================] - 2s 3ms/step - loss: 0.1375 - accuracy: 0.9619 - val_loss: 0.0187 - val_accuracy: 0.9974\n",
            "Epoch 5/10\n",
            "769/769 [==============================] - 2s 3ms/step - loss: 0.1044 - accuracy: 0.9694 - val_loss: 0.0295 - val_accuracy: 0.9857\n",
            "Epoch 6/10\n",
            "769/769 [==============================] - 2s 3ms/step - loss: 0.0932 - accuracy: 0.9753 - val_loss: 0.0149 - val_accuracy: 0.9948\n",
            "Epoch 7/10\n",
            "769/769 [==============================] - 2s 3ms/step - loss: 0.0800 - accuracy: 0.9772 - val_loss: 0.0080 - val_accuracy: 0.9961\n",
            "Epoch 8/10\n",
            "769/769 [==============================] - 2s 3ms/step - loss: 0.0760 - accuracy: 0.9772 - val_loss: 0.0089 - val_accuracy: 0.9974\n",
            "Epoch 9/10\n",
            "769/769 [==============================] - 2s 3ms/step - loss: 0.0608 - accuracy: 0.9821 - val_loss: 0.0434 - val_accuracy: 0.9870\n",
            "Epoch 10/10\n",
            "769/769 [==============================] - 2s 3ms/step - loss: 0.0712 - accuracy: 0.9811 - val_loss: 0.0059 - val_accuracy: 0.9987\n"
          ],
          "name": "stdout"
        }
      ]
    },
    {
      "cell_type": "code",
      "metadata": {
        "colab": {
          "base_uri": "https://localhost:8080/",
          "height": 355
        },
        "id": "4UhLcq1Jae-R",
        "outputId": "eaa85125-10c6-4715-c9c6-d547ca532bfb"
      },
      "source": [
        "fig, axs = plt.subplots(1, 2, figsize=(14,5))\n",
        "colors_graph = [\"#d69e2d\",\n",
        "                \"#927ced\",\n",
        "                \"#73bd4d\",\n",
        "                \"#e462c0\",\n",
        "                \"#eb5e52\"]\n",
        "handles = []\n",
        "\n",
        "for (model, history), color in zip(model_train_history.items(), colors_graph):\n",
        "    label = '{} ({})'.format(model.name, model.count_params())\n",
        "    axs[0].plot(history.history['loss'], c=color, ls='-.', alpha=.7)\n",
        "    axs[1].plot(history.history['accuracy'], c=color, ls='-.', alpha=.7)\n",
        "    axs[0].plot(history.history['val_loss'], c=color)\n",
        "    axs[1].plot(history.history['val_accuracy'], c=color)\n",
        "    handles.append(mpatches.Patch(color=color, label=label))\n",
        "\n",
        "for ax in axs:\n",
        "    ax.set_xlabel('Epoch')\n",
        "axs[0].set_ylabel('loss')\n",
        "axs[0].set_yscale('log')\n",
        "axs[1].set_ylabel('accuracy')\n",
        "axs[1].set_ylim(0.95,1.01)\n",
        "\n",
        "handles.append(Line2D([0], [0], color='grey', lw=1, ls='-', label='validation'))\n",
        "handles.append(Line2D([0], [0], color='grey', lw=1, ls='-.', label='training'))\n",
        "\n",
        "fig.subplots_adjust(right=0.85)\n",
        "fig.legend(handles=handles,\n",
        "           loc=\"center right\",\n",
        "           borderaxespad=1)"
      ],
      "execution_count": 7,
      "outputs": [
        {
          "output_type": "execute_result",
          "data": {
            "text/plain": [
              "<matplotlib.legend.Legend at 0x7f015d48ad90>"
            ]
          },
          "metadata": {
            "tags": []
          },
          "execution_count": 7
        },
        {
          "output_type": "display_data",
          "data": {
            "image/png": "[encoded data removed]",
            "text/plain": [
              "<Figure size 1008x360 with 2 Axes>"
            ]
          },
          "metadata": {
            "tags": [],
            "needs_background": "light"
          }
        }
      ]
    },
    {
      "cell_type": "markdown",
      "metadata": {
        "id": "JmJ_LECNae-R"
      },
      "source": [
        "## Model export"
      ]
    },
    {
      "cell_type": "markdown",
      "metadata": {
        "id": "km8bpVuSrwPE"
      },
      "source": [
        "Once you have a good model, you can save it on your Google Drive. The model is saved using the [folder hierarchy of the Pose Classifier Kit](https://github.com/ArthurFDLR/pose-classification-kit#pose-classifier-models)."
      ]
    },
    {
      "cell_type": "code",
      "metadata": {
        "colab": {
          "base_uri": "https://localhost:8080/"
        },
        "id": "MyD7zsZSfuMk",
        "outputId": "6d6d6d12-c7c3-4507-8999-7ec6cd7e5d5f"
      },
      "source": [
        "from google.colab import drive\n",
        "from pathlib import Path\n",
        "\n",
        "content_path = Path('/').absolute() / 'content'\n",
        "drive_path = content_path / 'drive'\n",
        "drive.mount(str(drive_path))"
      ],
      "execution_count": 8,
      "outputs": [
        {
          "output_type": "stream",
          "text": [
            "Mounted at /content/drive\n"
          ],
          "name": "stdout"
        }
      ]
    },
    {
      "cell_type": "code",
      "metadata": {
        "colab": {
          "base_uri": "https://localhost:8080/"
        },
        "id": "5pc5o55gae-R",
        "outputId": "cdf99096-2f21-4ae4-e0ef-36f80f36a914"
      },
      "source": [
        "model = keras.models.Sequential(name = '9Classes_3x64',\n",
        "                                   layers =\n",
        "    [\n",
        "        keras.layers.InputLayer(input_shape=input_dim),\n",
        "        keras.layers.Dense(64, activation=keras.activations.relu),\n",
        "        keras.layers.Dense(64, activation=keras.activations.relu),\n",
        "        keras.layers.Dense(64, activation=keras.activations.relu),\n",
        "        keras.layers.Dense(len(labels), activation=keras.activations.softmax),\n",
        "    ]\n",
        ")\n",
        "\n",
        "model.summary()\n",
        "model.compile(\n",
        "    optimizer=keras.optimizers.Adam(),\n",
        "    loss='categorical_crossentropy',\n",
        "    metrics=['accuracy'],\n",
        ")\n",
        "\n",
        "save_path = drive_path / 'My Drive'\n",
        "for subfolder in ['Pose Classification Kit', 'Models', model.name]:\n",
        "    save_path /= subfolder\n",
        "    if not (save_path).is_dir():\n",
        "        %mkdir \"{save_path}\"\n",
        "\n",
        "\n",
        "model_path = save_path / '{name}_body.h5'.format(name = model.name)\n",
        "\n",
        "model.fit(\n",
        "    x=x_train,\n",
        "    y=y_train_onehot,\n",
        "    epochs=10,\n",
        "    batch_size=4,\n",
        "    validation_split=0.15,\n",
        "    shuffle=True,\n",
        "    callbacks=[keras.callbacks.ModelCheckpoint(filepath=model_path, verbose=1, save_best_only=True)],\n",
        "    verbose = 2,\n",
        ")\n",
        "\n",
        "class_file = open(save_path / 'class.txt', 'w')\n",
        "for i, label_i in enumerate(labels):\n",
        "    class_file.write((',' if i!=0 else '') + label_i)\n",
        "class_file.close()"
      ],
      "execution_count": 9,
      "outputs": [
        {
          "output_type": "stream",
          "text": [
            "Model: \"9Classes_3x64\"\n",
            "_________________________________________________________________\n",
            "Layer (type)                 Output Shape              Param #   \n",
            "=================================================================\n",
            "dense_4 (Dense)              (None, 64)                3264      \n",
            "_________________________________________________________________\n",
            "dense_5 (Dense)              (None, 64)                4160      \n",
            "_________________________________________________________________\n",
            "dense_6 (Dense)              (None, 64)                4160      \n",
            "_________________________________________________________________\n",
            "dense_7 (Dense)              (None, 9)                 585       \n",
            "=================================================================\n",
            "Total params: 12,169\n",
            "Trainable params: 12,169\n",
            "Non-trainable params: 0\n",
            "_________________________________________________________________\n",
            "Epoch 1/10\n",
            "817/817 - 2s - loss: 0.5638 - accuracy: 0.8417 - val_loss: 0.0525 - val_accuracy: 0.9896\n",
            "\n",
            "Epoch 00001: val_loss improved from inf to 0.05252, saving model to /content/drive/My Drive/Pose Classification Kit/Models/9Classes_3x64/9Classes_3x64_body.h5\n",
            "Epoch 2/10\n",
            "817/817 - 2s - loss: 0.0545 - accuracy: 0.9838 - val_loss: 0.0143 - val_accuracy: 0.9983\n",
            "\n",
            "Epoch 00002: val_loss improved from 0.05252 to 0.01431, saving model to /content/drive/My Drive/Pose Classification Kit/Models/9Classes_3x64/9Classes_3x64_body.h5\n",
            "Epoch 3/10\n",
            "817/817 - 2s - loss: 0.0384 - accuracy: 0.9905 - val_loss: 0.0246 - val_accuracy: 0.9896\n",
            "\n",
            "Epoch 00003: val_loss did not improve from 0.01431\n",
            "Epoch 4/10\n",
            "817/817 - 2s - loss: 0.0220 - accuracy: 0.9948 - val_loss: 0.0118 - val_accuracy: 0.9983\n",
            "\n",
            "Epoch 00004: val_loss improved from 0.01431 to 0.01181, saving model to /content/drive/My Drive/Pose Classification Kit/Models/9Classes_3x64/9Classes_3x64_body.h5\n",
            "Epoch 5/10\n",
            "817/817 - 2s - loss: 0.0234 - accuracy: 0.9951 - val_loss: 0.0049 - val_accuracy: 0.9983\n",
            "\n",
            "Epoch 00005: val_loss improved from 0.01181 to 0.00487, saving model to /content/drive/My Drive/Pose Classification Kit/Models/9Classes_3x64/9Classes_3x64_body.h5\n",
            "Epoch 6/10\n",
            "817/817 - 2s - loss: 0.0218 - accuracy: 0.9954 - val_loss: 0.0029 - val_accuracy: 1.0000\n",
            "\n",
            "Epoch 00006: val_loss improved from 0.00487 to 0.00291, saving model to /content/drive/My Drive/Pose Classification Kit/Models/9Classes_3x64/9Classes_3x64_body.h5\n",
            "Epoch 7/10\n",
            "817/817 - 2s - loss: 0.0220 - accuracy: 0.9951 - val_loss: 0.1887 - val_accuracy: 0.9567\n",
            "\n",
            "Epoch 00007: val_loss did not improve from 0.00291\n",
            "Epoch 8/10\n",
            "817/817 - 2s - loss: 0.0184 - accuracy: 0.9945 - val_loss: 0.0022 - val_accuracy: 1.0000\n",
            "\n",
            "Epoch 00008: val_loss improved from 0.00291 to 0.00223, saving model to /content/drive/My Drive/Pose Classification Kit/Models/9Classes_3x64/9Classes_3x64_body.h5\n",
            "Epoch 9/10\n",
            "817/817 - 2s - loss: 0.0188 - accuracy: 0.9945 - val_loss: 0.0031 - val_accuracy: 1.0000\n",
            "\n",
            "Epoch 00009: val_loss did not improve from 0.00223\n",
            "Epoch 10/10\n",
            "817/817 - 2s - loss: 0.0134 - accuracy: 0.9966 - val_loss: 0.0089 - val_accuracy: 0.9983\n",
            "\n",
            "Epoch 00010: val_loss did not improve from 0.00223\n"
          ],
          "name": "stdout"
        }
      ]
    },
    {
      "cell_type": "code",
      "metadata": {
        "colab": {
          "base_uri": "https://localhost:8080/"
        },
        "id": "mPMnJf1Vae-S",
        "outputId": "26ed6781-87dd-446e-d5e7-5070afac1a4e"
      },
      "source": [
        "model_test = keras.models.load_model(model_path)\n",
        "model_test.evaluate(x=x_test, y=y_test_onehot)"
      ],
      "execution_count": 10,
      "outputs": [
        {
          "output_type": "stream",
          "text": [
            "22/22 [==============================] - 0s 3ms/step - loss: 0.0159 - accuracy: 0.9985\n"
          ],
          "name": "stdout"
        },
        {
          "output_type": "execute_result",
          "data": {
            "text/plain": [
              "[0.01591985858976841, 0.9985185265541077]"
            ]
          },
          "metadata": {
            "tags": []
          },
          "execution_count": 10
        }
      ]
    },
    {
      "cell_type": "code",
      "metadata": {
        "id": "V3lsa7aKae-S"
      },
      "source": [
        ""
      ],
      "execution_count": null,
      "outputs": []
    }
  ]
}